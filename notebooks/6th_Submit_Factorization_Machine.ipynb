{
 "cells": [
  {
   "cell_type": "code",
   "execution_count": 1,
   "metadata": {},
   "outputs": [],
   "source": [
    "import numpy as np\n",
    "import pandas as pd\n",
    "import matplotlib.pyplot as plt\n"
   ]
  },
  {
   "cell_type": "code",
   "execution_count": 2,
   "metadata": {},
   "outputs": [],
   "source": [
    "import tensorflow as tf"
   ]
  },
  {
   "cell_type": "code",
   "execution_count": 4,
   "metadata": {},
   "outputs": [],
   "source": [
    "from sklearn.model_selection import train_test_split\n",
    "from sklearn.metrics import roc_auc_score, accuracy_score\n",
    "from tffm import TFFMClassifier , utils\n",
    "utils.\n",
    "#Finally"
   ]
  },
  {
   "cell_type": "code",
   "execution_count": 13,
   "metadata": {},
   "outputs": [],
   "source": [
    "df_ad = pd.read_csv('../datadays2020/ad.csv')\n",
    "df_train = pd.read_csv('../datadays2020/click_train.csv')\n",
    "df_event = pd.read_csv('../datadays2020/event.csv')\n",
    "df_page = pd.read_csv('../datadays2020/page.csv')\n",
    "df_topic = pd.read_csv('../datadays2020/page_topic.csv')\n",
    "df_test = pd.read_csv('../datadays2020/click_test.csv')\n",
    "#df_upv = pd.read_csv('data/user_page_view.csv')"
   ]
  },
  {
   "cell_type": "code",
   "execution_count": 14,
   "metadata": {},
   "outputs": [
    {
     "data": {
      "text/html": [
       "<div>\n",
       "<style scoped>\n",
       "    .dataframe tbody tr th:only-of-type {\n",
       "        vertical-align: middle;\n",
       "    }\n",
       "\n",
       "    .dataframe tbody tr th {\n",
       "        vertical-align: top;\n",
       "    }\n",
       "\n",
       "    .dataframe thead th {\n",
       "        text-align: right;\n",
       "    }\n",
       "</style>\n",
       "<table border=\"1\" class=\"dataframe\">\n",
       "  <thead>\n",
       "    <tr style=\"text-align: right;\">\n",
       "      <th></th>\n",
       "      <th>displayId</th>\n",
       "      <th>adId</th>\n",
       "      <th>clicked</th>\n",
       "      <th>timestamp</th>\n",
       "      <th>pageId</th>\n",
       "      <th>widgetId</th>\n",
       "      <th>userId</th>\n",
       "      <th>device</th>\n",
       "      <th>OS</th>\n",
       "      <th>browser</th>\n",
       "    </tr>\n",
       "  </thead>\n",
       "  <tbody>\n",
       "    <tr>\n",
       "      <th>0</th>\n",
       "      <td>1210227</td>\n",
       "      <td>7182</td>\n",
       "      <td>0</td>\n",
       "      <td>2</td>\n",
       "      <td>420857</td>\n",
       "      <td>9519</td>\n",
       "      <td>782749</td>\n",
       "      <td>0</td>\n",
       "      <td>0</td>\n",
       "      <td>1</td>\n",
       "    </tr>\n",
       "    <tr>\n",
       "      <th>1</th>\n",
       "      <td>1210227</td>\n",
       "      <td>7125</td>\n",
       "      <td>0</td>\n",
       "      <td>2</td>\n",
       "      <td>420857</td>\n",
       "      <td>9519</td>\n",
       "      <td>782749</td>\n",
       "      <td>0</td>\n",
       "      <td>0</td>\n",
       "      <td>1</td>\n",
       "    </tr>\n",
       "    <tr>\n",
       "      <th>2</th>\n",
       "      <td>1210227</td>\n",
       "      <td>7181</td>\n",
       "      <td>0</td>\n",
       "      <td>2</td>\n",
       "      <td>420857</td>\n",
       "      <td>9519</td>\n",
       "      <td>782749</td>\n",
       "      <td>0</td>\n",
       "      <td>0</td>\n",
       "      <td>1</td>\n",
       "    </tr>\n",
       "    <tr>\n",
       "      <th>3</th>\n",
       "      <td>1210227</td>\n",
       "      <td>535</td>\n",
       "      <td>0</td>\n",
       "      <td>2</td>\n",
       "      <td>420857</td>\n",
       "      <td>9519</td>\n",
       "      <td>782749</td>\n",
       "      <td>0</td>\n",
       "      <td>0</td>\n",
       "      <td>1</td>\n",
       "    </tr>\n",
       "    <tr>\n",
       "      <th>4</th>\n",
       "      <td>1210227</td>\n",
       "      <td>7174</td>\n",
       "      <td>1</td>\n",
       "      <td>2</td>\n",
       "      <td>420857</td>\n",
       "      <td>9519</td>\n",
       "      <td>782749</td>\n",
       "      <td>0</td>\n",
       "      <td>0</td>\n",
       "      <td>1</td>\n",
       "    </tr>\n",
       "  </tbody>\n",
       "</table>\n",
       "</div>"
      ],
      "text/plain": [
       "   displayId  adId  clicked  timestamp  pageId  widgetId  userId  device  OS  \\\n",
       "0    1210227  7182        0          2  420857      9519  782749       0   0   \n",
       "1    1210227  7125        0          2  420857      9519  782749       0   0   \n",
       "2    1210227  7181        0          2  420857      9519  782749       0   0   \n",
       "3    1210227   535        0          2  420857      9519  782749       0   0   \n",
       "4    1210227  7174        1          2  420857      9519  782749       0   0   \n",
       "\n",
       "   browser  \n",
       "0        1  \n",
       "1        1  \n",
       "2        1  \n",
       "3        1  \n",
       "4        1  "
      ]
     },
     "execution_count": 14,
     "metadata": {},
     "output_type": "execute_result"
    }
   ],
   "source": [
    "df = pd.merge(df_train , df_event , on='displayId' , how='left')\n",
    "dft = pd.merge(df_test , df_event , on='displayId' , how='left')\n",
    "t=min(df_event['timestamp'])\n",
    "timetable = [(0,6), (6,12),(12,18),(18,24)]\n",
    "def discretiseTime(t,timetable):\n",
    "    t=t%24\n",
    "    for i , e in enumerate(timetable):\n",
    "        #print(t , e)\n",
    "        if t>=e[0] and t<= e[1]:\n",
    "            return i\n",
    "\n",
    "df['timestamp'] = df['timestamp'].apply(lambda x : discretiseTime((x-t)/(1000*3600) , timetable)) \n",
    "dft['timestamp'] = dft['timestamp'].apply(lambda x : discretiseTime((x-t)/(1000*3600) , timetable))                                                 \n",
    "df.head()"
   ]
  },
  {
   "cell_type": "code",
   "execution_count": 15,
   "metadata": {},
   "outputs": [
    {
     "data": {
      "text/html": [
       "<div>\n",
       "<style scoped>\n",
       "    .dataframe tbody tr th:only-of-type {\n",
       "        vertical-align: middle;\n",
       "    }\n",
       "\n",
       "    .dataframe tbody tr th {\n",
       "        vertical-align: top;\n",
       "    }\n",
       "\n",
       "    .dataframe thead th {\n",
       "        text-align: right;\n",
       "    }\n",
       "</style>\n",
       "<table border=\"1\" class=\"dataframe\">\n",
       "  <thead>\n",
       "    <tr style=\"text-align: right;\">\n",
       "      <th></th>\n",
       "      <th>displayId</th>\n",
       "      <th>adId</th>\n",
       "      <th>clicked</th>\n",
       "      <th>timestamp</th>\n",
       "      <th>pageId</th>\n",
       "      <th>widgetId</th>\n",
       "      <th>userId</th>\n",
       "      <th>device</th>\n",
       "      <th>OS</th>\n",
       "      <th>browser</th>\n",
       "      <th>website</th>\n",
       "      <th>publisher</th>\n",
       "      <th>topicId</th>\n",
       "      <th>confidence</th>\n",
       "      <th>campaignId</th>\n",
       "      <th>advertiserId</th>\n",
       "    </tr>\n",
       "  </thead>\n",
       "  <tbody>\n",
       "    <tr>\n",
       "      <th>0</th>\n",
       "      <td>1210227</td>\n",
       "      <td>7182</td>\n",
       "      <td>0</td>\n",
       "      <td>2</td>\n",
       "      <td>420857</td>\n",
       "      <td>9519</td>\n",
       "      <td>782749</td>\n",
       "      <td>0</td>\n",
       "      <td>0</td>\n",
       "      <td>1</td>\n",
       "      <td>477</td>\n",
       "      <td>49</td>\n",
       "      <td>20.0</td>\n",
       "      <td>0.316218</td>\n",
       "      <td>3402</td>\n",
       "      <td>7579</td>\n",
       "    </tr>\n",
       "    <tr>\n",
       "      <th>1</th>\n",
       "      <td>1210227</td>\n",
       "      <td>7125</td>\n",
       "      <td>0</td>\n",
       "      <td>2</td>\n",
       "      <td>420857</td>\n",
       "      <td>9519</td>\n",
       "      <td>782749</td>\n",
       "      <td>0</td>\n",
       "      <td>0</td>\n",
       "      <td>1</td>\n",
       "      <td>477</td>\n",
       "      <td>49</td>\n",
       "      <td>20.0</td>\n",
       "      <td>0.316218</td>\n",
       "      <td>251</td>\n",
       "      <td>5971</td>\n",
       "    </tr>\n",
       "    <tr>\n",
       "      <th>2</th>\n",
       "      <td>1210227</td>\n",
       "      <td>7181</td>\n",
       "      <td>0</td>\n",
       "      <td>2</td>\n",
       "      <td>420857</td>\n",
       "      <td>9519</td>\n",
       "      <td>782749</td>\n",
       "      <td>0</td>\n",
       "      <td>0</td>\n",
       "      <td>1</td>\n",
       "      <td>477</td>\n",
       "      <td>49</td>\n",
       "      <td>20.0</td>\n",
       "      <td>0.316218</td>\n",
       "      <td>3402</td>\n",
       "      <td>7579</td>\n",
       "    </tr>\n",
       "    <tr>\n",
       "      <th>3</th>\n",
       "      <td>1210227</td>\n",
       "      <td>535</td>\n",
       "      <td>0</td>\n",
       "      <td>2</td>\n",
       "      <td>420857</td>\n",
       "      <td>9519</td>\n",
       "      <td>782749</td>\n",
       "      <td>0</td>\n",
       "      <td>0</td>\n",
       "      <td>1</td>\n",
       "      <td>477</td>\n",
       "      <td>49</td>\n",
       "      <td>20.0</td>\n",
       "      <td>0.316218</td>\n",
       "      <td>3186</td>\n",
       "      <td>1419</td>\n",
       "    </tr>\n",
       "    <tr>\n",
       "      <th>4</th>\n",
       "      <td>1210227</td>\n",
       "      <td>7174</td>\n",
       "      <td>1</td>\n",
       "      <td>2</td>\n",
       "      <td>420857</td>\n",
       "      <td>9519</td>\n",
       "      <td>782749</td>\n",
       "      <td>0</td>\n",
       "      <td>0</td>\n",
       "      <td>1</td>\n",
       "      <td>477</td>\n",
       "      <td>49</td>\n",
       "      <td>20.0</td>\n",
       "      <td>0.316218</td>\n",
       "      <td>471</td>\n",
       "      <td>5528</td>\n",
       "    </tr>\n",
       "  </tbody>\n",
       "</table>\n",
       "</div>"
      ],
      "text/plain": [
       "   displayId  adId  clicked  timestamp  pageId  widgetId  userId  device  OS  \\\n",
       "0    1210227  7182        0          2  420857      9519  782749       0   0   \n",
       "1    1210227  7125        0          2  420857      9519  782749       0   0   \n",
       "2    1210227  7181        0          2  420857      9519  782749       0   0   \n",
       "3    1210227   535        0          2  420857      9519  782749       0   0   \n",
       "4    1210227  7174        1          2  420857      9519  782749       0   0   \n",
       "\n",
       "   browser  website  publisher  topicId  confidence  campaignId  advertiserId  \n",
       "0        1      477         49     20.0    0.316218        3402          7579  \n",
       "1        1      477         49     20.0    0.316218         251          5971  \n",
       "2        1      477         49     20.0    0.316218        3402          7579  \n",
       "3        1      477         49     20.0    0.316218        3186          1419  \n",
       "4        1      477         49     20.0    0.316218         471          5528  "
      ]
     },
     "execution_count": 15,
     "metadata": {},
     "output_type": "execute_result"
    }
   ],
   "source": [
    "df = pd.merge(df , df_page , on='pageId' , how='left')\n",
    "dft = pd.merge(dft , df_page , on='pageId' , how='left')\n",
    "df_topic=df_topic.sort_values(['pageId' , 'confidence'] , ascending=False)\n",
    "df_topic=df_topic.drop_duplicates(['pageId'])\n",
    "df = pd.merge(df , df_topic , on='pageId' , how='left')\n",
    "dft = pd.merge(dft , df_topic , on='pageId' , how='left')\n",
    "df = pd.merge(df , df_ad , on='adId' , how='left')\n",
    "dft = pd.merge(dft , df_ad , on='adId' , how='left')\n",
    "df.head()"
   ]
  },
  {
   "cell_type": "code",
   "execution_count": 16,
   "metadata": {},
   "outputs": [],
   "source": [
    "df['topicId'] = df['topicId'].fillna(0)\n",
    "df['confidence'] = df['confidence'].fillna(0)\n",
    "dft['topicId'] = dft['topicId'].fillna(0)\n",
    "dft['confidence'] = dft['confidence'].fillna(0)"
   ]
  },
  {
   "cell_type": "code",
   "execution_count": 17,
   "metadata": {},
   "outputs": [],
   "source": [
    "df['clicked'] = df['clicked'].astype(np.int8)\n",
    "df['timestamp'] = df['timestamp'].astype(np.int8)\n",
    "df['pageId'] = df['pageId'].astype(np.int32)\n",
    "df['widgetId'] = df['widgetId'].astype(np.int16)\n",
    "df['userId'] = df['userId'].astype(np.int32)\n",
    "df['device'] = df['device'].astype(np.int8)\n",
    "df['OS'] = df['OS'].astype(np.int8)\n",
    "df['browser'] = df['browser'].astype(np.int8)\n",
    "df['website'] = df['website'].astype(np.int32)\n",
    "df['publisher'] = df['publisher'].astype(np.int16)\n",
    "df['topicId']= df['topicId'].astype(np.int8)\n",
    "df['confidence'] =df['confidence'].astype(np.float32)\n",
    "df['campaignId'] = df['campaignId'].astype(np.int16)\n",
    "df['advertiserId'] = df['advertiserId'].astype(np.int16)\n",
    "\n",
    "#dft['clicked'] = dft['clicked'].astype(np.int8)\n",
    "dft['timestamp'] = dft['timestamp'].astype(np.int8)\n",
    "dft['pageId'] = dft['pageId'].astype(np.int32)\n",
    "dft['widgetId'] = dft['widgetId'].astype(np.int16)\n",
    "dft['userId'] = dft['userId'].astype(np.int32)\n",
    "dft['device'] = dft['device'].astype(np.int8)\n",
    "dft['OS'] = dft['OS'].astype(np.int8)\n",
    "dft['browser'] = dft['browser'].astype(np.int8)\n",
    "dft['website'] = dft['website'].astype(np.int32)\n",
    "dft['publisher'] = dft['publisher'].astype(np.int16)\n",
    "dft['topicId']= dft['topicId'].astype(np.int8)\n",
    "dft['confidence'] =dft['confidence'].astype(np.float32)\n",
    "dft['campaignId'] = dft['campaignId'].astype(np.int16)\n",
    "dft['advertiserId'] = dft['advertiserId'].astype(np.int16)"
   ]
  },
  {
   "cell_type": "code",
   "execution_count": 18,
   "metadata": {},
   "outputs": [],
   "source": [
    "df.to_csv('../temp/trainmerge.csv' , index=False)\n",
    "dft.to_csv('../temp/testmerge.csv' , index=False)"
   ]
  },
  {
   "cell_type": "code",
   "execution_count": 58,
   "metadata": {},
   "outputs": [],
   "source": [
    "features = ['userId','adId' , 'timestamp' , 'device' , 'browser' , 'OS' , 'topicId'   , 'campaignId' , 'advertiserId' , 'widgetId' , 'website' , 'publisher']"
   ]
  },
  {
   "cell_type": "code",
   "execution_count": 59,
   "metadata": {},
   "outputs": [
    {
     "data": {
      "text/html": [
       "<div>\n",
       "<style scoped>\n",
       "    .dataframe tbody tr th:only-of-type {\n",
       "        vertical-align: middle;\n",
       "    }\n",
       "\n",
       "    .dataframe tbody tr th {\n",
       "        vertical-align: top;\n",
       "    }\n",
       "\n",
       "    .dataframe thead th {\n",
       "        text-align: right;\n",
       "    }\n",
       "</style>\n",
       "<table border=\"1\" class=\"dataframe\">\n",
       "  <thead>\n",
       "    <tr style=\"text-align: right;\">\n",
       "      <th></th>\n",
       "      <th>userId</th>\n",
       "      <th>adId</th>\n",
       "      <th>timestamp</th>\n",
       "      <th>device</th>\n",
       "      <th>browser</th>\n",
       "      <th>OS</th>\n",
       "      <th>topicId</th>\n",
       "      <th>campaignId</th>\n",
       "      <th>advertiserId</th>\n",
       "      <th>widgetId</th>\n",
       "      <th>website</th>\n",
       "      <th>publisher</th>\n",
       "    </tr>\n",
       "  </thead>\n",
       "  <tbody>\n",
       "    <tr>\n",
       "      <th>0</th>\n",
       "      <td>782749</td>\n",
       "      <td>7182</td>\n",
       "      <td>2</td>\n",
       "      <td>0</td>\n",
       "      <td>1</td>\n",
       "      <td>0</td>\n",
       "      <td>20</td>\n",
       "      <td>3402</td>\n",
       "      <td>7579</td>\n",
       "      <td>9519</td>\n",
       "      <td>477</td>\n",
       "      <td>49</td>\n",
       "    </tr>\n",
       "    <tr>\n",
       "      <th>1</th>\n",
       "      <td>782749</td>\n",
       "      <td>7125</td>\n",
       "      <td>2</td>\n",
       "      <td>0</td>\n",
       "      <td>1</td>\n",
       "      <td>0</td>\n",
       "      <td>20</td>\n",
       "      <td>251</td>\n",
       "      <td>5971</td>\n",
       "      <td>9519</td>\n",
       "      <td>477</td>\n",
       "      <td>49</td>\n",
       "    </tr>\n",
       "    <tr>\n",
       "      <th>2</th>\n",
       "      <td>782749</td>\n",
       "      <td>7181</td>\n",
       "      <td>2</td>\n",
       "      <td>0</td>\n",
       "      <td>1</td>\n",
       "      <td>0</td>\n",
       "      <td>20</td>\n",
       "      <td>3402</td>\n",
       "      <td>7579</td>\n",
       "      <td>9519</td>\n",
       "      <td>477</td>\n",
       "      <td>49</td>\n",
       "    </tr>\n",
       "    <tr>\n",
       "      <th>3</th>\n",
       "      <td>782749</td>\n",
       "      <td>535</td>\n",
       "      <td>2</td>\n",
       "      <td>0</td>\n",
       "      <td>1</td>\n",
       "      <td>0</td>\n",
       "      <td>20</td>\n",
       "      <td>3186</td>\n",
       "      <td>1419</td>\n",
       "      <td>9519</td>\n",
       "      <td>477</td>\n",
       "      <td>49</td>\n",
       "    </tr>\n",
       "    <tr>\n",
       "      <th>4</th>\n",
       "      <td>782749</td>\n",
       "      <td>7174</td>\n",
       "      <td>2</td>\n",
       "      <td>0</td>\n",
       "      <td>1</td>\n",
       "      <td>0</td>\n",
       "      <td>20</td>\n",
       "      <td>471</td>\n",
       "      <td>5528</td>\n",
       "      <td>9519</td>\n",
       "      <td>477</td>\n",
       "      <td>49</td>\n",
       "    </tr>\n",
       "  </tbody>\n",
       "</table>\n",
       "</div>"
      ],
      "text/plain": [
       "   userId  adId  timestamp  device  browser  OS  topicId  campaignId  \\\n",
       "0  782749  7182          2       0        1   0       20        3402   \n",
       "1  782749  7125          2       0        1   0       20         251   \n",
       "2  782749  7181          2       0        1   0       20        3402   \n",
       "3  782749   535          2       0        1   0       20        3186   \n",
       "4  782749  7174          2       0        1   0       20         471   \n",
       "\n",
       "   advertiserId  widgetId  website  publisher  \n",
       "0          7579      9519      477         49  \n",
       "1          5971      9519      477         49  \n",
       "2          7579      9519      477         49  \n",
       "3          1419      9519      477         49  \n",
       "4          5528      9519      477         49  "
      ]
     },
     "execution_count": 59,
     "metadata": {},
     "output_type": "execute_result"
    }
   ],
   "source": [
    "dftemp = df[features]\n",
    "dfttemp = dft[features]\n",
    "dftemp.head()"
   ]
  },
  {
   "cell_type": "code",
   "execution_count": 65,
   "metadata": {},
   "outputs": [],
   "source": [
    "X_train , X_test , Y_train , Y_test = train_test_split(dftemp , df['clicked'] , test_size = 0.33 , random_state = 42)"
   ]
  },
  {
   "cell_type": "code",
   "execution_count": 60,
   "metadata": {},
   "outputs": [
    {
     "name": "stderr",
     "output_type": "stream",
     "text": [
      "c:\\users\\sajjad\\appdata\\local\\programs\\python\\python36\\lib\\site-packages\\sklearn\\preprocessing\\_encoders.py:368: FutureWarning: The handling of integer data will change in version 0.22. Currently, the categories are determined based on the range [0, max(values)], while in the future they will be determined based on the unique values.\n",
      "If you want the future behaviour and silence this warning, you can specify \"categories='auto'\".\n",
      "In case you used a LabelEncoder before this OneHotEncoder to convert the categories to integers, then you can now use the OneHotEncoder directly.\n",
      "  warnings.warn(msg, FutureWarning)\n"
     ]
    },
    {
     "data": {
      "text/plain": [
       "ColumnTransformer(n_jobs=None, remainder='passthrough', sparse_threshold=0.3,\n",
       "         transformer_weights=None,\n",
       "         transformers=[('all', OneHotEncoder(categorical_features=None, categories=None,\n",
       "       dtype=<class 'numpy.int8'>, handle_unknown='error', n_values=None,\n",
       "       sparse=True), [0, 1, 2, 3, 4, 5, 7, 8, 9, 10, 11])])"
      ]
     },
     "execution_count": 60,
     "metadata": {},
     "output_type": "execute_result"
    }
   ],
   "source": [
    "from sklearn.preprocessing import OneHotEncoder\n",
    "from sklearn.compose import ColumnTransformer \n",
    "transformer = ColumnTransformer(  \n",
    "    transformers=[\n",
    "        (\"all\",        # Just a name\n",
    "         OneHotEncoder(dtype = np.int8), # The transformer class\n",
    "         [0,1,2,3,4,5,7,8,9,10,11]           # The column(s) to be applied on.\n",
    "         ),\n",
    "    ], remainder='passthrough'\n",
    ")\n",
    "\n",
    "transformer.fit(dftemp.append(dfttemp))"
   ]
  },
  {
   "cell_type": "code",
   "execution_count": 66,
   "metadata": {},
   "outputs": [],
   "source": [
    "n = int(0.75*len(df))\n",
    "tplus = df[df['clicked']>0].sample(n=n//2 , replace=True)\n",
    "tminus = df[df['clicked']==0].sample(n=n//2 , replace=True)\n",
    "X_train = pd.concat([tplus[features] ,tminus[features]])\n",
    "Y_train = pd.concat([tplus['clicked'] , tminus['clicked']])"
   ]
  },
  {
   "cell_type": "code",
   "execution_count": 67,
   "metadata": {},
   "outputs": [
    {
     "data": {
      "text/plain": [
       "(2731682, 853352)"
      ]
     },
     "execution_count": 67,
     "metadata": {},
     "output_type": "execute_result"
    }
   ],
   "source": [
    "data = transformer.transform(X_train)\n",
    "data.shape"
   ]
  },
  {
   "cell_type": "code",
   "execution_count": 68,
   "metadata": {},
   "outputs": [
    {
     "data": {
      "text/plain": [
       "(1201941, 853352)"
      ]
     },
     "execution_count": 68,
     "metadata": {},
     "output_type": "execute_result"
    }
   ],
   "source": [
    "datatest = transformer.transform(X_test)\n",
    "datatest.shape"
   ]
  },
  {
   "cell_type": "code",
   "execution_count": 38,
   "metadata": {},
   "outputs": [
    {
     "data": {
      "text/plain": [
       "array([0, 0, 1, ..., 0, 0, 0], dtype=int8)"
      ]
     },
     "execution_count": 38,
     "metadata": {},
     "output_type": "execute_result"
    }
   ],
   "source": [
    "from sklearn.linear_model import LogisticRegression \n",
    "#clf = LogisticRegression(solver='liblinear',class_weight='balanced' , C=0.8 , penalty='l1').fit(data,Y_train)\n",
    "clf = LogisticRegression(class_weight='balanced' , C=0.8).fit(data,Y_train)"
   ]
  },
  {
   "cell_type": "code",
   "execution_count": 69,
   "metadata": {},
   "outputs": [
    {
     "name": "stderr",
     "output_type": "stream",
     "text": [
      "\r",
      "  0%|          | 0/50 [00:00<?, ?epoch/s]"
     ]
    },
    {
     "ename": "KeyboardInterrupt",
     "evalue": "",
     "output_type": "error",
     "traceback": [
      "\u001b[1;31m---------------------------------------------------------------------------\u001b[0m",
      "\u001b[1;31mKeyboardInterrupt\u001b[0m                         Traceback (most recent call last)",
      "\u001b[1;32m<ipython-input-69-de398316fa51>\u001b[0m in \u001b[0;36m<module>\u001b[1;34m\u001b[0m\n\u001b[0;32m     11\u001b[0m     \u001b[0mseed\u001b[0m\u001b[1;33m=\u001b[0m\u001b[1;36m42\u001b[0m\u001b[1;33m\u001b[0m\u001b[1;33m\u001b[0m\u001b[0m\n\u001b[0;32m     12\u001b[0m )\n\u001b[1;32m---> 13\u001b[1;33m \u001b[0mmodel\u001b[0m\u001b[1;33m.\u001b[0m\u001b[0mfit\u001b[0m\u001b[1;33m(\u001b[0m\u001b[0mdata\u001b[0m\u001b[1;33m,\u001b[0m \u001b[0mY_train\u001b[0m\u001b[1;33m.\u001b[0m\u001b[0mvalues\u001b[0m\u001b[1;33m,\u001b[0m \u001b[0mshow_progress\u001b[0m\u001b[1;33m=\u001b[0m\u001b[1;32mTrue\u001b[0m\u001b[1;33m)\u001b[0m\u001b[1;33m\u001b[0m\u001b[1;33m\u001b[0m\u001b[0m\n\u001b[0m\u001b[0;32m     14\u001b[0m \u001b[0mpredictions\u001b[0m \u001b[1;33m=\u001b[0m \u001b[0mmodel\u001b[0m\u001b[1;33m.\u001b[0m\u001b[0mpredict\u001b[0m\u001b[1;33m(\u001b[0m\u001b[0mdata\u001b[0m\u001b[1;33m)\u001b[0m\u001b[1;33m\u001b[0m\u001b[1;33m\u001b[0m\u001b[0m\n\u001b[0;32m     15\u001b[0m \u001b[0mprint\u001b[0m\u001b[1;33m(\u001b[0m\u001b[1;34m'[order={}] accuracy: {}'\u001b[0m\u001b[1;33m.\u001b[0m\u001b[0mformat\u001b[0m\u001b[1;33m(\u001b[0m\u001b[0morder\u001b[0m\u001b[1;33m,\u001b[0m \u001b[0maccuracy_score\u001b[0m\u001b[1;33m(\u001b[0m\u001b[0mY_train\u001b[0m\u001b[1;33m.\u001b[0m\u001b[0mvalues\u001b[0m\u001b[1;33m,\u001b[0m \u001b[0mpredictions\u001b[0m\u001b[1;33m)\u001b[0m\u001b[1;33m)\u001b[0m\u001b[1;33m)\u001b[0m\u001b[1;33m\u001b[0m\u001b[1;33m\u001b[0m\u001b[0m\n",
      "\u001b[1;32mc:\\users\\sajjad\\appdata\\local\\programs\\python\\python36\\lib\\site-packages\\tffm\\models.py\u001b[0m in \u001b[0;36mfit\u001b[1;34m(self, X, y, sample_weight, pos_class_weight, n_epochs, show_progress)\u001b[0m\n\u001b[0;32m     58\u001b[0m             \u001b[0mself\u001b[0m\u001b[1;33m.\u001b[0m\u001b[0mpos_class_weight\u001b[0m \u001b[1;33m=\u001b[0m \u001b[0mpos_class_weight\u001b[0m\u001b[1;33m\u001b[0m\u001b[1;33m\u001b[0m\u001b[0m\n\u001b[0;32m     59\u001b[0m         \u001b[0mused_w\u001b[0m \u001b[1;33m=\u001b[0m \u001b[0mself\u001b[0m\u001b[1;33m.\u001b[0m\u001b[0m_preprocess_sample_weights\u001b[0m\u001b[1;33m(\u001b[0m\u001b[0mself\u001b[0m\u001b[1;33m.\u001b[0m\u001b[0msample_weight\u001b[0m\u001b[1;33m,\u001b[0m \u001b[0mself\u001b[0m\u001b[1;33m.\u001b[0m\u001b[0mpos_class_weight\u001b[0m\u001b[1;33m,\u001b[0m \u001b[0mused_y\u001b[0m\u001b[1;33m)\u001b[0m\u001b[1;33m\u001b[0m\u001b[1;33m\u001b[0m\u001b[0m\n\u001b[1;32m---> 60\u001b[1;33m         \u001b[0mself\u001b[0m\u001b[1;33m.\u001b[0m\u001b[0m_fit\u001b[0m\u001b[1;33m(\u001b[0m\u001b[0mX_\u001b[0m\u001b[1;33m=\u001b[0m\u001b[0mX\u001b[0m\u001b[1;33m,\u001b[0m \u001b[0my_\u001b[0m\u001b[1;33m=\u001b[0m\u001b[0mused_y\u001b[0m\u001b[1;33m,\u001b[0m \u001b[0mw_\u001b[0m\u001b[1;33m=\u001b[0m\u001b[0mused_w\u001b[0m\u001b[1;33m,\u001b[0m \u001b[0mn_epochs\u001b[0m\u001b[1;33m=\u001b[0m\u001b[0mn_epochs\u001b[0m\u001b[1;33m,\u001b[0m \u001b[0mshow_progress\u001b[0m\u001b[1;33m=\u001b[0m\u001b[0mshow_progress\u001b[0m\u001b[1;33m)\u001b[0m\u001b[1;33m\u001b[0m\u001b[1;33m\u001b[0m\u001b[0m\n\u001b[0m\u001b[0;32m     61\u001b[0m \u001b[1;33m\u001b[0m\u001b[0m\n\u001b[0;32m     62\u001b[0m     \u001b[1;32mdef\u001b[0m \u001b[0mpredict\u001b[0m\u001b[1;33m(\u001b[0m\u001b[0mself\u001b[0m\u001b[1;33m,\u001b[0m \u001b[0mX\u001b[0m\u001b[1;33m,\u001b[0m \u001b[0mpred_batch_size\u001b[0m\u001b[1;33m=\u001b[0m\u001b[1;32mNone\u001b[0m\u001b[1;33m)\u001b[0m\u001b[1;33m:\u001b[0m\u001b[1;33m\u001b[0m\u001b[1;33m\u001b[0m\u001b[0m\n",
      "\u001b[1;32mc:\\users\\sajjad\\appdata\\local\\programs\\python\\python36\\lib\\site-packages\\tffm\\base.py\u001b[0m in \u001b[0;36m_fit\u001b[1;34m(self, X_, y_, w_, n_epochs, show_progress)\u001b[0m\n\u001b[0;32m    226\u001b[0m                 \u001b[0mfd\u001b[0m \u001b[1;33m=\u001b[0m \u001b[0mbatch_to_feeddict\u001b[0m\u001b[1;33m(\u001b[0m\u001b[0mbX\u001b[0m\u001b[1;33m,\u001b[0m \u001b[0mbY\u001b[0m\u001b[1;33m,\u001b[0m \u001b[0mbW\u001b[0m\u001b[1;33m,\u001b[0m \u001b[0mcore\u001b[0m\u001b[1;33m=\u001b[0m\u001b[0mself\u001b[0m\u001b[1;33m.\u001b[0m\u001b[0mcore\u001b[0m\u001b[1;33m)\u001b[0m\u001b[1;33m\u001b[0m\u001b[1;33m\u001b[0m\u001b[0m\n\u001b[0;32m    227\u001b[0m                 \u001b[0mops_to_run\u001b[0m \u001b[1;33m=\u001b[0m \u001b[1;33m[\u001b[0m\u001b[0mself\u001b[0m\u001b[1;33m.\u001b[0m\u001b[0mcore\u001b[0m\u001b[1;33m.\u001b[0m\u001b[0mtrainer\u001b[0m\u001b[1;33m,\u001b[0m \u001b[0mself\u001b[0m\u001b[1;33m.\u001b[0m\u001b[0mcore\u001b[0m\u001b[1;33m.\u001b[0m\u001b[0mtarget\u001b[0m\u001b[1;33m,\u001b[0m \u001b[0mself\u001b[0m\u001b[1;33m.\u001b[0m\u001b[0mcore\u001b[0m\u001b[1;33m.\u001b[0m\u001b[0msummary_op\u001b[0m\u001b[1;33m]\u001b[0m\u001b[1;33m\u001b[0m\u001b[1;33m\u001b[0m\u001b[0m\n\u001b[1;32m--> 228\u001b[1;33m                 \u001b[0mresult\u001b[0m \u001b[1;33m=\u001b[0m \u001b[0mself\u001b[0m\u001b[1;33m.\u001b[0m\u001b[0msession\u001b[0m\u001b[1;33m.\u001b[0m\u001b[0mrun\u001b[0m\u001b[1;33m(\u001b[0m\u001b[0mops_to_run\u001b[0m\u001b[1;33m,\u001b[0m \u001b[0mfeed_dict\u001b[0m\u001b[1;33m=\u001b[0m\u001b[0mfd\u001b[0m\u001b[1;33m)\u001b[0m\u001b[1;33m\u001b[0m\u001b[1;33m\u001b[0m\u001b[0m\n\u001b[0m\u001b[0;32m    229\u001b[0m                 \u001b[0m_\u001b[0m\u001b[1;33m,\u001b[0m \u001b[0mbatch_target_value\u001b[0m\u001b[1;33m,\u001b[0m \u001b[0msummary_str\u001b[0m \u001b[1;33m=\u001b[0m \u001b[0mresult\u001b[0m\u001b[1;33m\u001b[0m\u001b[1;33m\u001b[0m\u001b[0m\n\u001b[0;32m    230\u001b[0m                 \u001b[0mepoch_loss\u001b[0m\u001b[1;33m.\u001b[0m\u001b[0mappend\u001b[0m\u001b[1;33m(\u001b[0m\u001b[0mbatch_target_value\u001b[0m\u001b[1;33m)\u001b[0m\u001b[1;33m\u001b[0m\u001b[1;33m\u001b[0m\u001b[0m\n",
      "\u001b[1;32m~\\AppData\\Roaming\\Python\\Python36\\site-packages\\tensorflow\\python\\client\\session.py\u001b[0m in \u001b[0;36mrun\u001b[1;34m(self, fetches, feed_dict, options, run_metadata)\u001b[0m\n\u001b[0;32m    928\u001b[0m     \u001b[1;32mtry\u001b[0m\u001b[1;33m:\u001b[0m\u001b[1;33m\u001b[0m\u001b[1;33m\u001b[0m\u001b[0m\n\u001b[0;32m    929\u001b[0m       result = self._run(None, fetches, feed_dict, options_ptr,\n\u001b[1;32m--> 930\u001b[1;33m                          run_metadata_ptr)\n\u001b[0m\u001b[0;32m    931\u001b[0m       \u001b[1;32mif\u001b[0m \u001b[0mrun_metadata\u001b[0m\u001b[1;33m:\u001b[0m\u001b[1;33m\u001b[0m\u001b[1;33m\u001b[0m\u001b[0m\n\u001b[0;32m    932\u001b[0m         \u001b[0mproto_data\u001b[0m \u001b[1;33m=\u001b[0m \u001b[0mtf_session\u001b[0m\u001b[1;33m.\u001b[0m\u001b[0mTF_GetBuffer\u001b[0m\u001b[1;33m(\u001b[0m\u001b[0mrun_metadata_ptr\u001b[0m\u001b[1;33m)\u001b[0m\u001b[1;33m\u001b[0m\u001b[1;33m\u001b[0m\u001b[0m\n",
      "\u001b[1;32m~\\AppData\\Roaming\\Python\\Python36\\site-packages\\tensorflow\\python\\client\\session.py\u001b[0m in \u001b[0;36m_run\u001b[1;34m(self, handle, fetches, feed_dict, options, run_metadata)\u001b[0m\n\u001b[0;32m   1151\u001b[0m     \u001b[1;32mif\u001b[0m \u001b[0mfinal_fetches\u001b[0m \u001b[1;32mor\u001b[0m \u001b[0mfinal_targets\u001b[0m \u001b[1;32mor\u001b[0m \u001b[1;33m(\u001b[0m\u001b[0mhandle\u001b[0m \u001b[1;32mand\u001b[0m \u001b[0mfeed_dict_tensor\u001b[0m\u001b[1;33m)\u001b[0m\u001b[1;33m:\u001b[0m\u001b[1;33m\u001b[0m\u001b[1;33m\u001b[0m\u001b[0m\n\u001b[0;32m   1152\u001b[0m       results = self._do_run(handle, final_targets, final_fetches,\n\u001b[1;32m-> 1153\u001b[1;33m                              feed_dict_tensor, options, run_metadata)\n\u001b[0m\u001b[0;32m   1154\u001b[0m     \u001b[1;32melse\u001b[0m\u001b[1;33m:\u001b[0m\u001b[1;33m\u001b[0m\u001b[1;33m\u001b[0m\u001b[0m\n\u001b[0;32m   1155\u001b[0m       \u001b[0mresults\u001b[0m \u001b[1;33m=\u001b[0m \u001b[1;33m[\u001b[0m\u001b[1;33m]\u001b[0m\u001b[1;33m\u001b[0m\u001b[1;33m\u001b[0m\u001b[0m\n",
      "\u001b[1;32m~\\AppData\\Roaming\\Python\\Python36\\site-packages\\tensorflow\\python\\client\\session.py\u001b[0m in \u001b[0;36m_do_run\u001b[1;34m(self, handle, target_list, fetch_list, feed_dict, options, run_metadata)\u001b[0m\n\u001b[0;32m   1327\u001b[0m     \u001b[1;32mif\u001b[0m \u001b[0mhandle\u001b[0m \u001b[1;32mis\u001b[0m \u001b[1;32mNone\u001b[0m\u001b[1;33m:\u001b[0m\u001b[1;33m\u001b[0m\u001b[1;33m\u001b[0m\u001b[0m\n\u001b[0;32m   1328\u001b[0m       return self._do_call(_run_fn, feeds, fetches, targets, options,\n\u001b[1;32m-> 1329\u001b[1;33m                            run_metadata)\n\u001b[0m\u001b[0;32m   1330\u001b[0m     \u001b[1;32melse\u001b[0m\u001b[1;33m:\u001b[0m\u001b[1;33m\u001b[0m\u001b[1;33m\u001b[0m\u001b[0m\n\u001b[0;32m   1331\u001b[0m       \u001b[1;32mreturn\u001b[0m \u001b[0mself\u001b[0m\u001b[1;33m.\u001b[0m\u001b[0m_do_call\u001b[0m\u001b[1;33m(\u001b[0m\u001b[0m_prun_fn\u001b[0m\u001b[1;33m,\u001b[0m \u001b[0mhandle\u001b[0m\u001b[1;33m,\u001b[0m \u001b[0mfeeds\u001b[0m\u001b[1;33m,\u001b[0m \u001b[0mfetches\u001b[0m\u001b[1;33m)\u001b[0m\u001b[1;33m\u001b[0m\u001b[1;33m\u001b[0m\u001b[0m\n",
      "\u001b[1;32m~\\AppData\\Roaming\\Python\\Python36\\site-packages\\tensorflow\\python\\client\\session.py\u001b[0m in \u001b[0;36m_do_call\u001b[1;34m(self, fn, *args)\u001b[0m\n\u001b[0;32m   1333\u001b[0m   \u001b[1;32mdef\u001b[0m \u001b[0m_do_call\u001b[0m\u001b[1;33m(\u001b[0m\u001b[0mself\u001b[0m\u001b[1;33m,\u001b[0m \u001b[0mfn\u001b[0m\u001b[1;33m,\u001b[0m \u001b[1;33m*\u001b[0m\u001b[0margs\u001b[0m\u001b[1;33m)\u001b[0m\u001b[1;33m:\u001b[0m\u001b[1;33m\u001b[0m\u001b[1;33m\u001b[0m\u001b[0m\n\u001b[0;32m   1334\u001b[0m     \u001b[1;32mtry\u001b[0m\u001b[1;33m:\u001b[0m\u001b[1;33m\u001b[0m\u001b[1;33m\u001b[0m\u001b[0m\n\u001b[1;32m-> 1335\u001b[1;33m       \u001b[1;32mreturn\u001b[0m \u001b[0mfn\u001b[0m\u001b[1;33m(\u001b[0m\u001b[1;33m*\u001b[0m\u001b[0margs\u001b[0m\u001b[1;33m)\u001b[0m\u001b[1;33m\u001b[0m\u001b[1;33m\u001b[0m\u001b[0m\n\u001b[0m\u001b[0;32m   1336\u001b[0m     \u001b[1;32mexcept\u001b[0m \u001b[0merrors\u001b[0m\u001b[1;33m.\u001b[0m\u001b[0mOpError\u001b[0m \u001b[1;32mas\u001b[0m \u001b[0me\u001b[0m\u001b[1;33m:\u001b[0m\u001b[1;33m\u001b[0m\u001b[1;33m\u001b[0m\u001b[0m\n\u001b[0;32m   1337\u001b[0m       \u001b[0mmessage\u001b[0m \u001b[1;33m=\u001b[0m \u001b[0mcompat\u001b[0m\u001b[1;33m.\u001b[0m\u001b[0mas_text\u001b[0m\u001b[1;33m(\u001b[0m\u001b[0me\u001b[0m\u001b[1;33m.\u001b[0m\u001b[0mmessage\u001b[0m\u001b[1;33m)\u001b[0m\u001b[1;33m\u001b[0m\u001b[1;33m\u001b[0m\u001b[0m\n",
      "\u001b[1;32m~\\AppData\\Roaming\\Python\\Python36\\site-packages\\tensorflow\\python\\client\\session.py\u001b[0m in \u001b[0;36m_run_fn\u001b[1;34m(feed_dict, fetch_list, target_list, options, run_metadata)\u001b[0m\n\u001b[0;32m   1318\u001b[0m       \u001b[0mself\u001b[0m\u001b[1;33m.\u001b[0m\u001b[0m_extend_graph\u001b[0m\u001b[1;33m(\u001b[0m\u001b[1;33m)\u001b[0m\u001b[1;33m\u001b[0m\u001b[1;33m\u001b[0m\u001b[0m\n\u001b[0;32m   1319\u001b[0m       return self._call_tf_sessionrun(\n\u001b[1;32m-> 1320\u001b[1;33m           options, feed_dict, fetch_list, target_list, run_metadata)\n\u001b[0m\u001b[0;32m   1321\u001b[0m \u001b[1;33m\u001b[0m\u001b[0m\n\u001b[0;32m   1322\u001b[0m     \u001b[1;32mdef\u001b[0m \u001b[0m_prun_fn\u001b[0m\u001b[1;33m(\u001b[0m\u001b[0mhandle\u001b[0m\u001b[1;33m,\u001b[0m \u001b[0mfeed_dict\u001b[0m\u001b[1;33m,\u001b[0m \u001b[0mfetch_list\u001b[0m\u001b[1;33m)\u001b[0m\u001b[1;33m:\u001b[0m\u001b[1;33m\u001b[0m\u001b[1;33m\u001b[0m\u001b[0m\n",
      "\u001b[1;32m~\\AppData\\Roaming\\Python\\Python36\\site-packages\\tensorflow\\python\\client\\session.py\u001b[0m in \u001b[0;36m_call_tf_sessionrun\u001b[1;34m(self, options, feed_dict, fetch_list, target_list, run_metadata)\u001b[0m\n\u001b[0;32m   1406\u001b[0m     return tf_session.TF_SessionRun_wrapper(\n\u001b[0;32m   1407\u001b[0m         \u001b[0mself\u001b[0m\u001b[1;33m.\u001b[0m\u001b[0m_session\u001b[0m\u001b[1;33m,\u001b[0m \u001b[0moptions\u001b[0m\u001b[1;33m,\u001b[0m \u001b[0mfeed_dict\u001b[0m\u001b[1;33m,\u001b[0m \u001b[0mfetch_list\u001b[0m\u001b[1;33m,\u001b[0m \u001b[0mtarget_list\u001b[0m\u001b[1;33m,\u001b[0m\u001b[1;33m\u001b[0m\u001b[1;33m\u001b[0m\u001b[0m\n\u001b[1;32m-> 1408\u001b[1;33m         run_metadata)\n\u001b[0m\u001b[0;32m   1409\u001b[0m \u001b[1;33m\u001b[0m\u001b[0m\n\u001b[0;32m   1410\u001b[0m   \u001b[1;32mdef\u001b[0m \u001b[0m_call_tf_sessionprun\u001b[0m\u001b[1;33m(\u001b[0m\u001b[0mself\u001b[0m\u001b[1;33m,\u001b[0m \u001b[0mhandle\u001b[0m\u001b[1;33m,\u001b[0m \u001b[0mfeed_dict\u001b[0m\u001b[1;33m,\u001b[0m \u001b[0mfetch_list\u001b[0m\u001b[1;33m)\u001b[0m\u001b[1;33m:\u001b[0m\u001b[1;33m\u001b[0m\u001b[1;33m\u001b[0m\u001b[0m\n",
      "\u001b[1;31mKeyboardInterrupt\u001b[0m: "
     ]
    }
   ],
   "source": [
    "order = 3\n",
    "model = TFFMClassifier(\n",
    "    order=order, \n",
    "    rank=8, \n",
    "    optimizer=tf.train.AdamOptimizer(learning_rate=0.001), \n",
    "    n_epochs=50, \n",
    "    batch_size=512,\n",
    "    init_std=0.001,\n",
    "    reg=0.001,\n",
    "    input_type='sparse',\n",
    "    seed=42\n",
    ")\n",
    "model.fit(data, Y_train.values, show_progress=True)\n",
    "predictions = model.predict(data)\n",
    "print('[order={}] accuracy: {}'.format(order, accuracy_score(Y_train.values, predictions)))\n",
    "predictions = model.predict(datatest)\n",
    "print('[order={}] accuracy: {}'.format(order, accuracy_score(Y_test.values, predictions)))\n",
    "#model.destroy()"
   ]
  },
  {
   "cell_type": "code",
   "execution_count": 43,
   "metadata": {},
   "outputs": [
    {
     "name": "stdout",
     "output_type": "stream",
     "text": [
      "[order=2] accuracy: 0.7776849842007324\n",
      "[order=2] accuracy: 0.7766728982537412\n"
     ]
    }
   ],
   "source": [
    "predictions = model.predict(data)\n",
    "print('[order={}] accuracy: {}'.format(order, accuracy_score(Y_train.values, predictions)))\n",
    "predictions = model.predict(datatest)\n",
    "print('[order={}] accuracy: {}'.format(order, accuracy_score(Y_test.values, predictions)))"
   ]
  },
  {
   "cell_type": "code",
   "execution_count": 50,
   "metadata": {},
   "outputs": [],
   "source": [
    "Xtest = dft\n",
    "datates = transformer.transform(dfttemp)"
   ]
  },
  {
   "cell_type": "code",
   "execution_count": 55,
   "metadata": {},
   "outputs": [
    {
     "name": "stderr",
     "output_type": "stream",
     "text": [
      "c:\\users\\sajjad\\appdata\\local\\programs\\python\\python36\\lib\\site-packages\\ipykernel_launcher.py:17: SettingWithCopyWarning: \n",
      "A value is trying to be set on a copy of a slice from a DataFrame.\n",
      "Try using .loc[row_indexer,col_indexer] = value instead\n",
      "\n",
      "See the caveats in the documentation: http://pandas.pydata.org/pandas-docs/stable/indexing.html#indexing-view-versus-copy\n"
     ]
    }
   ],
   "source": [
    "Xtest['rank'] = model.predict_proba(datates)[:,1]\n",
    "diad={}\n",
    "for i,r in Xtest.iterrows():\n",
    "    if r['displayId'] in diad:\n",
    "        diad[r['displayId']].append(i)\n",
    "    else:\n",
    "        diad[r['displayId']] = [i,]\n",
    "for i in diad:\n",
    "    diad[i] = sorted(diad[i] , key =lambda x: -1 * Xtest.iloc[x]['rank'] )\n",
    "arr = np.zeros(len(Xtest))\n",
    "\n",
    "for i,r in Xtest.iterrows():\n",
    "    arr[i] = diad[r['displayId']].index(i) + 1\n",
    "Xtest['ranked'] = arr\n",
    "#dftest.to_csv('../submit/sub4.csv',header=None,index=False)\n",
    "dfsub = Xtest[['displayId' , 'adId' ,'ranked']]\n",
    "dfsub['ranked'] = Xtest['ranked'].apply(lambda x : int(x) )\n",
    "dfsub.head()\n",
    "dfsub.to_csv('Sub18.csv',header=None,index=False)"
   ]
  },
  {
   "cell_type": "code",
   "execution_count": 53,
   "metadata": {},
   "outputs": [
    {
     "data": {
      "text/html": [
       "<div>\n",
       "<style scoped>\n",
       "    .dataframe tbody tr th:only-of-type {\n",
       "        vertical-align: middle;\n",
       "    }\n",
       "\n",
       "    .dataframe tbody tr th {\n",
       "        vertical-align: top;\n",
       "    }\n",
       "\n",
       "    .dataframe thead th {\n",
       "        text-align: right;\n",
       "    }\n",
       "</style>\n",
       "<table border=\"1\" class=\"dataframe\">\n",
       "  <thead>\n",
       "    <tr style=\"text-align: right;\">\n",
       "      <th></th>\n",
       "      <th>displayId</th>\n",
       "      <th>adId</th>\n",
       "      <th>ranked</th>\n",
       "    </tr>\n",
       "  </thead>\n",
       "  <tbody>\n",
       "    <tr>\n",
       "      <th>0</th>\n",
       "      <td>151650</td>\n",
       "      <td>7585</td>\n",
       "      <td>3</td>\n",
       "    </tr>\n",
       "    <tr>\n",
       "      <th>1</th>\n",
       "      <td>151650</td>\n",
       "      <td>6257</td>\n",
       "      <td>1</td>\n",
       "    </tr>\n",
       "    <tr>\n",
       "      <th>2</th>\n",
       "      <td>151650</td>\n",
       "      <td>6690</td>\n",
       "      <td>2</td>\n",
       "    </tr>\n",
       "    <tr>\n",
       "      <th>3</th>\n",
       "      <td>151938</td>\n",
       "      <td>7454</td>\n",
       "      <td>4</td>\n",
       "    </tr>\n",
       "    <tr>\n",
       "      <th>4</th>\n",
       "      <td>151938</td>\n",
       "      <td>7370</td>\n",
       "      <td>2</td>\n",
       "    </tr>\n",
       "    <tr>\n",
       "      <th>5</th>\n",
       "      <td>151938</td>\n",
       "      <td>123</td>\n",
       "      <td>5</td>\n",
       "    </tr>\n",
       "    <tr>\n",
       "      <th>6</th>\n",
       "      <td>151938</td>\n",
       "      <td>6690</td>\n",
       "      <td>1</td>\n",
       "    </tr>\n",
       "    <tr>\n",
       "      <th>7</th>\n",
       "      <td>151938</td>\n",
       "      <td>7715</td>\n",
       "      <td>6</td>\n",
       "    </tr>\n",
       "    <tr>\n",
       "      <th>8</th>\n",
       "      <td>151938</td>\n",
       "      <td>7379</td>\n",
       "      <td>3</td>\n",
       "    </tr>\n",
       "    <tr>\n",
       "      <th>9</th>\n",
       "      <td>171024</td>\n",
       "      <td>7374</td>\n",
       "      <td>2</td>\n",
       "    </tr>\n",
       "    <tr>\n",
       "      <th>10</th>\n",
       "      <td>171024</td>\n",
       "      <td>123</td>\n",
       "      <td>1</td>\n",
       "    </tr>\n",
       "    <tr>\n",
       "      <th>11</th>\n",
       "      <td>171025</td>\n",
       "      <td>123</td>\n",
       "      <td>1</td>\n",
       "    </tr>\n",
       "    <tr>\n",
       "      <th>12</th>\n",
       "      <td>171025</td>\n",
       "      <td>7374</td>\n",
       "      <td>2</td>\n",
       "    </tr>\n",
       "    <tr>\n",
       "      <th>13</th>\n",
       "      <td>187341</td>\n",
       "      <td>7768</td>\n",
       "      <td>4</td>\n",
       "    </tr>\n",
       "    <tr>\n",
       "      <th>14</th>\n",
       "      <td>187341</td>\n",
       "      <td>7814</td>\n",
       "      <td>2</td>\n",
       "    </tr>\n",
       "    <tr>\n",
       "      <th>15</th>\n",
       "      <td>187341</td>\n",
       "      <td>7432</td>\n",
       "      <td>3</td>\n",
       "    </tr>\n",
       "    <tr>\n",
       "      <th>16</th>\n",
       "      <td>187341</td>\n",
       "      <td>6525</td>\n",
       "      <td>1</td>\n",
       "    </tr>\n",
       "    <tr>\n",
       "      <th>17</th>\n",
       "      <td>188283</td>\n",
       "      <td>7710</td>\n",
       "      <td>1</td>\n",
       "    </tr>\n",
       "    <tr>\n",
       "      <th>18</th>\n",
       "      <td>188283</td>\n",
       "      <td>6970</td>\n",
       "      <td>2</td>\n",
       "    </tr>\n",
       "    <tr>\n",
       "      <th>19</th>\n",
       "      <td>192056</td>\n",
       "      <td>4277</td>\n",
       "      <td>3</td>\n",
       "    </tr>\n",
       "  </tbody>\n",
       "</table>\n",
       "</div>"
      ],
      "text/plain": [
       "    displayId  adId  ranked\n",
       "0      151650  7585       3\n",
       "1      151650  6257       1\n",
       "2      151650  6690       2\n",
       "3      151938  7454       4\n",
       "4      151938  7370       2\n",
       "5      151938   123       5\n",
       "6      151938  6690       1\n",
       "7      151938  7715       6\n",
       "8      151938  7379       3\n",
       "9      171024  7374       2\n",
       "10     171024   123       1\n",
       "11     171025   123       1\n",
       "12     171025  7374       2\n",
       "13     187341  7768       4\n",
       "14     187341  7814       2\n",
       "15     187341  7432       3\n",
       "16     187341  6525       1\n",
       "17     188283  7710       1\n",
       "18     188283  6970       2\n",
       "19     192056  4277       3"
      ]
     },
     "execution_count": 53,
     "metadata": {},
     "output_type": "execute_result"
    }
   ],
   "source": [
    "dfsub.head(20)"
   ]
  },
  {
   "cell_type": "code",
   "execution_count": null,
   "metadata": {},
   "outputs": [],
   "source": [
    "def convert_to_nparray(f):\n",
    "    return np.array(list(map(float,f[1:len(f)-1].split(', '))) , dtype=np.float32)\n"
   ]
  },
  {
   "cell_type": "code",
   "execution_count": 1,
   "metadata": {},
   "outputs": [],
   "source": [
    "import pandas as pd"
   ]
  },
  {
   "cell_type": "code",
   "execution_count": 2,
   "metadata": {},
   "outputs": [],
   "source": [
    "import matplotlib.pyplot as plt"
   ]
  },
  {
   "cell_type": "code",
   "execution_count": 3,
   "metadata": {},
   "outputs": [
    {
     "data": {
      "text/html": [
       "<div>\n",
       "<style scoped>\n",
       "    .dataframe tbody tr th:only-of-type {\n",
       "        vertical-align: middle;\n",
       "    }\n",
       "\n",
       "    .dataframe tbody tr th {\n",
       "        vertical-align: top;\n",
       "    }\n",
       "\n",
       "    .dataframe thead th {\n",
       "        text-align: right;\n",
       "    }\n",
       "</style>\n",
       "<table border=\"1\" class=\"dataframe\">\n",
       "  <thead>\n",
       "    <tr style=\"text-align: right;\">\n",
       "      <th></th>\n",
       "      <th>adId</th>\n",
       "      <th>campaignId</th>\n",
       "      <th>advertiserId</th>\n",
       "      <th>('adId', 'pageId')</th>\n",
       "      <th>('adId', 'userId')</th>\n",
       "      <th>('adId', 'widgetId')</th>\n",
       "      <th>('adId', 'topicId')</th>\n",
       "      <th>('adId', 'website')</th>\n",
       "      <th>('adId', 'timestamp')</th>\n",
       "      <th>('campaignId', 'pageId')</th>\n",
       "      <th>...</th>\n",
       "      <th>('campaignId', 'widgetId')</th>\n",
       "      <th>('campaignId', 'topicId')</th>\n",
       "      <th>('campaignId', 'website')</th>\n",
       "      <th>('campaignId', 'timestamp')</th>\n",
       "      <th>('advertiserId', 'pageId')</th>\n",
       "      <th>('advertiserId', 'userId')</th>\n",
       "      <th>('advertiserId', 'widgetId')</th>\n",
       "      <th>('advertiserId', 'topicId')</th>\n",
       "      <th>('advertiserId', 'website')</th>\n",
       "      <th>('advertiserId', 'timestamp')</th>\n",
       "    </tr>\n",
       "  </thead>\n",
       "  <tbody>\n",
       "    <tr>\n",
       "      <th>0</th>\n",
       "      <td>0.221737</td>\n",
       "      <td>0.224727</td>\n",
       "      <td>0.224727</td>\n",
       "      <td>0.161404</td>\n",
       "      <td>0.0</td>\n",
       "      <td>0.155725</td>\n",
       "      <td>0.205333</td>\n",
       "      <td>0.163295</td>\n",
       "      <td>0.222713</td>\n",
       "      <td>0.164609</td>\n",
       "      <td>...</td>\n",
       "      <td>0.146102</td>\n",
       "      <td>0.208109</td>\n",
       "      <td>0.156483</td>\n",
       "      <td>0.228169</td>\n",
       "      <td>0.164609</td>\n",
       "      <td>0.0</td>\n",
       "      <td>0.146102</td>\n",
       "      <td>0.208109</td>\n",
       "      <td>0.156483</td>\n",
       "      <td>0.228169</td>\n",
       "    </tr>\n",
       "    <tr>\n",
       "      <th>1</th>\n",
       "      <td>0.260697</td>\n",
       "      <td>0.263397</td>\n",
       "      <td>0.260914</td>\n",
       "      <td>0.000000</td>\n",
       "      <td>0.0</td>\n",
       "      <td>0.290247</td>\n",
       "      <td>0.317712</td>\n",
       "      <td>0.290247</td>\n",
       "      <td>0.278244</td>\n",
       "      <td>0.500000</td>\n",
       "      <td>...</td>\n",
       "      <td>0.287041</td>\n",
       "      <td>0.275868</td>\n",
       "      <td>0.287041</td>\n",
       "      <td>0.279325</td>\n",
       "      <td>0.500000</td>\n",
       "      <td>0.5</td>\n",
       "      <td>0.286164</td>\n",
       "      <td>0.274779</td>\n",
       "      <td>0.286164</td>\n",
       "      <td>0.278596</td>\n",
       "    </tr>\n",
       "    <tr>\n",
       "      <th>2</th>\n",
       "      <td>0.306210</td>\n",
       "      <td>0.306210</td>\n",
       "      <td>0.271636</td>\n",
       "      <td>0.416667</td>\n",
       "      <td>0.0</td>\n",
       "      <td>0.310680</td>\n",
       "      <td>0.317073</td>\n",
       "      <td>0.301724</td>\n",
       "      <td>0.352941</td>\n",
       "      <td>0.416667</td>\n",
       "      <td>...</td>\n",
       "      <td>0.310680</td>\n",
       "      <td>0.317073</td>\n",
       "      <td>0.301724</td>\n",
       "      <td>0.352941</td>\n",
       "      <td>0.392857</td>\n",
       "      <td>0.0</td>\n",
       "      <td>0.239264</td>\n",
       "      <td>0.246032</td>\n",
       "      <td>0.251256</td>\n",
       "      <td>0.308281</td>\n",
       "    </tr>\n",
       "    <tr>\n",
       "      <th>3</th>\n",
       "      <td>0.176039</td>\n",
       "      <td>0.207664</td>\n",
       "      <td>0.203040</td>\n",
       "      <td>0.000000</td>\n",
       "      <td>0.0</td>\n",
       "      <td>0.129921</td>\n",
       "      <td>0.132420</td>\n",
       "      <td>0.129921</td>\n",
       "      <td>0.145193</td>\n",
       "      <td>0.183099</td>\n",
       "      <td>...</td>\n",
       "      <td>0.158456</td>\n",
       "      <td>0.163554</td>\n",
       "      <td>0.158456</td>\n",
       "      <td>0.184182</td>\n",
       "      <td>0.183099</td>\n",
       "      <td>0.5</td>\n",
       "      <td>0.157323</td>\n",
       "      <td>0.163579</td>\n",
       "      <td>0.157323</td>\n",
       "      <td>0.181746</td>\n",
       "    </tr>\n",
       "    <tr>\n",
       "      <th>4</th>\n",
       "      <td>0.256725</td>\n",
       "      <td>0.256725</td>\n",
       "      <td>0.227297</td>\n",
       "      <td>0.666667</td>\n",
       "      <td>0.6</td>\n",
       "      <td>0.358808</td>\n",
       "      <td>0.242415</td>\n",
       "      <td>0.306375</td>\n",
       "      <td>0.252050</td>\n",
       "      <td>0.666667</td>\n",
       "      <td>...</td>\n",
       "      <td>0.358808</td>\n",
       "      <td>0.242415</td>\n",
       "      <td>0.306375</td>\n",
       "      <td>0.252050</td>\n",
       "      <td>0.571429</td>\n",
       "      <td>0.6</td>\n",
       "      <td>0.296780</td>\n",
       "      <td>0.211984</td>\n",
       "      <td>0.237896</td>\n",
       "      <td>0.222372</td>\n",
       "    </tr>\n",
       "  </tbody>\n",
       "</table>\n",
       "<p>5 rows × 21 columns</p>\n",
       "</div>"
      ],
      "text/plain": [
       "       adId  campaignId  advertiserId  ('adId', 'pageId')  ('adId', 'userId')  \\\n",
       "0  0.221737    0.224727      0.224727            0.161404                 0.0   \n",
       "1  0.260697    0.263397      0.260914            0.000000                 0.0   \n",
       "2  0.306210    0.306210      0.271636            0.416667                 0.0   \n",
       "3  0.176039    0.207664      0.203040            0.000000                 0.0   \n",
       "4  0.256725    0.256725      0.227297            0.666667                 0.6   \n",
       "\n",
       "   ('adId', 'widgetId')  ('adId', 'topicId')  ('adId', 'website')  \\\n",
       "0              0.155725             0.205333             0.163295   \n",
       "1              0.290247             0.317712             0.290247   \n",
       "2              0.310680             0.317073             0.301724   \n",
       "3              0.129921             0.132420             0.129921   \n",
       "4              0.358808             0.242415             0.306375   \n",
       "\n",
       "   ('adId', 'timestamp')  ('campaignId', 'pageId')  ...  \\\n",
       "0               0.222713                  0.164609  ...   \n",
       "1               0.278244                  0.500000  ...   \n",
       "2               0.352941                  0.416667  ...   \n",
       "3               0.145193                  0.183099  ...   \n",
       "4               0.252050                  0.666667  ...   \n",
       "\n",
       "   ('campaignId', 'widgetId')  ('campaignId', 'topicId')  \\\n",
       "0                    0.146102                   0.208109   \n",
       "1                    0.287041                   0.275868   \n",
       "2                    0.310680                   0.317073   \n",
       "3                    0.158456                   0.163554   \n",
       "4                    0.358808                   0.242415   \n",
       "\n",
       "   ('campaignId', 'website')  ('campaignId', 'timestamp')  \\\n",
       "0                   0.156483                     0.228169   \n",
       "1                   0.287041                     0.279325   \n",
       "2                   0.301724                     0.352941   \n",
       "3                   0.158456                     0.184182   \n",
       "4                   0.306375                     0.252050   \n",
       "\n",
       "   ('advertiserId', 'pageId')  ('advertiserId', 'userId')  \\\n",
       "0                    0.164609                         0.0   \n",
       "1                    0.500000                         0.5   \n",
       "2                    0.392857                         0.0   \n",
       "3                    0.183099                         0.5   \n",
       "4                    0.571429                         0.6   \n",
       "\n",
       "   ('advertiserId', 'widgetId')  ('advertiserId', 'topicId')  \\\n",
       "0                      0.146102                     0.208109   \n",
       "1                      0.286164                     0.274779   \n",
       "2                      0.239264                     0.246032   \n",
       "3                      0.157323                     0.163579   \n",
       "4                      0.296780                     0.211984   \n",
       "\n",
       "   ('advertiserId', 'website')  ('advertiserId', 'timestamp')  \n",
       "0                     0.156483                       0.228169  \n",
       "1                     0.286164                       0.278596  \n",
       "2                     0.251256                       0.308281  \n",
       "3                     0.157323                       0.181746  \n",
       "4                     0.237896                       0.222372  \n",
       "\n",
       "[5 rows x 21 columns]"
      ]
     },
     "execution_count": 3,
     "metadata": {},
     "output_type": "execute_result"
    }
   ],
   "source": [
    "df = pd.read_csv('../temp/traintemp.csv')\n",
    "df.head()"
   ]
  },
  {
   "cell_type": "code",
   "execution_count": 19,
   "metadata": {},
   "outputs": [
    {
     "data": {
      "image/png": "[encoded data removed]",
      "text/plain": [
       "<Figure size 432x288 with 1 Axes>"
      ]
     },
     "metadata": {
      "needs_background": "light"
     },
     "output_type": "display_data"
    }
   ],
   "source": [
    "import matplotlib.pyplot as plt\n",
    "import numpy as np\n",
    "\n",
    "a = np.random.random((16, 16))\n",
    "plt.imshow(a, cmap='hot', interpolation='nearest')\n",
    "plt.show()"
   ]
  },
  {
   "cell_type": "code",
   "execution_count": 5,
   "metadata": {},
   "outputs": [],
   "source": [
    "l = df.columns"
   ]
  },
  {
   "cell_type": "code",
   "execution_count": 6,
   "metadata": {},
   "outputs": [
    {
     "data": {
      "text/plain": [
       "Index(['adId', 'campaignId', 'advertiserId', '('adId', 'pageId')',\n",
       "       '('adId', 'userId')', '('adId', 'widgetId')', '('adId', 'topicId')',\n",
       "       '('adId', 'website')', '('adId', 'timestamp')',\n",
       "       '('campaignId', 'pageId')', '('campaignId', 'userId')',\n",
       "       '('campaignId', 'widgetId')', '('campaignId', 'topicId')',\n",
       "       '('campaignId', 'website')', '('campaignId', 'timestamp')',\n",
       "       '('advertiserId', 'pageId')', '('advertiserId', 'userId')',\n",
       "       '('advertiserId', 'widgetId')', '('advertiserId', 'topicId')',\n",
       "       '('advertiserId', 'website')', '('advertiserId', 'timestamp')'],\n",
       "      dtype='object')"
      ]
     },
     "execution_count": 6,
     "metadata": {},
     "output_type": "execute_result"
    }
   ],
   "source": [
    "l"
   ]
  },
  {
   "cell_type": "code",
   "execution_count": 24,
   "metadata": {},
   "outputs": [],
   "source": [
    "import numpy as np\n",
    "a = np.zeros((3,6))"
   ]
  },
  {
   "cell_type": "code",
   "execution_count": 25,
   "metadata": {},
   "outputs": [
    {
     "data": {
      "text/plain": [
       "array([[0., 0., 0., 0., 0., 0.],\n",
       "       [0., 0., 0., 0., 0., 0.],\n",
       "       [0., 0., 0., 0., 0., 0.]])"
      ]
     },
     "execution_count": 25,
     "metadata": {},
     "output_type": "execute_result"
    }
   ],
   "source": [
    "a"
   ]
  },
  {
   "cell_type": "code",
   "execution_count": 11,
   "metadata": {},
   "outputs": [],
   "source": [
    "n = len(df)"
   ]
  },
  {
   "cell_type": "code",
   "execution_count": 12,
   "metadata": {},
   "outputs": [
    {
     "data": {
      "text/plain": [
       "0.2229560210702746"
      ]
     },
     "execution_count": 12,
     "metadata": {},
     "output_type": "execute_result"
    }
   ],
   "source": [
    "np.sum(df[l[3]])/n"
   ]
  },
  {
   "cell_type": "code",
   "execution_count": 16,
   "metadata": {},
   "outputs": [
    {
     "data": {
      "text/plain": [
       "\"('advertiserId', 'timestamp')\""
      ]
     },
     "execution_count": 16,
     "metadata": {},
     "output_type": "execute_result"
    }
   ],
   "source": [
    "l[20]"
   ]
  },
  {
   "cell_type": "code",
   "execution_count": 26,
   "metadata": {},
   "outputs": [],
   "source": [
    "i=0\n",
    "for j in range(3,9):\n",
    "    a[0][i] = np.sum(df[l[j]])/n\n",
    "    i+=1\n",
    "i=0\n",
    "for j in range(9,15):\n",
    "    a[1][i] = np.sum(df[l[j]])/n\n",
    "    i+=1\n",
    "i=0\n",
    "for j in range(15,21):\n",
    "    a[2][i] = np.sum(df[l[j]])/n    \n",
    "    i+=1\n"
   ]
  },
  {
   "cell_type": "code",
   "execution_count": 20,
   "metadata": {},
   "outputs": [
    {
     "data": {
      "image/png": "[encoded data removed]",
      "text/plain": [
       "<Figure size 432x288 with 2 Axes>"
      ]
     },
     "metadata": {},
     "output_type": "display_data"
    }
   ],
   "source": [
    "import numpy as np; np.random.seed(0)\n",
    "import seaborn as sns; sns.set()\n",
    "uniform_data = np.random.rand(10, 12)\n",
    "ax = sns.heatmap(uniform_data)"
   ]
  },
  {
   "cell_type": "code",
   "execution_count": 30,
   "metadata": {},
   "outputs": [
    {
     "data": {
      "text/plain": [
       "<matplotlib.axes._subplots.AxesSubplot at 0x1be9a364d30>"
      ]
     },
     "execution_count": 30,
     "metadata": {},
     "output_type": "execute_result"
    },
    {
     "data": {
      "image/png": "[encoded data removed]",
      "text/plain": [
       "<Figure size 432x288 with 2 Axes>"
      ]
     },
     "metadata": {},
     "output_type": "display_data"
    }
   ],
   "source": [
    "sns.heatmap(a ,yticklabels=['adId' , 'campaignId' , 'advertiserId'] , xticklabels=['pageId' , 'userId' , 'widgetId' , 'topicId'\n",
    "                                                                                  ,'webiste','timestamp'])"
   ]
  },
  {
   "cell_type": "code",
   "execution_count": null,
   "metadata": {},
   "outputs": [],
   "source": []
  }
 ],
 "metadata": {
  "kernelspec": {
   "display_name": "Python 3",
   "language": "python",
   "name": "python3"
  },
  "language_info": {
   "codemirror_mode": {
    "name": "ipython",
    "version": 3
   },
   "file_extension": ".py",
   "mimetype": "text/x-python",
   "name": "python",
   "nbconvert_exporter": "python",
   "pygments_lexer": "ipython3",
   "version": "3.6.8"
  }
 },
 "nbformat": 4,
 "nbformat_minor": 2
}
