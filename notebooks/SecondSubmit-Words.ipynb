{
 "cells": [
  {
   "cell_type": "code",
   "execution_count": 1,
   "metadata": {},
   "outputs": [],
   "source": [
    "import pandas as pd\n",
    "import numpy as np\n",
    "import matplotlib.pyplot as plt"
   ]
  },
  {
   "cell_type": "markdown",
   "metadata": {},
   "source": [
    "## Lets Calculate Probability"
   ]
  },
  {
   "cell_type": "code",
   "execution_count": 3,
   "metadata": {},
   "outputs": [
    {
     "data": {
      "text/html": [
       "<div>\n",
       "<style scoped>\n",
       "    .dataframe tbody tr th:only-of-type {\n",
       "        vertical-align: middle;\n",
       "    }\n",
       "\n",
       "    .dataframe tbody tr th {\n",
       "        vertical-align: top;\n",
       "    }\n",
       "\n",
       "    .dataframe thead th {\n",
       "        text-align: right;\n",
       "    }\n",
       "</style>\n",
       "<table border=\"1\" class=\"dataframe\">\n",
       "  <thead>\n",
       "    <tr style=\"text-align: right;\">\n",
       "      <th></th>\n",
       "      <th>displayId</th>\n",
       "      <th>timestamp</th>\n",
       "      <th>pageId</th>\n",
       "      <th>widgetId</th>\n",
       "      <th>userId</th>\n",
       "      <th>device</th>\n",
       "      <th>OS</th>\n",
       "      <th>browser</th>\n",
       "    </tr>\n",
       "  </thead>\n",
       "  <tbody>\n",
       "    <tr>\n",
       "      <th>0</th>\n",
       "      <td>4706262</td>\n",
       "      <td>1578429005696</td>\n",
       "      <td>3543873</td>\n",
       "      <td>6262</td>\n",
       "      <td>2688642</td>\n",
       "      <td>0</td>\n",
       "      <td>0</td>\n",
       "      <td>0</td>\n",
       "    </tr>\n",
       "    <tr>\n",
       "      <th>1</th>\n",
       "      <td>4706267</td>\n",
       "      <td>1578429007726</td>\n",
       "      <td>6245475</td>\n",
       "      <td>607</td>\n",
       "      <td>2688641</td>\n",
       "      <td>1</td>\n",
       "      <td>3</td>\n",
       "      <td>0</td>\n",
       "    </tr>\n",
       "    <tr>\n",
       "      <th>2</th>\n",
       "      <td>4706260</td>\n",
       "      <td>1578429012060</td>\n",
       "      <td>4416499</td>\n",
       "      <td>11458</td>\n",
       "      <td>2688638</td>\n",
       "      <td>0</td>\n",
       "      <td>0</td>\n",
       "      <td>1</td>\n",
       "    </tr>\n",
       "    <tr>\n",
       "      <th>3</th>\n",
       "      <td>4706255</td>\n",
       "      <td>1578429017218</td>\n",
       "      <td>6246028</td>\n",
       "      <td>9358</td>\n",
       "      <td>1962852</td>\n",
       "      <td>0</td>\n",
       "      <td>0</td>\n",
       "      <td>0</td>\n",
       "    </tr>\n",
       "    <tr>\n",
       "      <th>4</th>\n",
       "      <td>4706256</td>\n",
       "      <td>1578429021388</td>\n",
       "      <td>5327047</td>\n",
       "      <td>9358</td>\n",
       "      <td>2687719</td>\n",
       "      <td>0</td>\n",
       "      <td>0</td>\n",
       "      <td>0</td>\n",
       "    </tr>\n",
       "  </tbody>\n",
       "</table>\n",
       "</div>"
      ],
      "text/plain": [
       "   displayId      timestamp   pageId  widgetId   userId  device  OS  browser\n",
       "0    4706262  1578429005696  3543873      6262  2688642       0   0        0\n",
       "1    4706267  1578429007726  6245475       607  2688641       1   3        0\n",
       "2    4706260  1578429012060  4416499     11458  2688638       0   0        1\n",
       "3    4706255  1578429017218  6246028      9358  1962852       0   0        0\n",
       "4    4706256  1578429021388  5327047      9358  2687719       0   0        0"
      ]
     },
     "execution_count": 3,
     "metadata": {},
     "output_type": "execute_result"
    }
   ],
   "source": [
    "dfevent = pd.read_csv('../datadays2020/event.csv')\n",
    "dfevent.head()"
   ]
  },
  {
   "cell_type": "code",
   "execution_count": 4,
   "metadata": {},
   "outputs": [],
   "source": [
    "dftrain = pd.read_csv('../datadays2020/click_train.csv')"
   ]
  },
  {
   "cell_type": "code",
   "execution_count": 5,
   "metadata": {},
   "outputs": [
    {
     "data": {
      "text/html": [
       "<div>\n",
       "<style scoped>\n",
       "    .dataframe tbody tr th:only-of-type {\n",
       "        vertical-align: middle;\n",
       "    }\n",
       "\n",
       "    .dataframe tbody tr th {\n",
       "        vertical-align: top;\n",
       "    }\n",
       "\n",
       "    .dataframe thead th {\n",
       "        text-align: right;\n",
       "    }\n",
       "</style>\n",
       "<table border=\"1\" class=\"dataframe\">\n",
       "  <thead>\n",
       "    <tr style=\"text-align: right;\">\n",
       "      <th></th>\n",
       "      <th>displayId</th>\n",
       "      <th>adId</th>\n",
       "      <th>clicked</th>\n",
       "    </tr>\n",
       "  </thead>\n",
       "  <tbody>\n",
       "    <tr>\n",
       "      <th>0</th>\n",
       "      <td>1210227</td>\n",
       "      <td>7182</td>\n",
       "      <td>0</td>\n",
       "    </tr>\n",
       "    <tr>\n",
       "      <th>1</th>\n",
       "      <td>1210227</td>\n",
       "      <td>7125</td>\n",
       "      <td>0</td>\n",
       "    </tr>\n",
       "    <tr>\n",
       "      <th>2</th>\n",
       "      <td>1210227</td>\n",
       "      <td>7181</td>\n",
       "      <td>0</td>\n",
       "    </tr>\n",
       "    <tr>\n",
       "      <th>3</th>\n",
       "      <td>1210227</td>\n",
       "      <td>535</td>\n",
       "      <td>0</td>\n",
       "    </tr>\n",
       "    <tr>\n",
       "      <th>4</th>\n",
       "      <td>1210227</td>\n",
       "      <td>7174</td>\n",
       "      <td>1</td>\n",
       "    </tr>\n",
       "  </tbody>\n",
       "</table>\n",
       "</div>"
      ],
      "text/plain": [
       "   displayId  adId  clicked\n",
       "0    1210227  7182        0\n",
       "1    1210227  7125        0\n",
       "2    1210227  7181        0\n",
       "3    1210227   535        0\n",
       "4    1210227  7174        1"
      ]
     },
     "execution_count": 5,
     "metadata": {},
     "output_type": "execute_result"
    }
   ],
   "source": [
    "dftrain.head()"
   ]
  },
  {
   "cell_type": "code",
   "execution_count": 6,
   "metadata": {},
   "outputs": [
    {
     "data": {
      "text/html": [
       "<div>\n",
       "<style scoped>\n",
       "    .dataframe tbody tr th:only-of-type {\n",
       "        vertical-align: middle;\n",
       "    }\n",
       "\n",
       "    .dataframe tbody tr th {\n",
       "        vertical-align: top;\n",
       "    }\n",
       "\n",
       "    .dataframe thead th {\n",
       "        text-align: right;\n",
       "    }\n",
       "</style>\n",
       "<table border=\"1\" class=\"dataframe\">\n",
       "  <thead>\n",
       "    <tr style=\"text-align: right;\">\n",
       "      <th></th>\n",
       "      <th>displayId</th>\n",
       "      <th>adId</th>\n",
       "      <th>clicked</th>\n",
       "      <th>timestamp</th>\n",
       "      <th>pageId</th>\n",
       "      <th>widgetId</th>\n",
       "      <th>userId</th>\n",
       "      <th>device</th>\n",
       "      <th>OS</th>\n",
       "      <th>browser</th>\n",
       "    </tr>\n",
       "  </thead>\n",
       "  <tbody>\n",
       "    <tr>\n",
       "      <th>0</th>\n",
       "      <td>1210227</td>\n",
       "      <td>7182</td>\n",
       "      <td>0</td>\n",
       "      <td>1579598863403</td>\n",
       "      <td>420857</td>\n",
       "      <td>9519</td>\n",
       "      <td>782749</td>\n",
       "      <td>0</td>\n",
       "      <td>0</td>\n",
       "      <td>1</td>\n",
       "    </tr>\n",
       "    <tr>\n",
       "      <th>1</th>\n",
       "      <td>1210227</td>\n",
       "      <td>7125</td>\n",
       "      <td>0</td>\n",
       "      <td>1579598863403</td>\n",
       "      <td>420857</td>\n",
       "      <td>9519</td>\n",
       "      <td>782749</td>\n",
       "      <td>0</td>\n",
       "      <td>0</td>\n",
       "      <td>1</td>\n",
       "    </tr>\n",
       "    <tr>\n",
       "      <th>2</th>\n",
       "      <td>1210227</td>\n",
       "      <td>7181</td>\n",
       "      <td>0</td>\n",
       "      <td>1579598863403</td>\n",
       "      <td>420857</td>\n",
       "      <td>9519</td>\n",
       "      <td>782749</td>\n",
       "      <td>0</td>\n",
       "      <td>0</td>\n",
       "      <td>1</td>\n",
       "    </tr>\n",
       "    <tr>\n",
       "      <th>3</th>\n",
       "      <td>1210227</td>\n",
       "      <td>535</td>\n",
       "      <td>0</td>\n",
       "      <td>1579598863403</td>\n",
       "      <td>420857</td>\n",
       "      <td>9519</td>\n",
       "      <td>782749</td>\n",
       "      <td>0</td>\n",
       "      <td>0</td>\n",
       "      <td>1</td>\n",
       "    </tr>\n",
       "    <tr>\n",
       "      <th>4</th>\n",
       "      <td>1210227</td>\n",
       "      <td>7174</td>\n",
       "      <td>1</td>\n",
       "      <td>1579598863403</td>\n",
       "      <td>420857</td>\n",
       "      <td>9519</td>\n",
       "      <td>782749</td>\n",
       "      <td>0</td>\n",
       "      <td>0</td>\n",
       "      <td>1</td>\n",
       "    </tr>\n",
       "  </tbody>\n",
       "</table>\n",
       "</div>"
      ],
      "text/plain": [
       "   displayId  adId  clicked      timestamp  pageId  widgetId  userId  device  \\\n",
       "0    1210227  7182        0  1579598863403  420857      9519  782749       0   \n",
       "1    1210227  7125        0  1579598863403  420857      9519  782749       0   \n",
       "2    1210227  7181        0  1579598863403  420857      9519  782749       0   \n",
       "3    1210227   535        0  1579598863403  420857      9519  782749       0   \n",
       "4    1210227  7174        1  1579598863403  420857      9519  782749       0   \n",
       "\n",
       "   OS  browser  \n",
       "0   0        1  \n",
       "1   0        1  \n",
       "2   0        1  \n",
       "3   0        1  \n",
       "4   0        1  "
      ]
     },
     "execution_count": 6,
     "metadata": {},
     "output_type": "execute_result"
    }
   ],
   "source": [
    "prev = len(dftrain)\n",
    "dftrain = pd.merge(dftrain , dfevent , on='displayId' , how='left')\n",
    "after = len(dftrain)\n",
    "assert prev == after\n",
    "dftrain.head()"
   ]
  },
  {
   "cell_type": "code",
   "execution_count": 7,
   "metadata": {},
   "outputs": [],
   "source": [
    "dfweb = pd.read_csv('../datadays2020/page.csv')\n",
    "dftopic = pd.read_csv('../datadays2020/page_topic.csv')"
   ]
  },
  {
   "cell_type": "code",
   "execution_count": 8,
   "metadata": {},
   "outputs": [
    {
     "data": {
      "text/html": [
       "<div>\n",
       "<style scoped>\n",
       "    .dataframe tbody tr th:only-of-type {\n",
       "        vertical-align: middle;\n",
       "    }\n",
       "\n",
       "    .dataframe tbody tr th {\n",
       "        vertical-align: top;\n",
       "    }\n",
       "\n",
       "    .dataframe thead th {\n",
       "        text-align: right;\n",
       "    }\n",
       "</style>\n",
       "<table border=\"1\" class=\"dataframe\">\n",
       "  <thead>\n",
       "    <tr style=\"text-align: right;\">\n",
       "      <th></th>\n",
       "      <th>pageId</th>\n",
       "      <th>website</th>\n",
       "      <th>publisher</th>\n",
       "    </tr>\n",
       "  </thead>\n",
       "  <tbody>\n",
       "    <tr>\n",
       "      <th>0</th>\n",
       "      <td>1</td>\n",
       "      <td>0</td>\n",
       "      <td>0</td>\n",
       "    </tr>\n",
       "    <tr>\n",
       "      <th>1</th>\n",
       "      <td>3</td>\n",
       "      <td>1</td>\n",
       "      <td>1</td>\n",
       "    </tr>\n",
       "    <tr>\n",
       "      <th>2</th>\n",
       "      <td>4</td>\n",
       "      <td>2</td>\n",
       "      <td>2</td>\n",
       "    </tr>\n",
       "    <tr>\n",
       "      <th>3</th>\n",
       "      <td>5</td>\n",
       "      <td>3</td>\n",
       "      <td>3</td>\n",
       "    </tr>\n",
       "    <tr>\n",
       "      <th>4</th>\n",
       "      <td>6</td>\n",
       "      <td>4</td>\n",
       "      <td>4</td>\n",
       "    </tr>\n",
       "  </tbody>\n",
       "</table>\n",
       "</div>"
      ],
      "text/plain": [
       "   pageId  website  publisher\n",
       "0       1        0          0\n",
       "1       3        1          1\n",
       "2       4        2          2\n",
       "3       5        3          3\n",
       "4       6        4          4"
      ]
     },
     "execution_count": 8,
     "metadata": {},
     "output_type": "execute_result"
    }
   ],
   "source": [
    "dfweb.head()"
   ]
  },
  {
   "cell_type": "code",
   "execution_count": 9,
   "metadata": {},
   "outputs": [
    {
     "data": {
      "text/html": [
       "<div>\n",
       "<style scoped>\n",
       "    .dataframe tbody tr th:only-of-type {\n",
       "        vertical-align: middle;\n",
       "    }\n",
       "\n",
       "    .dataframe tbody tr th {\n",
       "        vertical-align: top;\n",
       "    }\n",
       "\n",
       "    .dataframe thead th {\n",
       "        text-align: right;\n",
       "    }\n",
       "</style>\n",
       "<table border=\"1\" class=\"dataframe\">\n",
       "  <thead>\n",
       "    <tr style=\"text-align: right;\">\n",
       "      <th></th>\n",
       "      <th>pageId</th>\n",
       "      <th>topicId</th>\n",
       "      <th>confidence</th>\n",
       "    </tr>\n",
       "  </thead>\n",
       "  <tbody>\n",
       "    <tr>\n",
       "      <th>0</th>\n",
       "      <td>10743259</td>\n",
       "      <td>37</td>\n",
       "      <td>0.497099</td>\n",
       "    </tr>\n",
       "    <tr>\n",
       "      <th>1</th>\n",
       "      <td>10743259</td>\n",
       "      <td>23</td>\n",
       "      <td>0.016994</td>\n",
       "    </tr>\n",
       "    <tr>\n",
       "      <th>2</th>\n",
       "      <td>10743259</td>\n",
       "      <td>10</td>\n",
       "      <td>0.371499</td>\n",
       "    </tr>\n",
       "    <tr>\n",
       "      <th>3</th>\n",
       "      <td>10743259</td>\n",
       "      <td>4</td>\n",
       "      <td>0.105349</td>\n",
       "    </tr>\n",
       "    <tr>\n",
       "      <th>4</th>\n",
       "      <td>10743258</td>\n",
       "      <td>33</td>\n",
       "      <td>0.245752</td>\n",
       "    </tr>\n",
       "  </tbody>\n",
       "</table>\n",
       "</div>"
      ],
      "text/plain": [
       "     pageId  topicId  confidence\n",
       "0  10743259       37    0.497099\n",
       "1  10743259       23    0.016994\n",
       "2  10743259       10    0.371499\n",
       "3  10743259        4    0.105349\n",
       "4  10743258       33    0.245752"
      ]
     },
     "execution_count": 9,
     "metadata": {},
     "output_type": "execute_result"
    }
   ],
   "source": [
    "dftopic.head()"
   ]
  },
  {
   "cell_type": "code",
   "execution_count": 10,
   "metadata": {},
   "outputs": [
    {
     "data": {
      "text/html": [
       "<div>\n",
       "<style scoped>\n",
       "    .dataframe tbody tr th:only-of-type {\n",
       "        vertical-align: middle;\n",
       "    }\n",
       "\n",
       "    .dataframe tbody tr th {\n",
       "        vertical-align: top;\n",
       "    }\n",
       "\n",
       "    .dataframe thead th {\n",
       "        text-align: right;\n",
       "    }\n",
       "</style>\n",
       "<table border=\"1\" class=\"dataframe\">\n",
       "  <thead>\n",
       "    <tr style=\"text-align: right;\">\n",
       "      <th></th>\n",
       "      <th>adId</th>\n",
       "      <th>campaignId</th>\n",
       "      <th>advertiserId</th>\n",
       "    </tr>\n",
       "  </thead>\n",
       "  <tbody>\n",
       "    <tr>\n",
       "      <th>0</th>\n",
       "      <td>7867</td>\n",
       "      <td>5918</td>\n",
       "      <td>8414</td>\n",
       "    </tr>\n",
       "    <tr>\n",
       "      <th>1</th>\n",
       "      <td>7866</td>\n",
       "      <td>5918</td>\n",
       "      <td>8414</td>\n",
       "    </tr>\n",
       "    <tr>\n",
       "      <th>2</th>\n",
       "      <td>7865</td>\n",
       "      <td>5918</td>\n",
       "      <td>8414</td>\n",
       "    </tr>\n",
       "    <tr>\n",
       "      <th>3</th>\n",
       "      <td>7863</td>\n",
       "      <td>8343</td>\n",
       "      <td>8414</td>\n",
       "    </tr>\n",
       "    <tr>\n",
       "      <th>4</th>\n",
       "      <td>7862</td>\n",
       "      <td>8343</td>\n",
       "      <td>8414</td>\n",
       "    </tr>\n",
       "  </tbody>\n",
       "</table>\n",
       "</div>"
      ],
      "text/plain": [
       "   adId  campaignId  advertiserId\n",
       "0  7867        5918          8414\n",
       "1  7866        5918          8414\n",
       "2  7865        5918          8414\n",
       "3  7863        8343          8414\n",
       "4  7862        8343          8414"
      ]
     },
     "execution_count": 10,
     "metadata": {},
     "output_type": "execute_result"
    }
   ],
   "source": [
    "dfad = pd.read_csv('../datadays2020/ad.csv')\n",
    "dfad.head()"
   ]
  },
  {
   "cell_type": "code",
   "execution_count": 11,
   "metadata": {},
   "outputs": [
    {
     "data": {
      "text/html": [
       "<div>\n",
       "<style scoped>\n",
       "    .dataframe tbody tr th:only-of-type {\n",
       "        vertical-align: middle;\n",
       "    }\n",
       "\n",
       "    .dataframe tbody tr th {\n",
       "        vertical-align: top;\n",
       "    }\n",
       "\n",
       "    .dataframe thead th {\n",
       "        text-align: right;\n",
       "    }\n",
       "</style>\n",
       "<table border=\"1\" class=\"dataframe\">\n",
       "  <thead>\n",
       "    <tr style=\"text-align: right;\">\n",
       "      <th></th>\n",
       "      <th>displayId</th>\n",
       "      <th>adId</th>\n",
       "      <th>clicked</th>\n",
       "      <th>timestamp</th>\n",
       "      <th>pageId</th>\n",
       "      <th>widgetId</th>\n",
       "      <th>userId</th>\n",
       "      <th>device</th>\n",
       "      <th>OS</th>\n",
       "      <th>browser</th>\n",
       "      <th>website</th>\n",
       "      <th>publisher</th>\n",
       "    </tr>\n",
       "  </thead>\n",
       "  <tbody>\n",
       "    <tr>\n",
       "      <th>0</th>\n",
       "      <td>1210227</td>\n",
       "      <td>7182</td>\n",
       "      <td>0</td>\n",
       "      <td>1579598863403</td>\n",
       "      <td>420857</td>\n",
       "      <td>9519</td>\n",
       "      <td>782749</td>\n",
       "      <td>0</td>\n",
       "      <td>0</td>\n",
       "      <td>1</td>\n",
       "      <td>477</td>\n",
       "      <td>49</td>\n",
       "    </tr>\n",
       "    <tr>\n",
       "      <th>1</th>\n",
       "      <td>1210227</td>\n",
       "      <td>7125</td>\n",
       "      <td>0</td>\n",
       "      <td>1579598863403</td>\n",
       "      <td>420857</td>\n",
       "      <td>9519</td>\n",
       "      <td>782749</td>\n",
       "      <td>0</td>\n",
       "      <td>0</td>\n",
       "      <td>1</td>\n",
       "      <td>477</td>\n",
       "      <td>49</td>\n",
       "    </tr>\n",
       "    <tr>\n",
       "      <th>2</th>\n",
       "      <td>1210227</td>\n",
       "      <td>7181</td>\n",
       "      <td>0</td>\n",
       "      <td>1579598863403</td>\n",
       "      <td>420857</td>\n",
       "      <td>9519</td>\n",
       "      <td>782749</td>\n",
       "      <td>0</td>\n",
       "      <td>0</td>\n",
       "      <td>1</td>\n",
       "      <td>477</td>\n",
       "      <td>49</td>\n",
       "    </tr>\n",
       "    <tr>\n",
       "      <th>3</th>\n",
       "      <td>1210227</td>\n",
       "      <td>535</td>\n",
       "      <td>0</td>\n",
       "      <td>1579598863403</td>\n",
       "      <td>420857</td>\n",
       "      <td>9519</td>\n",
       "      <td>782749</td>\n",
       "      <td>0</td>\n",
       "      <td>0</td>\n",
       "      <td>1</td>\n",
       "      <td>477</td>\n",
       "      <td>49</td>\n",
       "    </tr>\n",
       "    <tr>\n",
       "      <th>4</th>\n",
       "      <td>1210227</td>\n",
       "      <td>7174</td>\n",
       "      <td>1</td>\n",
       "      <td>1579598863403</td>\n",
       "      <td>420857</td>\n",
       "      <td>9519</td>\n",
       "      <td>782749</td>\n",
       "      <td>0</td>\n",
       "      <td>0</td>\n",
       "      <td>1</td>\n",
       "      <td>477</td>\n",
       "      <td>49</td>\n",
       "    </tr>\n",
       "  </tbody>\n",
       "</table>\n",
       "</div>"
      ],
      "text/plain": [
       "   displayId  adId  clicked      timestamp  pageId  widgetId  userId  device  \\\n",
       "0    1210227  7182        0  1579598863403  420857      9519  782749       0   \n",
       "1    1210227  7125        0  1579598863403  420857      9519  782749       0   \n",
       "2    1210227  7181        0  1579598863403  420857      9519  782749       0   \n",
       "3    1210227   535        0  1579598863403  420857      9519  782749       0   \n",
       "4    1210227  7174        1  1579598863403  420857      9519  782749       0   \n",
       "\n",
       "   OS  browser  website  publisher  \n",
       "0   0        1      477         49  \n",
       "1   0        1      477         49  \n",
       "2   0        1      477         49  \n",
       "3   0        1      477         49  \n",
       "4   0        1      477         49  "
      ]
     },
     "execution_count": 11,
     "metadata": {},
     "output_type": "execute_result"
    }
   ],
   "source": [
    "prev = len(dftrain)\n",
    "dftrain = pd.merge(dftrain , dfweb , on='pageId' , how='left')\n",
    "after = len(dftrain)\n",
    "assert prev == after\n",
    "dftrain.head()"
   ]
  },
  {
   "cell_type": "code",
   "execution_count": 12,
   "metadata": {},
   "outputs": [
    {
     "data": {
      "text/html": [
       "<div>\n",
       "<style scoped>\n",
       "    .dataframe tbody tr th:only-of-type {\n",
       "        vertical-align: middle;\n",
       "    }\n",
       "\n",
       "    .dataframe tbody tr th {\n",
       "        vertical-align: top;\n",
       "    }\n",
       "\n",
       "    .dataframe thead th {\n",
       "        text-align: right;\n",
       "    }\n",
       "</style>\n",
       "<table border=\"1\" class=\"dataframe\">\n",
       "  <thead>\n",
       "    <tr style=\"text-align: right;\">\n",
       "      <th></th>\n",
       "      <th>displayId</th>\n",
       "      <th>adId</th>\n",
       "      <th>clicked</th>\n",
       "      <th>timestamp</th>\n",
       "      <th>pageId</th>\n",
       "      <th>widgetId</th>\n",
       "      <th>userId</th>\n",
       "      <th>device</th>\n",
       "      <th>OS</th>\n",
       "      <th>browser</th>\n",
       "      <th>website</th>\n",
       "      <th>publisher</th>\n",
       "      <th>campaignId</th>\n",
       "      <th>advertiserId</th>\n",
       "    </tr>\n",
       "  </thead>\n",
       "  <tbody>\n",
       "    <tr>\n",
       "      <th>0</th>\n",
       "      <td>1210227</td>\n",
       "      <td>7182</td>\n",
       "      <td>0</td>\n",
       "      <td>1579598863403</td>\n",
       "      <td>420857</td>\n",
       "      <td>9519</td>\n",
       "      <td>782749</td>\n",
       "      <td>0</td>\n",
       "      <td>0</td>\n",
       "      <td>1</td>\n",
       "      <td>477</td>\n",
       "      <td>49</td>\n",
       "      <td>3402</td>\n",
       "      <td>7579</td>\n",
       "    </tr>\n",
       "    <tr>\n",
       "      <th>1</th>\n",
       "      <td>1210227</td>\n",
       "      <td>7125</td>\n",
       "      <td>0</td>\n",
       "      <td>1579598863403</td>\n",
       "      <td>420857</td>\n",
       "      <td>9519</td>\n",
       "      <td>782749</td>\n",
       "      <td>0</td>\n",
       "      <td>0</td>\n",
       "      <td>1</td>\n",
       "      <td>477</td>\n",
       "      <td>49</td>\n",
       "      <td>251</td>\n",
       "      <td>5971</td>\n",
       "    </tr>\n",
       "    <tr>\n",
       "      <th>2</th>\n",
       "      <td>1210227</td>\n",
       "      <td>7181</td>\n",
       "      <td>0</td>\n",
       "      <td>1579598863403</td>\n",
       "      <td>420857</td>\n",
       "      <td>9519</td>\n",
       "      <td>782749</td>\n",
       "      <td>0</td>\n",
       "      <td>0</td>\n",
       "      <td>1</td>\n",
       "      <td>477</td>\n",
       "      <td>49</td>\n",
       "      <td>3402</td>\n",
       "      <td>7579</td>\n",
       "    </tr>\n",
       "    <tr>\n",
       "      <th>3</th>\n",
       "      <td>1210227</td>\n",
       "      <td>535</td>\n",
       "      <td>0</td>\n",
       "      <td>1579598863403</td>\n",
       "      <td>420857</td>\n",
       "      <td>9519</td>\n",
       "      <td>782749</td>\n",
       "      <td>0</td>\n",
       "      <td>0</td>\n",
       "      <td>1</td>\n",
       "      <td>477</td>\n",
       "      <td>49</td>\n",
       "      <td>3186</td>\n",
       "      <td>1419</td>\n",
       "    </tr>\n",
       "    <tr>\n",
       "      <th>4</th>\n",
       "      <td>1210227</td>\n",
       "      <td>7174</td>\n",
       "      <td>1</td>\n",
       "      <td>1579598863403</td>\n",
       "      <td>420857</td>\n",
       "      <td>9519</td>\n",
       "      <td>782749</td>\n",
       "      <td>0</td>\n",
       "      <td>0</td>\n",
       "      <td>1</td>\n",
       "      <td>477</td>\n",
       "      <td>49</td>\n",
       "      <td>471</td>\n",
       "      <td>5528</td>\n",
       "    </tr>\n",
       "  </tbody>\n",
       "</table>\n",
       "</div>"
      ],
      "text/plain": [
       "   displayId  adId  clicked      timestamp  pageId  widgetId  userId  device  \\\n",
       "0    1210227  7182        0  1579598863403  420857      9519  782749       0   \n",
       "1    1210227  7125        0  1579598863403  420857      9519  782749       0   \n",
       "2    1210227  7181        0  1579598863403  420857      9519  782749       0   \n",
       "3    1210227   535        0  1579598863403  420857      9519  782749       0   \n",
       "4    1210227  7174        1  1579598863403  420857      9519  782749       0   \n",
       "\n",
       "   OS  browser  website  publisher  campaignId  advertiserId  \n",
       "0   0        1      477         49        3402          7579  \n",
       "1   0        1      477         49         251          5971  \n",
       "2   0        1      477         49        3402          7579  \n",
       "3   0        1      477         49        3186          1419  \n",
       "4   0        1      477         49         471          5528  "
      ]
     },
     "execution_count": 12,
     "metadata": {},
     "output_type": "execute_result"
    }
   ],
   "source": [
    "prev = len(dftrain)\n",
    "dftrain = pd.merge(dftrain , dfad , on='adId' , how='left')\n",
    "after = len(dftrain)\n",
    "assert prev == after\n",
    "dftrain.head()"
   ]
  },
  {
   "cell_type": "code",
   "execution_count": 96,
   "metadata": {},
   "outputs": [],
   "source": [
    "features = ['pageId' , 'userId' ,'adId','advertiserId' , 'campaignId' , 'widgetId'  ]\n",
    "column_names = ['pageId' , 'userId' ,'adId','advertiserId' , 'campaignId'  , 'widgetId']"
   ]
  },
  {
   "cell_type": "code",
   "execution_count": 34,
   "metadata": {},
   "outputs": [],
   "source": [
    "dftrainX = dftrain[features+['displayId']]\n",
    "dftrainY = dftrain[['displayId' , 'adId' , 'clicked']]"
   ]
  },
  {
   "cell_type": "code",
   "execution_count": 35,
   "metadata": {},
   "outputs": [
    {
     "data": {
      "text/html": [
       "<div>\n",
       "<style scoped>\n",
       "    .dataframe tbody tr th:only-of-type {\n",
       "        vertical-align: middle;\n",
       "    }\n",
       "\n",
       "    .dataframe tbody tr th {\n",
       "        vertical-align: top;\n",
       "    }\n",
       "\n",
       "    .dataframe thead th {\n",
       "        text-align: right;\n",
       "    }\n",
       "</style>\n",
       "<table border=\"1\" class=\"dataframe\">\n",
       "  <thead>\n",
       "    <tr style=\"text-align: right;\">\n",
       "      <th></th>\n",
       "      <th>pageId</th>\n",
       "      <th>userId</th>\n",
       "      <th>adId</th>\n",
       "      <th>advertiserId</th>\n",
       "      <th>campaignId</th>\n",
       "      <th>website</th>\n",
       "      <th>publisher</th>\n",
       "      <th>widgetId</th>\n",
       "      <th>displayId</th>\n",
       "    </tr>\n",
       "  </thead>\n",
       "  <tbody>\n",
       "    <tr>\n",
       "      <th>0</th>\n",
       "      <td>420857</td>\n",
       "      <td>782749</td>\n",
       "      <td>7182</td>\n",
       "      <td>7579</td>\n",
       "      <td>3402</td>\n",
       "      <td>477</td>\n",
       "      <td>49</td>\n",
       "      <td>9519</td>\n",
       "      <td>1210227</td>\n",
       "    </tr>\n",
       "    <tr>\n",
       "      <th>1</th>\n",
       "      <td>420857</td>\n",
       "      <td>782749</td>\n",
       "      <td>7125</td>\n",
       "      <td>5971</td>\n",
       "      <td>251</td>\n",
       "      <td>477</td>\n",
       "      <td>49</td>\n",
       "      <td>9519</td>\n",
       "      <td>1210227</td>\n",
       "    </tr>\n",
       "    <tr>\n",
       "      <th>2</th>\n",
       "      <td>420857</td>\n",
       "      <td>782749</td>\n",
       "      <td>7181</td>\n",
       "      <td>7579</td>\n",
       "      <td>3402</td>\n",
       "      <td>477</td>\n",
       "      <td>49</td>\n",
       "      <td>9519</td>\n",
       "      <td>1210227</td>\n",
       "    </tr>\n",
       "    <tr>\n",
       "      <th>3</th>\n",
       "      <td>420857</td>\n",
       "      <td>782749</td>\n",
       "      <td>535</td>\n",
       "      <td>1419</td>\n",
       "      <td>3186</td>\n",
       "      <td>477</td>\n",
       "      <td>49</td>\n",
       "      <td>9519</td>\n",
       "      <td>1210227</td>\n",
       "    </tr>\n",
       "    <tr>\n",
       "      <th>4</th>\n",
       "      <td>420857</td>\n",
       "      <td>782749</td>\n",
       "      <td>7174</td>\n",
       "      <td>5528</td>\n",
       "      <td>471</td>\n",
       "      <td>477</td>\n",
       "      <td>49</td>\n",
       "      <td>9519</td>\n",
       "      <td>1210227</td>\n",
       "    </tr>\n",
       "  </tbody>\n",
       "</table>\n",
       "</div>"
      ],
      "text/plain": [
       "   pageId  userId  adId  advertiserId  campaignId  website  publisher  \\\n",
       "0  420857  782749  7182          7579        3402      477         49   \n",
       "1  420857  782749  7125          5971         251      477         49   \n",
       "2  420857  782749  7181          7579        3402      477         49   \n",
       "3  420857  782749   535          1419        3186      477         49   \n",
       "4  420857  782749  7174          5528         471      477         49   \n",
       "\n",
       "   widgetId  displayId  \n",
       "0      9519    1210227  \n",
       "1      9519    1210227  \n",
       "2      9519    1210227  \n",
       "3      9519    1210227  \n",
       "4      9519    1210227  "
      ]
     },
     "execution_count": 35,
     "metadata": {},
     "output_type": "execute_result"
    }
   ],
   "source": [
    "dftrainX.head()"
   ]
  },
  {
   "cell_type": "code",
   "execution_count": 38,
   "metadata": {},
   "outputs": [
    {
     "data": {
      "text/html": [
       "<div>\n",
       "<style scoped>\n",
       "    .dataframe tbody tr th:only-of-type {\n",
       "        vertical-align: middle;\n",
       "    }\n",
       "\n",
       "    .dataframe tbody tr th {\n",
       "        vertical-align: top;\n",
       "    }\n",
       "\n",
       "    .dataframe thead th {\n",
       "        text-align: right;\n",
       "    }\n",
       "</style>\n",
       "<table border=\"1\" class=\"dataframe\">\n",
       "  <thead>\n",
       "    <tr style=\"text-align: right;\">\n",
       "      <th></th>\n",
       "      <th>displayId</th>\n",
       "      <th>adId</th>\n",
       "      <th>clicked</th>\n",
       "    </tr>\n",
       "  </thead>\n",
       "  <tbody>\n",
       "    <tr>\n",
       "      <th>0</th>\n",
       "      <td>1210227</td>\n",
       "      <td>7182</td>\n",
       "      <td>0</td>\n",
       "    </tr>\n",
       "    <tr>\n",
       "      <th>1</th>\n",
       "      <td>1210227</td>\n",
       "      <td>7125</td>\n",
       "      <td>0</td>\n",
       "    </tr>\n",
       "    <tr>\n",
       "      <th>2</th>\n",
       "      <td>1210227</td>\n",
       "      <td>7181</td>\n",
       "      <td>0</td>\n",
       "    </tr>\n",
       "    <tr>\n",
       "      <th>3</th>\n",
       "      <td>1210227</td>\n",
       "      <td>535</td>\n",
       "      <td>0</td>\n",
       "    </tr>\n",
       "    <tr>\n",
       "      <th>4</th>\n",
       "      <td>1210227</td>\n",
       "      <td>7174</td>\n",
       "      <td>1</td>\n",
       "    </tr>\n",
       "  </tbody>\n",
       "</table>\n",
       "</div>"
      ],
      "text/plain": [
       "   displayId  adId  clicked\n",
       "0    1210227  7182        0\n",
       "1    1210227  7125        0\n",
       "2    1210227  7181        0\n",
       "3    1210227   535        0\n",
       "4    1210227  7174        1"
      ]
     },
     "execution_count": 38,
     "metadata": {},
     "output_type": "execute_result"
    }
   ],
   "source": [
    "dftrainY.head()"
   ]
  },
  {
   "cell_type": "code",
   "execution_count": 17,
   "metadata": {},
   "outputs": [],
   "source": [
    "temp=dftrainY['displayId'].value_counts()"
   ]
  },
  {
   "cell_type": "code",
   "execution_count": 18,
   "metadata": {},
   "outputs": [],
   "source": [
    "temp.index=temp.index.astype(str)"
   ]
  },
  {
   "cell_type": "code",
   "execution_count": 19,
   "metadata": {},
   "outputs": [],
   "source": [
    "td = temp.to_dict()"
   ]
  },
  {
   "cell_type": "code",
   "execution_count": 20,
   "metadata": {},
   "outputs": [
    {
     "name": "stderr",
     "output_type": "stream",
     "text": [
      "c:\\users\\sajjad\\appdata\\local\\programs\\python\\python36\\lib\\site-packages\\ipykernel_launcher.py:1: SettingWithCopyWarning: \n",
      "A value is trying to be set on a copy of a slice from a DataFrame.\n",
      "Try using .loc[row_indexer,col_indexer] = value instead\n",
      "\n",
      "See the caveats in the documentation: http://pandas.pydata.org/pandas-docs/stable/indexing.html#indexing-view-versus-copy\n",
      "  \"\"\"Entry point for launching an IPython kernel.\n"
     ]
    }
   ],
   "source": [
    "dftrainY['displayId'] = dftrainY['displayId'].astype(str)"
   ]
  },
  {
   "cell_type": "code",
   "execution_count": 21,
   "metadata": {},
   "outputs": [],
   "source": [
    "ul=[]\n",
    "def add_to(x):\n",
    "    ul.append(x)\n",
    "    return 1\n"
   ]
  },
  {
   "cell_type": "code",
   "execution_count": 86,
   "metadata": {},
   "outputs": [
    {
     "data": {
      "text/html": [
       "<div>\n",
       "<style scoped>\n",
       "    .dataframe tbody tr th:only-of-type {\n",
       "        vertical-align: middle;\n",
       "    }\n",
       "\n",
       "    .dataframe tbody tr th {\n",
       "        vertical-align: top;\n",
       "    }\n",
       "\n",
       "    .dataframe thead th {\n",
       "        text-align: right;\n",
       "    }\n",
       "</style>\n",
       "<table border=\"1\" class=\"dataframe\">\n",
       "  <thead>\n",
       "    <tr style=\"text-align: right;\">\n",
       "      <th></th>\n",
       "      <th>displayId</th>\n",
       "      <th>adId</th>\n",
       "      <th>clicked</th>\n",
       "      <th>Frecuency</th>\n",
       "      <th>probability</th>\n",
       "    </tr>\n",
       "  </thead>\n",
       "  <tbody>\n",
       "    <tr>\n",
       "      <th>0</th>\n",
       "      <td>1210227</td>\n",
       "      <td>7182</td>\n",
       "      <td>0</td>\n",
       "      <td>1</td>\n",
       "      <td>0.5</td>\n",
       "    </tr>\n",
       "    <tr>\n",
       "      <th>1</th>\n",
       "      <td>1210227</td>\n",
       "      <td>7125</td>\n",
       "      <td>0</td>\n",
       "      <td>1</td>\n",
       "      <td>0.5</td>\n",
       "    </tr>\n",
       "    <tr>\n",
       "      <th>2</th>\n",
       "      <td>1210227</td>\n",
       "      <td>7181</td>\n",
       "      <td>0</td>\n",
       "      <td>1</td>\n",
       "      <td>0.5</td>\n",
       "    </tr>\n",
       "    <tr>\n",
       "      <th>3</th>\n",
       "      <td>1210227</td>\n",
       "      <td>535</td>\n",
       "      <td>0</td>\n",
       "      <td>1</td>\n",
       "      <td>0.5</td>\n",
       "    </tr>\n",
       "    <tr>\n",
       "      <th>4</th>\n",
       "      <td>1210227</td>\n",
       "      <td>7174</td>\n",
       "      <td>1</td>\n",
       "      <td>1</td>\n",
       "      <td>1.0</td>\n",
       "    </tr>\n",
       "  </tbody>\n",
       "</table>\n",
       "</div>"
      ],
      "text/plain": [
       "   displayId  adId  clicked  Frecuency  probability\n",
       "0    1210227  7182        0          1          0.5\n",
       "1    1210227  7125        0          1          0.5\n",
       "2    1210227  7181        0          1          0.5\n",
       "3    1210227   535        0          1          0.5\n",
       "4    1210227  7174        1          1          1.0"
      ]
     },
     "execution_count": 86,
     "metadata": {},
     "output_type": "execute_result"
    }
   ],
   "source": [
    "dftrainY.head()"
   ]
  },
  {
   "cell_type": "code",
   "execution_count": 39,
   "metadata": {},
   "outputs": [
    {
     "name": "stderr",
     "output_type": "stream",
     "text": [
      "c:\\users\\sajjad\\appdata\\local\\programs\\python\\python36\\lib\\site-packages\\ipykernel_launcher.py:5: SettingWithCopyWarning: \n",
      "A value is trying to be set on a copy of a slice from a DataFrame.\n",
      "Try using .loc[row_indexer,col_indexer] = value instead\n",
      "\n",
      "See the caveats in the documentation: http://pandas.pydata.org/pandas-docs/stable/indexing.html#indexing-view-versus-copy\n",
      "  \"\"\"\n",
      "c:\\users\\sajjad\\appdata\\local\\programs\\python\\python36\\lib\\site-packages\\ipykernel_launcher.py:8: SettingWithCopyWarning: \n",
      "A value is trying to be set on a copy of a slice from a DataFrame.\n",
      "Try using .loc[row_indexer,col_indexer] = value instead\n",
      "\n",
      "See the caveats in the documentation: http://pandas.pydata.org/pandas-docs/stable/indexing.html#indexing-view-versus-copy\n",
      "  \n",
      "c:\\users\\sajjad\\appdata\\local\\programs\\python\\python36\\lib\\site-packages\\ipykernel_launcher.py:10: SettingWithCopyWarning: \n",
      "A value is trying to be set on a copy of a slice from a DataFrame.\n",
      "Try using .loc[row_indexer,col_indexer] = value instead\n",
      "\n",
      "See the caveats in the documentation: http://pandas.pydata.org/pandas-docs/stable/indexing.html#indexing-view-versus-copy\n",
      "  # Remove the CWD from sys.path while we load stuff.\n"
     ]
    }
   ],
   "source": [
    "\n",
    "\n",
    "#df['displayId'] = df['displayId'].astype(int)\n",
    "\n",
    "dftrainY['Frecuency'] = dftrainY['displayId'].apply(lambda x : td.get(x) if td.get(x)!=None else add_to(x))\n",
    "\n",
    "\n",
    "dftrainY[\"clicked\"] += 1\n",
    "\n",
    "dftrainY[\"probability\"] = dftrainY[\"clicked\"]/(dftrainY[\"Frecuency\"]*2)\n",
    "\n",
    "#print(df.head(5))"
   ]
  },
  {
   "cell_type": "markdown",
   "metadata": {},
   "source": [
    "## Some ML"
   ]
  },
  {
   "cell_type": "code",
   "execution_count": 36,
   "metadata": {},
   "outputs": [],
   "source": [
    "def create_real_train(features,column_names,x_train):\n",
    "    count=0;\n",
    "    n = len(x_train)\n",
    "    print(n)\n",
    "    dfdummy = pd.DataFrame(columns = column_names)\n",
    "    featuregroups = {}\n",
    "    for f in features:\n",
    "        featuregroups[f] = dftrain.groupby(f).mean()['clicked']\n",
    "    temps=[]\n",
    "    for i,r in x_train.iterrows():\n",
    "        count+=1\n",
    "        if(count%100000==0):\n",
    "            print(\"--{}--\".format(count/n))\n",
    "        temp=[]\n",
    "        for f in features:\n",
    "            tr = featuregroups[f].get(r[f])\n",
    "            #print(tr)\n",
    "            temp.append(tr if tr!=None else 0)\n",
    "        temps.append(temp)\n",
    "    dfdummy=dfdummy.append(pd.DataFrame(temps, columns=column_names) , ignore_index=True)\n",
    "    return dfdummy"
   ]
  },
  {
   "cell_type": "code",
   "execution_count": 25,
   "metadata": {},
   "outputs": [
    {
     "data": {
      "text/plain": [
       "'3642244-3642244'"
      ]
     },
     "execution_count": 25,
     "metadata": {},
     "output_type": "execute_result"
    }
   ],
   "source": [
    "\"{}-{}\".format(len(dftrainX),len(dftrainY))"
   ]
  },
  {
   "cell_type": "code",
   "execution_count": 40,
   "metadata": {},
   "outputs": [],
   "source": [
    "from sklearn.model_selection import train_test_split\n",
    "X_train, X_test, y_train, y_test = train_test_split(\n",
    "    dftrainX, dftrainY, test_size=0.33, random_state=40)"
   ]
  },
  {
   "cell_type": "code",
   "execution_count": 70,
   "metadata": {},
   "outputs": [
    {
     "data": {
      "text/html": [
       "<div>\n",
       "<style scoped>\n",
       "    .dataframe tbody tr th:only-of-type {\n",
       "        vertical-align: middle;\n",
       "    }\n",
       "\n",
       "    .dataframe tbody tr th {\n",
       "        vertical-align: top;\n",
       "    }\n",
       "\n",
       "    .dataframe thead th {\n",
       "        text-align: right;\n",
       "    }\n",
       "</style>\n",
       "<table border=\"1\" class=\"dataframe\">\n",
       "  <thead>\n",
       "    <tr style=\"text-align: right;\">\n",
       "      <th></th>\n",
       "      <th>displayId</th>\n",
       "      <th>adId</th>\n",
       "      <th>clicked</th>\n",
       "      <th>Frecuency</th>\n",
       "      <th>probability</th>\n",
       "    </tr>\n",
       "  </thead>\n",
       "  <tbody>\n",
       "    <tr>\n",
       "      <th>2282800</th>\n",
       "      <td>3574127</td>\n",
       "      <td>5894</td>\n",
       "      <td>1</td>\n",
       "      <td>1</td>\n",
       "      <td>0.5</td>\n",
       "    </tr>\n",
       "    <tr>\n",
       "      <th>1391896</th>\n",
       "      <td>2807552</td>\n",
       "      <td>6297</td>\n",
       "      <td>2</td>\n",
       "      <td>1</td>\n",
       "      <td>1.0</td>\n",
       "    </tr>\n",
       "    <tr>\n",
       "      <th>2930660</th>\n",
       "      <td>4123282</td>\n",
       "      <td>3565</td>\n",
       "      <td>1</td>\n",
       "      <td>1</td>\n",
       "      <td>0.5</td>\n",
       "    </tr>\n",
       "    <tr>\n",
       "      <th>3277130</th>\n",
       "      <td>4413315</td>\n",
       "      <td>5540</td>\n",
       "      <td>2</td>\n",
       "      <td>1</td>\n",
       "      <td>1.0</td>\n",
       "    </tr>\n",
       "    <tr>\n",
       "      <th>1479623</th>\n",
       "      <td>2869000</td>\n",
       "      <td>4179</td>\n",
       "      <td>1</td>\n",
       "      <td>1</td>\n",
       "      <td>0.5</td>\n",
       "    </tr>\n",
       "  </tbody>\n",
       "</table>\n",
       "</div>"
      ],
      "text/plain": [
       "         displayId  adId  clicked  Frecuency  probability\n",
       "2282800    3574127  5894        1          1          0.5\n",
       "1391896    2807552  6297        2          1          1.0\n",
       "2930660    4123282  3565        1          1          0.5\n",
       "3277130    4413315  5540        2          1          1.0\n",
       "1479623    2869000  4179        1          1          0.5"
      ]
     },
     "execution_count": 70,
     "metadata": {},
     "output_type": "execute_result"
    }
   ],
   "source": [
    "y_test.head()"
   ]
  },
  {
   "cell_type": "code",
   "execution_count": 41,
   "metadata": {},
   "outputs": [
    {
     "name": "stdout",
     "output_type": "stream",
     "text": [
      "2440303\n",
      "--0.040978517831597144--\n",
      "--0.08195703566319429--\n",
      "--0.12293555349479142--\n",
      "--0.16391407132638858--\n",
      "--0.20489258915798572--\n",
      "--0.24587110698958284--\n",
      "--0.28684962482118--\n",
      "--0.32782814265277715--\n",
      "--0.36880666048437427--\n",
      "--0.40978517831597144--\n",
      "--0.45076369614756856--\n",
      "--0.4917422139791657--\n",
      "--0.5327207318107628--\n",
      "--0.57369924964236--\n",
      "--0.6146777674739571--\n",
      "--0.6556562853055543--\n",
      "--0.6966348031371514--\n",
      "--0.7376133209687485--\n",
      "--0.7785918388003457--\n",
      "--0.8195703566319429--\n",
      "--0.86054887446354--\n",
      "--0.9015273922951371--\n",
      "--0.9425059101267342--\n",
      "--0.9834844279583314--\n"
     ]
    }
   ],
   "source": [
    "X = create_real_train(features , column_names , X_train)"
   ]
  },
  {
   "cell_type": "code",
   "execution_count": 42,
   "metadata": {},
   "outputs": [],
   "source": [
    "X.to_csv('../temp/traintemp.csv')"
   ]
  },
  {
   "cell_type": "code",
   "execution_count": 43,
   "metadata": {},
   "outputs": [],
   "source": [
    "X = pd.read_csv('../temp/traintemp.csv')"
   ]
  },
  {
   "cell_type": "code",
   "execution_count": 44,
   "metadata": {},
   "outputs": [
    {
     "data": {
      "text/html": [
       "<div>\n",
       "<style scoped>\n",
       "    .dataframe tbody tr th:only-of-type {\n",
       "        vertical-align: middle;\n",
       "    }\n",
       "\n",
       "    .dataframe tbody tr th {\n",
       "        vertical-align: top;\n",
       "    }\n",
       "\n",
       "    .dataframe thead th {\n",
       "        text-align: right;\n",
       "    }\n",
       "</style>\n",
       "<table border=\"1\" class=\"dataframe\">\n",
       "  <thead>\n",
       "    <tr style=\"text-align: right;\">\n",
       "      <th></th>\n",
       "      <th>Unnamed: 0</th>\n",
       "      <th>pageId</th>\n",
       "      <th>userId</th>\n",
       "      <th>adId</th>\n",
       "      <th>advertiserId</th>\n",
       "      <th>campaignId</th>\n",
       "      <th>website</th>\n",
       "      <th>publisher</th>\n",
       "      <th>widgetId</th>\n",
       "    </tr>\n",
       "  </thead>\n",
       "  <tbody>\n",
       "    <tr>\n",
       "      <th>0</th>\n",
       "      <td>0</td>\n",
       "      <td>0.250000</td>\n",
       "      <td>0.217391</td>\n",
       "      <td>0.424315</td>\n",
       "      <td>0.233979</td>\n",
       "      <td>0.424315</td>\n",
       "      <td>0.205638</td>\n",
       "      <td>0.205638</td>\n",
       "      <td>0.215686</td>\n",
       "    </tr>\n",
       "    <tr>\n",
       "      <th>1</th>\n",
       "      <td>1</td>\n",
       "      <td>0.241379</td>\n",
       "      <td>0.333333</td>\n",
       "      <td>0.214671</td>\n",
       "      <td>0.205123</td>\n",
       "      <td>0.182972</td>\n",
       "      <td>0.223844</td>\n",
       "      <td>0.217140</td>\n",
       "      <td>0.323972</td>\n",
       "    </tr>\n",
       "    <tr>\n",
       "      <th>2</th>\n",
       "      <td>2</td>\n",
       "      <td>0.214101</td>\n",
       "      <td>0.125000</td>\n",
       "      <td>0.226177</td>\n",
       "      <td>0.245101</td>\n",
       "      <td>0.245101</td>\n",
       "      <td>0.224455</td>\n",
       "      <td>0.224455</td>\n",
       "      <td>0.171948</td>\n",
       "    </tr>\n",
       "    <tr>\n",
       "      <th>3</th>\n",
       "      <td>3</td>\n",
       "      <td>0.151376</td>\n",
       "      <td>0.156250</td>\n",
       "      <td>0.250124</td>\n",
       "      <td>0.232260</td>\n",
       "      <td>0.227522</td>\n",
       "      <td>0.149209</td>\n",
       "      <td>0.149209</td>\n",
       "      <td>0.149209</td>\n",
       "    </tr>\n",
       "    <tr>\n",
       "      <th>4</th>\n",
       "      <td>4</td>\n",
       "      <td>0.182406</td>\n",
       "      <td>0.125000</td>\n",
       "      <td>0.122507</td>\n",
       "      <td>0.205123</td>\n",
       "      <td>0.182972</td>\n",
       "      <td>0.172788</td>\n",
       "      <td>0.172788</td>\n",
       "      <td>0.145185</td>\n",
       "    </tr>\n",
       "  </tbody>\n",
       "</table>\n",
       "</div>"
      ],
      "text/plain": [
       "   Unnamed: 0    pageId    userId      adId  advertiserId  campaignId  \\\n",
       "0           0  0.250000  0.217391  0.424315      0.233979    0.424315   \n",
       "1           1  0.241379  0.333333  0.214671      0.205123    0.182972   \n",
       "2           2  0.214101  0.125000  0.226177      0.245101    0.245101   \n",
       "3           3  0.151376  0.156250  0.250124      0.232260    0.227522   \n",
       "4           4  0.182406  0.125000  0.122507      0.205123    0.182972   \n",
       "\n",
       "    website  publisher  widgetId  \n",
       "0  0.205638   0.205638  0.215686  \n",
       "1  0.223844   0.217140  0.323972  \n",
       "2  0.224455   0.224455  0.171948  \n",
       "3  0.149209   0.149209  0.149209  \n",
       "4  0.172788   0.172788  0.145185  "
      ]
     },
     "execution_count": 44,
     "metadata": {},
     "output_type": "execute_result"
    }
   ],
   "source": [
    "X.head()"
   ]
  },
  {
   "cell_type": "code",
   "execution_count": 97,
   "metadata": {},
   "outputs": [],
   "source": [
    "X = X[features]"
   ]
  },
  {
   "cell_type": "code",
   "execution_count": 98,
   "metadata": {},
   "outputs": [
    {
     "data": {
      "text/html": [
       "<div>\n",
       "<style scoped>\n",
       "    .dataframe tbody tr th:only-of-type {\n",
       "        vertical-align: middle;\n",
       "    }\n",
       "\n",
       "    .dataframe tbody tr th {\n",
       "        vertical-align: top;\n",
       "    }\n",
       "\n",
       "    .dataframe thead th {\n",
       "        text-align: right;\n",
       "    }\n",
       "</style>\n",
       "<table border=\"1\" class=\"dataframe\">\n",
       "  <thead>\n",
       "    <tr style=\"text-align: right;\">\n",
       "      <th></th>\n",
       "      <th>pageId</th>\n",
       "      <th>userId</th>\n",
       "      <th>adId</th>\n",
       "      <th>advertiserId</th>\n",
       "      <th>campaignId</th>\n",
       "      <th>widgetId</th>\n",
       "    </tr>\n",
       "  </thead>\n",
       "  <tbody>\n",
       "    <tr>\n",
       "      <th>0</th>\n",
       "      <td>0.250000</td>\n",
       "      <td>0.217391</td>\n",
       "      <td>0.424315</td>\n",
       "      <td>0.233979</td>\n",
       "      <td>0.424315</td>\n",
       "      <td>0.215686</td>\n",
       "    </tr>\n",
       "    <tr>\n",
       "      <th>1</th>\n",
       "      <td>0.241379</td>\n",
       "      <td>0.333333</td>\n",
       "      <td>0.214671</td>\n",
       "      <td>0.205123</td>\n",
       "      <td>0.182972</td>\n",
       "      <td>0.323972</td>\n",
       "    </tr>\n",
       "    <tr>\n",
       "      <th>2</th>\n",
       "      <td>0.214101</td>\n",
       "      <td>0.125000</td>\n",
       "      <td>0.226177</td>\n",
       "      <td>0.245101</td>\n",
       "      <td>0.245101</td>\n",
       "      <td>0.171948</td>\n",
       "    </tr>\n",
       "    <tr>\n",
       "      <th>3</th>\n",
       "      <td>0.151376</td>\n",
       "      <td>0.156250</td>\n",
       "      <td>0.250124</td>\n",
       "      <td>0.232260</td>\n",
       "      <td>0.227522</td>\n",
       "      <td>0.149209</td>\n",
       "    </tr>\n",
       "    <tr>\n",
       "      <th>4</th>\n",
       "      <td>0.182406</td>\n",
       "      <td>0.125000</td>\n",
       "      <td>0.122507</td>\n",
       "      <td>0.205123</td>\n",
       "      <td>0.182972</td>\n",
       "      <td>0.145185</td>\n",
       "    </tr>\n",
       "  </tbody>\n",
       "</table>\n",
       "</div>"
      ],
      "text/plain": [
       "     pageId    userId      adId  advertiserId  campaignId  widgetId\n",
       "0  0.250000  0.217391  0.424315      0.233979    0.424315  0.215686\n",
       "1  0.241379  0.333333  0.214671      0.205123    0.182972  0.323972\n",
       "2  0.214101  0.125000  0.226177      0.245101    0.245101  0.171948\n",
       "3  0.151376  0.156250  0.250124      0.232260    0.227522  0.149209\n",
       "4  0.182406  0.125000  0.122507      0.205123    0.182972  0.145185"
      ]
     },
     "execution_count": 98,
     "metadata": {},
     "output_type": "execute_result"
    }
   ],
   "source": [
    "X.head()"
   ]
  },
  {
   "cell_type": "code",
   "execution_count": 85,
   "metadata": {},
   "outputs": [
    {
     "data": {
      "text/html": [
       "<div>\n",
       "<style scoped>\n",
       "    .dataframe tbody tr th:only-of-type {\n",
       "        vertical-align: middle;\n",
       "    }\n",
       "\n",
       "    .dataframe tbody tr th {\n",
       "        vertical-align: top;\n",
       "    }\n",
       "\n",
       "    .dataframe thead th {\n",
       "        text-align: right;\n",
       "    }\n",
       "</style>\n",
       "<table border=\"1\" class=\"dataframe\">\n",
       "  <thead>\n",
       "    <tr style=\"text-align: right;\">\n",
       "      <th></th>\n",
       "      <th>displayId</th>\n",
       "      <th>adId</th>\n",
       "      <th>clicked</th>\n",
       "      <th>Frecuency</th>\n",
       "      <th>probability</th>\n",
       "    </tr>\n",
       "  </thead>\n",
       "  <tbody>\n",
       "    <tr>\n",
       "      <th>3491420</th>\n",
       "      <td>4608597</td>\n",
       "      <td>5209</td>\n",
       "      <td>2</td>\n",
       "      <td>1</td>\n",
       "      <td>1.0</td>\n",
       "    </tr>\n",
       "    <tr>\n",
       "      <th>687541</th>\n",
       "      <td>2022587</td>\n",
       "      <td>5780</td>\n",
       "      <td>2</td>\n",
       "      <td>1</td>\n",
       "      <td>1.0</td>\n",
       "    </tr>\n",
       "    <tr>\n",
       "      <th>1927360</th>\n",
       "      <td>3281513</td>\n",
       "      <td>517</td>\n",
       "      <td>1</td>\n",
       "      <td>1</td>\n",
       "      <td>0.5</td>\n",
       "    </tr>\n",
       "    <tr>\n",
       "      <th>539276</th>\n",
       "      <td>1895734</td>\n",
       "      <td>6192</td>\n",
       "      <td>1</td>\n",
       "      <td>1</td>\n",
       "      <td>0.5</td>\n",
       "    </tr>\n",
       "    <tr>\n",
       "      <th>2565726</th>\n",
       "      <td>3816446</td>\n",
       "      <td>5771</td>\n",
       "      <td>1</td>\n",
       "      <td>1</td>\n",
       "      <td>0.5</td>\n",
       "    </tr>\n",
       "    <tr>\n",
       "      <th>1152971</th>\n",
       "      <td>2557522</td>\n",
       "      <td>6278</td>\n",
       "      <td>1</td>\n",
       "      <td>1</td>\n",
       "      <td>0.5</td>\n",
       "    </tr>\n",
       "    <tr>\n",
       "      <th>3302996</th>\n",
       "      <td>4435973</td>\n",
       "      <td>2679</td>\n",
       "      <td>2</td>\n",
       "      <td>1</td>\n",
       "      <td>1.0</td>\n",
       "    </tr>\n",
       "    <tr>\n",
       "      <th>1194334</th>\n",
       "      <td>2601202</td>\n",
       "      <td>5021</td>\n",
       "      <td>1</td>\n",
       "      <td>1</td>\n",
       "      <td>0.5</td>\n",
       "    </tr>\n",
       "    <tr>\n",
       "      <th>70991</th>\n",
       "      <td>1384540</td>\n",
       "      <td>6386</td>\n",
       "      <td>1</td>\n",
       "      <td>1</td>\n",
       "      <td>0.5</td>\n",
       "    </tr>\n",
       "    <tr>\n",
       "      <th>767433</th>\n",
       "      <td>2131502</td>\n",
       "      <td>6643</td>\n",
       "      <td>1</td>\n",
       "      <td>1</td>\n",
       "      <td>0.5</td>\n",
       "    </tr>\n",
       "    <tr>\n",
       "      <th>1553521</th>\n",
       "      <td>2924528</td>\n",
       "      <td>4611</td>\n",
       "      <td>1</td>\n",
       "      <td>1</td>\n",
       "      <td>0.5</td>\n",
       "    </tr>\n",
       "    <tr>\n",
       "      <th>2516110</th>\n",
       "      <td>3747810</td>\n",
       "      <td>28</td>\n",
       "      <td>1</td>\n",
       "      <td>1</td>\n",
       "      <td>0.5</td>\n",
       "    </tr>\n",
       "    <tr>\n",
       "      <th>5790</th>\n",
       "      <td>1333423</td>\n",
       "      <td>2679</td>\n",
       "      <td>2</td>\n",
       "      <td>1</td>\n",
       "      <td>1.0</td>\n",
       "    </tr>\n",
       "    <tr>\n",
       "      <th>311992</th>\n",
       "      <td>1620557</td>\n",
       "      <td>6965</td>\n",
       "      <td>1</td>\n",
       "      <td>1</td>\n",
       "      <td>0.5</td>\n",
       "    </tr>\n",
       "    <tr>\n",
       "      <th>13922</th>\n",
       "      <td>1340501</td>\n",
       "      <td>535</td>\n",
       "      <td>2</td>\n",
       "      <td>1</td>\n",
       "      <td>1.0</td>\n",
       "    </tr>\n",
       "    <tr>\n",
       "      <th>2730241</th>\n",
       "      <td>3912559</td>\n",
       "      <td>1395</td>\n",
       "      <td>1</td>\n",
       "      <td>1</td>\n",
       "      <td>0.5</td>\n",
       "    </tr>\n",
       "    <tr>\n",
       "      <th>1875018</th>\n",
       "      <td>3216749</td>\n",
       "      <td>5891</td>\n",
       "      <td>1</td>\n",
       "      <td>1</td>\n",
       "      <td>0.5</td>\n",
       "    </tr>\n",
       "    <tr>\n",
       "      <th>1654856</th>\n",
       "      <td>3049282</td>\n",
       "      <td>6246</td>\n",
       "      <td>1</td>\n",
       "      <td>1</td>\n",
       "      <td>0.5</td>\n",
       "    </tr>\n",
       "    <tr>\n",
       "      <th>178725</th>\n",
       "      <td>1471571</td>\n",
       "      <td>7003</td>\n",
       "      <td>1</td>\n",
       "      <td>1</td>\n",
       "      <td>0.5</td>\n",
       "    </tr>\n",
       "    <tr>\n",
       "      <th>3226799</th>\n",
       "      <td>4379632</td>\n",
       "      <td>552</td>\n",
       "      <td>1</td>\n",
       "      <td>1</td>\n",
       "      <td>0.5</td>\n",
       "    </tr>\n",
       "  </tbody>\n",
       "</table>\n",
       "</div>"
      ],
      "text/plain": [
       "         displayId  adId  clicked  Frecuency  probability\n",
       "3491420    4608597  5209        2          1          1.0\n",
       "687541     2022587  5780        2          1          1.0\n",
       "1927360    3281513   517        1          1          0.5\n",
       "539276     1895734  6192        1          1          0.5\n",
       "2565726    3816446  5771        1          1          0.5\n",
       "1152971    2557522  6278        1          1          0.5\n",
       "3302996    4435973  2679        2          1          1.0\n",
       "1194334    2601202  5021        1          1          0.5\n",
       "70991      1384540  6386        1          1          0.5\n",
       "767433     2131502  6643        1          1          0.5\n",
       "1553521    2924528  4611        1          1          0.5\n",
       "2516110    3747810    28        1          1          0.5\n",
       "5790       1333423  2679        2          1          1.0\n",
       "311992     1620557  6965        1          1          0.5\n",
       "13922      1340501   535        2          1          1.0\n",
       "2730241    3912559  1395        1          1          0.5\n",
       "1875018    3216749  5891        1          1          0.5\n",
       "1654856    3049282  6246        1          1          0.5\n",
       "178725     1471571  7003        1          1          0.5\n",
       "3226799    4379632   552        1          1          0.5"
      ]
     },
     "execution_count": 85,
     "metadata": {},
     "output_type": "execute_result"
    }
   ],
   "source": [
    "y_train.head(20)"
   ]
  },
  {
   "cell_type": "code",
   "execution_count": 59,
   "metadata": {},
   "outputs": [
    {
     "name": "stderr",
     "output_type": "stream",
     "text": [
      "c:\\users\\sajjad\\appdata\\local\\programs\\python\\python36\\lib\\site-packages\\ipykernel_launcher.py:1: SettingWithCopyWarning: \n",
      "A value is trying to be set on a copy of a slice from a DataFrame.\n",
      "Try using .loc[row_indexer,col_indexer] = value instead\n",
      "\n",
      "See the caveats in the documentation: http://pandas.pydata.org/pandas-docs/stable/indexing.html#indexing-view-versus-copy\n",
      "  \"\"\"Entry point for launching an IPython kernel.\n"
     ]
    }
   ],
   "source": [
    "dftrainY[\"clicked\"] -= 1"
   ]
  },
  {
   "cell_type": "code",
   "execution_count": 102,
   "metadata": {},
   "outputs": [],
   "source": [
    "from sklearn.ensemble import BaggingRegressor\n",
    "#from sklearn.linear_model import \n",
    "clf = BaggingRegressor().fit(X,y_train['probability'])"
   ]
  },
  {
   "cell_type": "code",
   "execution_count": 176,
   "metadata": {},
   "outputs": [
    {
     "name": "stdout",
     "output_type": "stream",
     "text": [
      "Net(\n",
      "  (layer1): Linear(in_features=6, out_features=32, bias=True)\n",
      "  (layer2): Linear(in_features=32, out_features=16, bias=True)\n",
      "  (layer3): Linear(in_features=16, out_features=8, bias=True)\n",
      "  (layer4): Linear(in_features=8, out_features=1, bias=True)\n",
      ")\n"
     ]
    }
   ],
   "source": [
    "\n",
    "import torch\n",
    "import torch.nn as nn\n",
    "import torch.nn.functional as F\n",
    "from torch.autograd import Variable\n",
    "\n",
    "class Net(nn.Module):\n",
    "    def __init__(self):\n",
    "        super(Net, self).__init__()\n",
    "        self.layer1 = torch.nn.Linear(len(features) , 32)\n",
    "        self.layer2 = torch.nn.Linear(32 , 16)\n",
    "        self.layer3 = torch.nn.Linear(16 , 8)\n",
    "        self.layer4 = torch.nn.Linear(8 , 1)\n",
    "\n",
    "    def forward(self, x):\n",
    "        x = self.layer1(x) \n",
    "        x = F.tanh(x)\n",
    "        x = self.layer2(x)\n",
    "        x = F.tanh(x)\n",
    "        x = self.layer3(x)\n",
    "        x = F.tanh(x)\n",
    "        x = self.layer4(x)\n",
    "        x = F.softmax(x)\n",
    "        return x\n",
    "\n",
    "net = Net()\n",
    "print(net)"
   ]
  },
  {
   "cell_type": "code",
   "execution_count": 150,
   "metadata": {},
   "outputs": [],
   "source": [
    "optimizer = torch.optim.SGD(net.parameters(), lr=0.2)\n",
    "loss_func = torch.nn.MSELoss()"
   ]
  },
  {
   "cell_type": "code",
   "execution_count": 173,
   "metadata": {},
   "outputs": [
    {
     "data": {
      "text/plain": [
       "3"
      ]
     },
     "execution_count": 173,
     "metadata": {},
     "output_type": "execute_result"
    }
   ],
   "source": []
  },
  {
   "cell_type": "code",
   "execution_count": 152,
   "metadata": {},
   "outputs": [],
   "source": [
    "x = torch.from_numpy(X.values).float()\n",
    "y = torch.from_numpy(y_train['probability'].values).float()"
   ]
  },
  {
   "cell_type": "code",
   "execution_count": 158,
   "metadata": {},
   "outputs": [
    {
     "data": {
      "text/plain": [
       "(2440303, 6)"
      ]
     },
     "execution_count": 158,
     "metadata": {},
     "output_type": "execute_result"
    }
   ],
   "source": []
  },
  {
   "cell_type": "code",
   "execution_count": null,
   "metadata": {},
   "outputs": [
    {
     "name": "stderr",
     "output_type": "stream",
     "text": [
      "c:\\users\\sajjad\\appdata\\local\\programs\\python\\python36\\lib\\site-packages\\ipykernel_launcher.py:23: UserWarning: Implicit dimension choice for softmax has been deprecated. Change the call to include dim=X as an argument.\n"
     ]
    },
    {
     "name": "stdout",
     "output_type": "stream",
     "text": [
      "tensor([[1.],\n",
      "        [1.],\n",
      "        [1.],\n",
      "        ...,\n",
      "        [1.],\n",
      "        [1.],\n",
      "        [1.]], grad_fn=<SoftmaxBackward>)\n"
     ]
    },
    {
     "name": "stderr",
     "output_type": "stream",
     "text": [
      "c:\\users\\sajjad\\appdata\\local\\programs\\python\\python36\\lib\\site-packages\\torch\\nn\\modules\\loss.py:443: UserWarning: Using a target size (torch.Size([2440303])) that is different to the input size (torch.Size([2440303, 1])). This will likely lead to incorrect results due to broadcasting. Please ensure they have the same size.\n",
      "  return F.mse_loss(input, target, reduction=self.reduction)\n"
     ]
    }
   ],
   "source": [
    "inputs = Variable(x)\n",
    "outputs = Variable(y)\n",
    "for i in range(250):\n",
    "    prediction = net(inputs)\n",
    "    print(prediction)\n",
    "    loss = loss_func(prediction, outputs) \n",
    "    print(loss)\n",
    "    optimizer.zero_grad()\n",
    "    print('after oz')\n",
    "    loss.backward()\n",
    "    print(\"after back\")\n",
    "    optimizer.step()       \n",
    "\n",
    "    if i % 10 == 0:\n",
    "    # plot and show learning process\n",
    "        plt.cla()\n",
    "        plt.scatter(x.data.numpy(), y.data.numpy())\n",
    "        plt.plot(x.data.numpy(), prediction.data.numpy(), 'r-', lw=2)\n",
    "        plt.text(0.5, 0, 'Loss=%.4f' % loss.data.numpy(), fontdict={'size': 10, 'color':  'red'})\n",
    "        plt.pause(0.1)\n",
    "\n",
    "plt.show()"
   ]
  },
  {
   "cell_type": "code",
   "execution_count": 143,
   "metadata": {},
   "outputs": [],
   "source": [
    "w1=[]\n",
    "for layer in model.layers:\n",
    "    weights = layer.get_weights()\n",
    "    w1.append(weights)"
   ]
  },
  {
   "cell_type": "code",
   "execution_count": 145,
   "metadata": {},
   "outputs": [],
   "source": [
    "w2=[]\n",
    "for layer in model.layers:\n",
    "    weights = layer.get_weights()\n",
    "    w2.append(weights)"
   ]
  },
  {
   "cell_type": "code",
   "execution_count": null,
   "metadata": {},
   "outputs": [],
   "source": []
  },
  {
   "cell_type": "code",
   "execution_count": 135,
   "metadata": {},
   "outputs": [],
   "source": [
    "def weighted_change(w1 , w2 ):\n",
    "    s=[]\n",
    "    for i in range(len(w1)):\n",
    "        t=0\n",
    "        for j in range(len(w1[i])):\n",
    "            t += np.linalg.norm(w1[i][j] - w2[i][j])\n",
    "        s.append(t)\n",
    "    return s"
   ]
  },
  {
   "cell_type": "code",
   "execution_count": 146,
   "metadata": {},
   "outputs": [],
   "source": [
    "s = weighted_change(w1 , w2)"
   ]
  },
  {
   "cell_type": "code",
   "execution_count": 147,
   "metadata": {},
   "outputs": [
    {
     "data": {
      "text/plain": [
       "[0.0, 0.0, 0.0, 0.0, 0.0, 0.0]"
      ]
     },
     "execution_count": 147,
     "metadata": {},
     "output_type": "execute_result"
    }
   ],
   "source": [
    "s"
   ]
  },
  {
   "cell_type": "code",
   "execution_count": 138,
   "metadata": {},
   "outputs": [
    {
     "ename": "ModuleNotFoundError",
     "evalue": "No module named 'pytorch'",
     "output_type": "error",
     "traceback": [
      "\u001b[1;31m---------------------------------------------------------------------------\u001b[0m",
      "\u001b[1;31mModuleNotFoundError\u001b[0m                       Traceback (most recent call last)",
      "\u001b[1;32m<ipython-input-138-d35c46f8d1a2>\u001b[0m in \u001b[0;36m<module>\u001b[1;34m\u001b[0m\n\u001b[1;32m----> 1\u001b[1;33m \u001b[1;32mimport\u001b[0m \u001b[0mpytorch\u001b[0m\u001b[1;33m\u001b[0m\u001b[1;33m\u001b[0m\u001b[0m\n\u001b[0m",
      "\u001b[1;31mModuleNotFoundError\u001b[0m: No module named 'pytorch'"
     ]
    }
   ],
   "source": [
    "import pytorch"
   ]
  },
  {
   "cell_type": "code",
   "execution_count": 103,
   "metadata": {},
   "outputs": [
    {
     "data": {
      "text/plain": [
       "0.5218435255179873"
      ]
     },
     "execution_count": 103,
     "metadata": {},
     "output_type": "execute_result"
    }
   ],
   "source": [
    "clf.score(X , y_train['probability'])"
   ]
  },
  {
   "cell_type": "code",
   "execution_count": 65,
   "metadata": {},
   "outputs": [
    {
     "name": "stdout",
     "output_type": "stream",
     "text": [
      "1201941\n",
      "--0.08319875934010072--\n",
      "--0.16639751868020144--\n",
      "--0.24959627802030215--\n",
      "--0.3327950373604029--\n",
      "--0.4159937967005036--\n",
      "--0.4991925560406043--\n",
      "--0.582391315380705--\n",
      "--0.6655900747208058--\n",
      "--0.7487888340609065--\n",
      "--0.8319875934010073--\n",
      "--0.9151863527411079--\n",
      "--0.9983851120812086--\n"
     ]
    }
   ],
   "source": [
    "Xt = create_real_train(features , column_names , X_test)"
   ]
  },
  {
   "cell_type": "code",
   "execution_count": 67,
   "metadata": {},
   "outputs": [
    {
     "data": {
      "text/html": [
       "<div>\n",
       "<style scoped>\n",
       "    .dataframe tbody tr th:only-of-type {\n",
       "        vertical-align: middle;\n",
       "    }\n",
       "\n",
       "    .dataframe tbody tr th {\n",
       "        vertical-align: top;\n",
       "    }\n",
       "\n",
       "    .dataframe thead th {\n",
       "        text-align: right;\n",
       "    }\n",
       "</style>\n",
       "<table border=\"1\" class=\"dataframe\">\n",
       "  <thead>\n",
       "    <tr style=\"text-align: right;\">\n",
       "      <th></th>\n",
       "      <th>pageId</th>\n",
       "      <th>userId</th>\n",
       "      <th>adId</th>\n",
       "      <th>advertiserId</th>\n",
       "      <th>campaignId</th>\n",
       "      <th>website</th>\n",
       "      <th>publisher</th>\n",
       "      <th>widgetId</th>\n",
       "    </tr>\n",
       "  </thead>\n",
       "  <tbody>\n",
       "    <tr>\n",
       "      <th>0</th>\n",
       "      <td>0.173228</td>\n",
       "      <td>0.136364</td>\n",
       "      <td>0.102113</td>\n",
       "      <td>0.163101</td>\n",
       "      <td>0.117260</td>\n",
       "      <td>0.215224</td>\n",
       "      <td>0.217140</td>\n",
       "      <td>0.157221</td>\n",
       "    </tr>\n",
       "    <tr>\n",
       "      <th>1</th>\n",
       "      <td>0.181818</td>\n",
       "      <td>0.250000</td>\n",
       "      <td>0.083832</td>\n",
       "      <td>0.163101</td>\n",
       "      <td>0.117260</td>\n",
       "      <td>0.215224</td>\n",
       "      <td>0.217140</td>\n",
       "      <td>0.201926</td>\n",
       "    </tr>\n",
       "    <tr>\n",
       "      <th>2</th>\n",
       "      <td>0.241758</td>\n",
       "      <td>0.250000</td>\n",
       "      <td>0.278444</td>\n",
       "      <td>0.252759</td>\n",
       "      <td>0.298828</td>\n",
       "      <td>0.273774</td>\n",
       "      <td>0.273774</td>\n",
       "      <td>0.306110</td>\n",
       "    </tr>\n",
       "    <tr>\n",
       "      <th>3</th>\n",
       "      <td>0.228916</td>\n",
       "      <td>0.333333</td>\n",
       "      <td>0.223507</td>\n",
       "      <td>0.203040</td>\n",
       "      <td>0.207664</td>\n",
       "      <td>0.242425</td>\n",
       "      <td>0.242421</td>\n",
       "      <td>0.310760</td>\n",
       "    </tr>\n",
       "    <tr>\n",
       "      <th>4</th>\n",
       "      <td>0.236264</td>\n",
       "      <td>0.181818</td>\n",
       "      <td>0.162452</td>\n",
       "      <td>0.162452</td>\n",
       "      <td>0.162452</td>\n",
       "      <td>0.233589</td>\n",
       "      <td>0.233589</td>\n",
       "      <td>0.189627</td>\n",
       "    </tr>\n",
       "  </tbody>\n",
       "</table>\n",
       "</div>"
      ],
      "text/plain": [
       "     pageId    userId      adId  advertiserId  campaignId   website  \\\n",
       "0  0.173228  0.136364  0.102113      0.163101    0.117260  0.215224   \n",
       "1  0.181818  0.250000  0.083832      0.163101    0.117260  0.215224   \n",
       "2  0.241758  0.250000  0.278444      0.252759    0.298828  0.273774   \n",
       "3  0.228916  0.333333  0.223507      0.203040    0.207664  0.242425   \n",
       "4  0.236264  0.181818  0.162452      0.162452    0.162452  0.233589   \n",
       "\n",
       "   publisher  widgetId  \n",
       "0   0.217140  0.157221  \n",
       "1   0.217140  0.201926  \n",
       "2   0.273774  0.306110  \n",
       "3   0.242421  0.310760  \n",
       "4   0.233589  0.189627  "
      ]
     },
     "execution_count": 67,
     "metadata": {},
     "output_type": "execute_result"
    }
   ],
   "source": [
    "Xt.head()"
   ]
  },
  {
   "cell_type": "code",
   "execution_count": 68,
   "metadata": {},
   "outputs": [
    {
     "ename": "NameError",
     "evalue": "name 'dftestY' is not defined",
     "output_type": "error",
     "traceback": [
      "\u001b[1;31m---------------------------------------------------------------------------\u001b[0m",
      "\u001b[1;31mNameError\u001b[0m                                 Traceback (most recent call last)",
      "\u001b[1;32m<ipython-input-68-416e69ba34b8>\u001b[0m in \u001b[0;36m<module>\u001b[1;34m\u001b[0m\n\u001b[1;32m----> 1\u001b[1;33m \u001b[0mdftestY\u001b[0m\u001b[1;33m[\u001b[0m\u001b[1;34m\"clicked\"\u001b[0m\u001b[1;33m]\u001b[0m \u001b[1;33m-=\u001b[0m \u001b[1;36m1\u001b[0m\u001b[1;33m\u001b[0m\u001b[1;33m\u001b[0m\u001b[0m\n\u001b[0m",
      "\u001b[1;31mNameError\u001b[0m: name 'dftestY' is not defined"
     ]
    }
   ],
   "source": [
    "dftestY[\"clicked\"] -= 1"
   ]
  },
  {
   "cell_type": "code",
   "execution_count": 82,
   "metadata": {},
   "outputs": [
    {
     "data": {
      "text/plain": [
       "-0.11253593592783306"
      ]
     },
     "execution_count": 82,
     "metadata": {},
     "output_type": "execute_result"
    }
   ],
   "source": [
    "clf.score(Xt , y_test['probability'])"
   ]
  },
  {
   "cell_type": "code",
   "execution_count": 72,
   "metadata": {},
   "outputs": [
    {
     "data": {
      "text/plain": [
       "0.7771695948470017"
      ]
     },
     "execution_count": 72,
     "metadata": {},
     "output_type": "execute_result"
    }
   ],
   "source": [
    "len(y_test[y_test['clicked']==1])/len(y_test)"
   ]
  },
  {
   "cell_type": "code",
   "execution_count": 73,
   "metadata": {},
   "outputs": [
    {
     "data": {
      "text/html": [
       "<div>\n",
       "<style scoped>\n",
       "    .dataframe tbody tr th:only-of-type {\n",
       "        vertical-align: middle;\n",
       "    }\n",
       "\n",
       "    .dataframe tbody tr th {\n",
       "        vertical-align: top;\n",
       "    }\n",
       "\n",
       "    .dataframe thead th {\n",
       "        text-align: right;\n",
       "    }\n",
       "</style>\n",
       "<table border=\"1\" class=\"dataframe\">\n",
       "  <thead>\n",
       "    <tr style=\"text-align: right;\">\n",
       "      <th></th>\n",
       "      <th>displayId</th>\n",
       "      <th>adId</th>\n",
       "    </tr>\n",
       "  </thead>\n",
       "  <tbody>\n",
       "    <tr>\n",
       "      <th>0</th>\n",
       "      <td>151650</td>\n",
       "      <td>7585</td>\n",
       "    </tr>\n",
       "    <tr>\n",
       "      <th>1</th>\n",
       "      <td>151650</td>\n",
       "      <td>6257</td>\n",
       "    </tr>\n",
       "    <tr>\n",
       "      <th>2</th>\n",
       "      <td>151650</td>\n",
       "      <td>6690</td>\n",
       "    </tr>\n",
       "    <tr>\n",
       "      <th>3</th>\n",
       "      <td>151938</td>\n",
       "      <td>7454</td>\n",
       "    </tr>\n",
       "    <tr>\n",
       "      <th>4</th>\n",
       "      <td>151938</td>\n",
       "      <td>7370</td>\n",
       "    </tr>\n",
       "  </tbody>\n",
       "</table>\n",
       "</div>"
      ],
      "text/plain": [
       "   displayId  adId\n",
       "0     151650  7585\n",
       "1     151650  6257\n",
       "2     151650  6690\n",
       "3     151938  7454\n",
       "4     151938  7370"
      ]
     },
     "execution_count": 73,
     "metadata": {},
     "output_type": "execute_result"
    }
   ],
   "source": [
    "dftest = pd.read_csv('../datadays2020/click_test.csv')\n",
    "dftest.head()"
   ]
  },
  {
   "cell_type": "code",
   "execution_count": 74,
   "metadata": {},
   "outputs": [
    {
     "data": {
      "text/html": [
       "<div>\n",
       "<style scoped>\n",
       "    .dataframe tbody tr th:only-of-type {\n",
       "        vertical-align: middle;\n",
       "    }\n",
       "\n",
       "    .dataframe tbody tr th {\n",
       "        vertical-align: top;\n",
       "    }\n",
       "\n",
       "    .dataframe thead th {\n",
       "        text-align: right;\n",
       "    }\n",
       "</style>\n",
       "<table border=\"1\" class=\"dataframe\">\n",
       "  <thead>\n",
       "    <tr style=\"text-align: right;\">\n",
       "      <th></th>\n",
       "      <th>pageId</th>\n",
       "      <th>userId</th>\n",
       "      <th>adId</th>\n",
       "      <th>advertiserId</th>\n",
       "      <th>campaignId</th>\n",
       "      <th>website</th>\n",
       "      <th>publisher</th>\n",
       "      <th>widgetId</th>\n",
       "      <th>displayId</th>\n",
       "    </tr>\n",
       "  </thead>\n",
       "  <tbody>\n",
       "    <tr>\n",
       "      <th>0</th>\n",
       "      <td>4095035</td>\n",
       "      <td>10279</td>\n",
       "      <td>7585</td>\n",
       "      <td>7762</td>\n",
       "      <td>2292</td>\n",
       "      <td>4600</td>\n",
       "      <td>1098</td>\n",
       "      <td>8107</td>\n",
       "      <td>151650</td>\n",
       "    </tr>\n",
       "    <tr>\n",
       "      <th>1</th>\n",
       "      <td>4095035</td>\n",
       "      <td>10279</td>\n",
       "      <td>6257</td>\n",
       "      <td>4726</td>\n",
       "      <td>1083</td>\n",
       "      <td>4600</td>\n",
       "      <td>1098</td>\n",
       "      <td>8107</td>\n",
       "      <td>151650</td>\n",
       "    </tr>\n",
       "    <tr>\n",
       "      <th>2</th>\n",
       "      <td>4095035</td>\n",
       "      <td>10279</td>\n",
       "      <td>6690</td>\n",
       "      <td>6040</td>\n",
       "      <td>2911</td>\n",
       "      <td>4600</td>\n",
       "      <td>1098</td>\n",
       "      <td>8107</td>\n",
       "      <td>151650</td>\n",
       "    </tr>\n",
       "    <tr>\n",
       "      <th>3</th>\n",
       "      <td>4273336</td>\n",
       "      <td>17723</td>\n",
       "      <td>7454</td>\n",
       "      <td>6578</td>\n",
       "      <td>7426</td>\n",
       "      <td>13</td>\n",
       "      <td>12</td>\n",
       "      <td>10142</td>\n",
       "      <td>151938</td>\n",
       "    </tr>\n",
       "    <tr>\n",
       "      <th>4</th>\n",
       "      <td>4273336</td>\n",
       "      <td>17723</td>\n",
       "      <td>7370</td>\n",
       "      <td>3216</td>\n",
       "      <td>741</td>\n",
       "      <td>13</td>\n",
       "      <td>12</td>\n",
       "      <td>10142</td>\n",
       "      <td>151938</td>\n",
       "    </tr>\n",
       "  </tbody>\n",
       "</table>\n",
       "</div>"
      ],
      "text/plain": [
       "    pageId  userId  adId  advertiserId  campaignId  website  publisher  \\\n",
       "0  4095035   10279  7585          7762        2292     4600       1098   \n",
       "1  4095035   10279  6257          4726        1083     4600       1098   \n",
       "2  4095035   10279  6690          6040        2911     4600       1098   \n",
       "3  4273336   17723  7454          6578        7426       13         12   \n",
       "4  4273336   17723  7370          3216         741       13         12   \n",
       "\n",
       "   widgetId  displayId  \n",
       "0      8107     151650  \n",
       "1      8107     151650  \n",
       "2      8107     151650  \n",
       "3     10142     151938  \n",
       "4     10142     151938  "
      ]
     },
     "execution_count": 74,
     "metadata": {},
     "output_type": "execute_result"
    }
   ],
   "source": [
    "prev = len(dftest)\n",
    "dftest = pd.merge(dftest , dfevent , on='displayId' , how='left')\n",
    "after = len(dftest)\n",
    "assert prev == after\n",
    "prev = len(dftest)\n",
    "dftest = pd.merge(dftest , dfweb , on='pageId' , how='left')\n",
    "after = len(dftest)\n",
    "assert prev == after\n",
    "prev = len(dftest)\n",
    "dftest = pd.merge(dftest , dfad , on='adId' , how='left')\n",
    "after = len(dftest)\n",
    "assert prev == after\n",
    "dftestX = dftest[features+['displayId']]\n",
    "dftestY = dftrain[['displayId' , 'adId' , 'clicked']]\n",
    "dftestX.head()"
   ]
  },
  {
   "cell_type": "code",
   "execution_count": 75,
   "metadata": {},
   "outputs": [
    {
     "name": "stdout",
     "output_type": "stream",
     "text": [
      "1199048\n",
      "--0.0833994969342345--\n",
      "--0.166798993868469--\n",
      "--0.25019849080270345--\n",
      "--0.333597987736938--\n",
      "--0.4169974846711725--\n",
      "--0.5003969816054069--\n",
      "--0.5837964785396415--\n",
      "--0.667195975473876--\n",
      "--0.7505954724081104--\n",
      "--0.833994969342345--\n",
      "--0.9173944662765794--\n"
     ]
    }
   ],
   "source": [
    "Xtest = create_real_train(features , column_names , dftestX)"
   ]
  },
  {
   "cell_type": "code",
   "execution_count": 119,
   "metadata": {},
   "outputs": [
    {
     "data": {
      "text/html": [
       "<div>\n",
       "<style scoped>\n",
       "    .dataframe tbody tr th:only-of-type {\n",
       "        vertical-align: middle;\n",
       "    }\n",
       "\n",
       "    .dataframe tbody tr th {\n",
       "        vertical-align: top;\n",
       "    }\n",
       "\n",
       "    .dataframe thead th {\n",
       "        text-align: right;\n",
       "    }\n",
       "</style>\n",
       "<table border=\"1\" class=\"dataframe\">\n",
       "  <thead>\n",
       "    <tr style=\"text-align: right;\">\n",
       "      <th></th>\n",
       "      <th>pageId</th>\n",
       "      <th>userId</th>\n",
       "      <th>adId</th>\n",
       "      <th>advertiserId</th>\n",
       "      <th>campaignId</th>\n",
       "      <th>website</th>\n",
       "    </tr>\n",
       "  </thead>\n",
       "  <tbody>\n",
       "    <tr>\n",
       "      <th>0</th>\n",
       "      <td>0.220000</td>\n",
       "      <td>0.000000</td>\n",
       "      <td>0.000000</td>\n",
       "      <td>0.115254</td>\n",
       "      <td>0.000000</td>\n",
       "      <td>0.227733</td>\n",
       "    </tr>\n",
       "    <tr>\n",
       "      <th>1</th>\n",
       "      <td>0.220000</td>\n",
       "      <td>0.000000</td>\n",
       "      <td>0.205696</td>\n",
       "      <td>0.149946</td>\n",
       "      <td>0.149946</td>\n",
       "      <td>0.227733</td>\n",
       "    </tr>\n",
       "    <tr>\n",
       "      <th>2</th>\n",
       "      <td>0.220000</td>\n",
       "      <td>0.000000</td>\n",
       "      <td>0.331361</td>\n",
       "      <td>0.257631</td>\n",
       "      <td>0.236857</td>\n",
       "      <td>0.227733</td>\n",
       "    </tr>\n",
       "    <tr>\n",
       "      <th>3</th>\n",
       "      <td>0.218444</td>\n",
       "      <td>0.142857</td>\n",
       "      <td>0.000000</td>\n",
       "      <td>0.140221</td>\n",
       "      <td>0.118442</td>\n",
       "      <td>0.233812</td>\n",
       "    </tr>\n",
       "    <tr>\n",
       "      <th>4</th>\n",
       "      <td>0.218444</td>\n",
       "      <td>0.142857</td>\n",
       "      <td>0.000000</td>\n",
       "      <td>0.190286</td>\n",
       "      <td>0.000000</td>\n",
       "      <td>0.233812</td>\n",
       "    </tr>\n",
       "  </tbody>\n",
       "</table>\n",
       "</div>"
      ],
      "text/plain": [
       "     pageId    userId      adId  advertiserId  campaignId   website\n",
       "0  0.220000  0.000000  0.000000      0.115254    0.000000  0.227733\n",
       "1  0.220000  0.000000  0.205696      0.149946    0.149946  0.227733\n",
       "2  0.220000  0.000000  0.331361      0.257631    0.236857  0.227733\n",
       "3  0.218444  0.142857  0.000000      0.140221    0.118442  0.233812\n",
       "4  0.218444  0.142857  0.000000      0.190286    0.000000  0.233812"
      ]
     },
     "execution_count": 119,
     "metadata": {},
     "output_type": "execute_result"
    }
   ],
   "source": [
    "Xtest.head()"
   ]
  },
  {
   "cell_type": "code",
   "execution_count": 46,
   "metadata": {},
   "outputs": [],
   "source": [
    "Xtest.to_csv('../temp/testtemp.csv')"
   ]
  },
  {
   "cell_type": "code",
   "execution_count": 76,
   "metadata": {},
   "outputs": [],
   "source": [
    "Xtest['rank'] = clfc.predict(Xtest)"
   ]
  },
  {
   "cell_type": "code",
   "execution_count": 77,
   "metadata": {},
   "outputs": [
    {
     "data": {
      "text/html": [
       "<div>\n",
       "<style scoped>\n",
       "    .dataframe tbody tr th:only-of-type {\n",
       "        vertical-align: middle;\n",
       "    }\n",
       "\n",
       "    .dataframe tbody tr th {\n",
       "        vertical-align: top;\n",
       "    }\n",
       "\n",
       "    .dataframe thead th {\n",
       "        text-align: right;\n",
       "    }\n",
       "</style>\n",
       "<table border=\"1\" class=\"dataframe\">\n",
       "  <thead>\n",
       "    <tr style=\"text-align: right;\">\n",
       "      <th></th>\n",
       "      <th>pageId</th>\n",
       "      <th>userId</th>\n",
       "      <th>adId</th>\n",
       "      <th>advertiserId</th>\n",
       "      <th>campaignId</th>\n",
       "      <th>website</th>\n",
       "      <th>publisher</th>\n",
       "      <th>widgetId</th>\n",
       "      <th>rank</th>\n",
       "    </tr>\n",
       "  </thead>\n",
       "  <tbody>\n",
       "    <tr>\n",
       "      <th>0</th>\n",
       "      <td>0.220000</td>\n",
       "      <td>0.000000</td>\n",
       "      <td>0.000000</td>\n",
       "      <td>0.115254</td>\n",
       "      <td>0.000000</td>\n",
       "      <td>0.227733</td>\n",
       "      <td>0.227733</td>\n",
       "      <td>0.309909</td>\n",
       "      <td>1</td>\n",
       "    </tr>\n",
       "    <tr>\n",
       "      <th>1</th>\n",
       "      <td>0.220000</td>\n",
       "      <td>0.000000</td>\n",
       "      <td>0.205696</td>\n",
       "      <td>0.149946</td>\n",
       "      <td>0.149946</td>\n",
       "      <td>0.227733</td>\n",
       "      <td>0.227733</td>\n",
       "      <td>0.309909</td>\n",
       "      <td>1</td>\n",
       "    </tr>\n",
       "    <tr>\n",
       "      <th>2</th>\n",
       "      <td>0.220000</td>\n",
       "      <td>0.000000</td>\n",
       "      <td>0.331361</td>\n",
       "      <td>0.257631</td>\n",
       "      <td>0.236857</td>\n",
       "      <td>0.227733</td>\n",
       "      <td>0.227733</td>\n",
       "      <td>0.309909</td>\n",
       "      <td>2</td>\n",
       "    </tr>\n",
       "    <tr>\n",
       "      <th>3</th>\n",
       "      <td>0.218444</td>\n",
       "      <td>0.142857</td>\n",
       "      <td>0.000000</td>\n",
       "      <td>0.140221</td>\n",
       "      <td>0.118442</td>\n",
       "      <td>0.233812</td>\n",
       "      <td>0.233812</td>\n",
       "      <td>0.225087</td>\n",
       "      <td>1</td>\n",
       "    </tr>\n",
       "    <tr>\n",
       "      <th>4</th>\n",
       "      <td>0.218444</td>\n",
       "      <td>0.142857</td>\n",
       "      <td>0.000000</td>\n",
       "      <td>0.190286</td>\n",
       "      <td>0.000000</td>\n",
       "      <td>0.233812</td>\n",
       "      <td>0.233812</td>\n",
       "      <td>0.225087</td>\n",
       "      <td>1</td>\n",
       "    </tr>\n",
       "  </tbody>\n",
       "</table>\n",
       "</div>"
      ],
      "text/plain": [
       "     pageId    userId      adId  advertiserId  campaignId   website  \\\n",
       "0  0.220000  0.000000  0.000000      0.115254    0.000000  0.227733   \n",
       "1  0.220000  0.000000  0.205696      0.149946    0.149946  0.227733   \n",
       "2  0.220000  0.000000  0.331361      0.257631    0.236857  0.227733   \n",
       "3  0.218444  0.142857  0.000000      0.140221    0.118442  0.233812   \n",
       "4  0.218444  0.142857  0.000000      0.190286    0.000000  0.233812   \n",
       "\n",
       "   publisher  widgetId  rank  \n",
       "0   0.227733  0.309909     1  \n",
       "1   0.227733  0.309909     1  \n",
       "2   0.227733  0.309909     2  \n",
       "3   0.233812  0.225087     1  \n",
       "4   0.233812  0.225087     1  "
      ]
     },
     "execution_count": 77,
     "metadata": {},
     "output_type": "execute_result"
    }
   ],
   "source": [
    "Xtest.head()"
   ]
  },
  {
   "cell_type": "code",
   "execution_count": 51,
   "metadata": {},
   "outputs": [
    {
     "data": {
      "text/plain": [
       "0.0"
      ]
     },
     "execution_count": 51,
     "metadata": {},
     "output_type": "execute_result"
    }
   ],
   "source": [
    "Xtest.iloc[0]['rank']"
   ]
  },
  {
   "cell_type": "code",
   "execution_count": 122,
   "metadata": {},
   "outputs": [],
   "source": [
    "diad={}\n",
    "for i,r in dftest.iterrows():\n",
    "    if r['displayId'] in diad:\n",
    "        diad[r['displayId']].append(i)\n",
    "    else:\n",
    "        diad[r['displayId']] = [i,]"
   ]
  },
  {
   "cell_type": "code",
   "execution_count": 124,
   "metadata": {},
   "outputs": [],
   "source": [
    "for i in diad:\n",
    "    diad[i] = sorted(diad[i] , key =lambda x: -1 * Xtest.iloc[x]['rank'] )"
   ]
  },
  {
   "cell_type": "code",
   "execution_count": 125,
   "metadata": {},
   "outputs": [
    {
     "data": {
      "text/plain": [
       "1199048"
      ]
     },
     "execution_count": 125,
     "metadata": {},
     "output_type": "execute_result"
    }
   ],
   "source": [
    "len(dftest)"
   ]
  },
  {
   "cell_type": "code",
   "execution_count": 126,
   "metadata": {},
   "outputs": [],
   "source": [
    "arr = np.zeros(len(dftest))"
   ]
  },
  {
   "cell_type": "code",
   "execution_count": 127,
   "metadata": {},
   "outputs": [
    {
     "data": {
      "text/plain": [
       "(1199048,)"
      ]
     },
     "execution_count": 127,
     "metadata": {},
     "output_type": "execute_result"
    }
   ],
   "source": [
    "arr.shape"
   ]
  },
  {
   "cell_type": "code",
   "execution_count": 128,
   "metadata": {},
   "outputs": [],
   "source": [
    "\n",
    "for i,r in dftest.iterrows():\n",
    "    arr[i] = diad[r['displayId']].index(i) + 1"
   ]
  },
  {
   "cell_type": "code",
   "execution_count": 129,
   "metadata": {},
   "outputs": [],
   "source": [
    "dftest['ranked'] = arr"
   ]
  },
  {
   "cell_type": "code",
   "execution_count": 133,
   "metadata": {},
   "outputs": [],
   "source": [
    "dftest.to_csv('../submit/sub3.csv',header=None,index=False)"
   ]
  },
  {
   "cell_type": "code",
   "execution_count": 131,
   "metadata": {},
   "outputs": [
    {
     "data": {
      "text/plain": [
       "1199048"
      ]
     },
     "execution_count": 131,
     "metadata": {},
     "output_type": "execute_result"
    }
   ],
   "source": [
    "len(dftest)"
   ]
  },
  {
   "cell_type": "code",
   "execution_count": 132,
   "metadata": {},
   "outputs": [],
   "source": [
    "dfsub = dftest[['displayId' , 'adId' ,'ranked']]"
   ]
  },
  {
   "cell_type": "code",
   "execution_count": 134,
   "metadata": {},
   "outputs": [
    {
     "name": "stderr",
     "output_type": "stream",
     "text": [
      "c:\\users\\sajjad\\appdata\\local\\programs\\python\\python36\\lib\\site-packages\\ipykernel_launcher.py:1: SettingWithCopyWarning: \n",
      "A value is trying to be set on a copy of a slice from a DataFrame.\n",
      "Try using .loc[row_indexer,col_indexer] = value instead\n",
      "\n",
      "See the caveats in the documentation: http://pandas.pydata.org/pandas-docs/stable/indexing.html#indexing-view-versus-copy\n",
      "  \"\"\"Entry point for launching an IPython kernel.\n"
     ]
    },
    {
     "data": {
      "text/html": [
       "<div>\n",
       "<style scoped>\n",
       "    .dataframe tbody tr th:only-of-type {\n",
       "        vertical-align: middle;\n",
       "    }\n",
       "\n",
       "    .dataframe tbody tr th {\n",
       "        vertical-align: top;\n",
       "    }\n",
       "\n",
       "    .dataframe thead th {\n",
       "        text-align: right;\n",
       "    }\n",
       "</style>\n",
       "<table border=\"1\" class=\"dataframe\">\n",
       "  <thead>\n",
       "    <tr style=\"text-align: right;\">\n",
       "      <th></th>\n",
       "      <th>displayId</th>\n",
       "      <th>adId</th>\n",
       "      <th>ranked</th>\n",
       "    </tr>\n",
       "  </thead>\n",
       "  <tbody>\n",
       "    <tr>\n",
       "      <th>0</th>\n",
       "      <td>151650</td>\n",
       "      <td>7585</td>\n",
       "      <td>3</td>\n",
       "    </tr>\n",
       "    <tr>\n",
       "      <th>1</th>\n",
       "      <td>151650</td>\n",
       "      <td>6257</td>\n",
       "      <td>2</td>\n",
       "    </tr>\n",
       "    <tr>\n",
       "      <th>2</th>\n",
       "      <td>151650</td>\n",
       "      <td>6690</td>\n",
       "      <td>1</td>\n",
       "    </tr>\n",
       "    <tr>\n",
       "      <th>3</th>\n",
       "      <td>151938</td>\n",
       "      <td>7454</td>\n",
       "      <td>5</td>\n",
       "    </tr>\n",
       "    <tr>\n",
       "      <th>4</th>\n",
       "      <td>151938</td>\n",
       "      <td>7370</td>\n",
       "      <td>3</td>\n",
       "    </tr>\n",
       "  </tbody>\n",
       "</table>\n",
       "</div>"
      ],
      "text/plain": [
       "   displayId  adId  ranked\n",
       "0     151650  7585       3\n",
       "1     151650  6257       2\n",
       "2     151650  6690       1\n",
       "3     151938  7454       5\n",
       "4     151938  7370       3"
      ]
     },
     "execution_count": 134,
     "metadata": {},
     "output_type": "execute_result"
    }
   ],
   "source": [
    "dfsub['ranked'] = dftest['ranked'].apply(lambda x : int(x) )\n",
    "dfsub.head()"
   ]
  },
  {
   "cell_type": "code",
   "execution_count": 75,
   "metadata": {},
   "outputs": [
    {
     "data": {
      "text/plain": [
       "1199048"
      ]
     },
     "execution_count": 75,
     "metadata": {},
     "output_type": "execute_result"
    }
   ],
   "source": [
    "len(dfsub)"
   ]
  },
  {
   "cell_type": "code",
   "execution_count": 136,
   "metadata": {},
   "outputs": [],
   "source": [
    "dfsub.to_csv('../submit/sub3.csv',header=None,index=False)"
   ]
  },
  {
   "cell_type": "markdown",
   "metadata": {},
   "source": [
    "## Using Smoothing"
   ]
  },
  {
   "cell_type": "code",
   "execution_count": 144,
   "metadata": {},
   "outputs": [],
   "source": [
    "def compare(t1 ,t2 , c):\n",
    "    l=[]\n",
    "    for i in range(len(t1)):\n",
    "        if t1.iloc[i][c]!=t2.iloc[i][c]:\n",
    "            l.append(i)\n",
    "    return l"
   ]
  },
  {
   "cell_type": "code",
   "execution_count": 137,
   "metadata": {},
   "outputs": [],
   "source": [
    "t1 = pd.read_csv('../submit/sub1.csv')\n",
    "t2 = pd.read_csv('../submit/sub3.csv')"
   ]
  },
  {
   "cell_type": "code",
   "execution_count": 138,
   "metadata": {},
   "outputs": [
    {
     "data": {
      "text/html": [
       "<div>\n",
       "<style scoped>\n",
       "    .dataframe tbody tr th:only-of-type {\n",
       "        vertical-align: middle;\n",
       "    }\n",
       "\n",
       "    .dataframe tbody tr th {\n",
       "        vertical-align: top;\n",
       "    }\n",
       "\n",
       "    .dataframe thead th {\n",
       "        text-align: right;\n",
       "    }\n",
       "</style>\n",
       "<table border=\"1\" class=\"dataframe\">\n",
       "  <thead>\n",
       "    <tr style=\"text-align: right;\">\n",
       "      <th></th>\n",
       "      <th>151650</th>\n",
       "      <th>7585</th>\n",
       "      <th>3</th>\n",
       "    </tr>\n",
       "  </thead>\n",
       "  <tbody>\n",
       "    <tr>\n",
       "      <th>0</th>\n",
       "      <td>151650</td>\n",
       "      <td>6257</td>\n",
       "      <td>2</td>\n",
       "    </tr>\n",
       "    <tr>\n",
       "      <th>1</th>\n",
       "      <td>151650</td>\n",
       "      <td>6690</td>\n",
       "      <td>1</td>\n",
       "    </tr>\n",
       "    <tr>\n",
       "      <th>2</th>\n",
       "      <td>151938</td>\n",
       "      <td>7454</td>\n",
       "      <td>3</td>\n",
       "    </tr>\n",
       "    <tr>\n",
       "      <th>3</th>\n",
       "      <td>151938</td>\n",
       "      <td>7370</td>\n",
       "      <td>4</td>\n",
       "    </tr>\n",
       "    <tr>\n",
       "      <th>4</th>\n",
       "      <td>151938</td>\n",
       "      <td>123</td>\n",
       "      <td>2</td>\n",
       "    </tr>\n",
       "  </tbody>\n",
       "</table>\n",
       "</div>"
      ],
      "text/plain": [
       "   151650  7585  3\n",
       "0  151650  6257  2\n",
       "1  151650  6690  1\n",
       "2  151938  7454  3\n",
       "3  151938  7370  4\n",
       "4  151938   123  2"
      ]
     },
     "execution_count": 138,
     "metadata": {},
     "output_type": "execute_result"
    }
   ],
   "source": [
    "t1.head()"
   ]
  },
  {
   "cell_type": "code",
   "execution_count": 141,
   "metadata": {},
   "outputs": [
    {
     "data": {
      "text/plain": [
       "Index(['151650', '7585', '3'], dtype='object')"
      ]
     },
     "execution_count": 141,
     "metadata": {},
     "output_type": "execute_result"
    }
   ],
   "source": [
    "t2.columns"
   ]
  },
  {
   "cell_type": "code",
   "execution_count": 145,
   "metadata": {},
   "outputs": [],
   "source": [
    "ls = compare(t1 , t2 ,'3')"
   ]
  },
  {
   "cell_type": "code",
   "execution_count": 146,
   "metadata": {},
   "outputs": [
    {
     "data": {
      "text/plain": [
       "584006"
      ]
     },
     "execution_count": 146,
     "metadata": {},
     "output_type": "execute_result"
    }
   ],
   "source": [
    "len(ls)"
   ]
  },
  {
   "cell_type": "code",
   "execution_count": null,
   "metadata": {},
   "outputs": [],
   "source": []
  }
 ],
 "metadata": {
  "kernelspec": {
   "display_name": "Python 3",
   "language": "python",
   "name": "python3"
  },
  "language_info": {
   "codemirror_mode": {
    "name": "ipython",
    "version": 3
   },
   "file_extension": ".py",
   "mimetype": "text/x-python",
   "name": "python",
   "nbconvert_exporter": "python",
   "pygments_lexer": "ipython3",
   "version": "3.6.8"
  }
 },
 "nbformat": 4,
 "nbformat_minor": 2
}
