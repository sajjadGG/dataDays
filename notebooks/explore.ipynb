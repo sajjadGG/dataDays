{
 "cells": [
  {
   "cell_type": "code",
   "execution_count": 2,
   "metadata": {},
   "outputs": [],
   "source": [
    "import pandas as pd\n",
    "import numpy as np\n",
    "import matplotlib.pyplot as plt"
   ]
  },
  {
   "cell_type": "markdown",
   "metadata": {},
   "source": [
    "## Exploring all the datasets one by one"
   ]
  },
  {
   "cell_type": "markdown",
   "metadata": {},
   "source": [
    "### page_topic.csv"
   ]
  },
  {
   "cell_type": "code",
   "execution_count": 21,
   "metadata": {},
   "outputs": [],
   "source": [
    "df = pd.read_csv('../datadays2020/page_topic.csv')"
   ]
  },
  {
   "cell_type": "code",
   "execution_count": 22,
   "metadata": {},
   "outputs": [
    {
     "data": {
      "text/html": [
       "<div>\n",
       "<style scoped>\n",
       "    .dataframe tbody tr th:only-of-type {\n",
       "        vertical-align: middle;\n",
       "    }\n",
       "\n",
       "    .dataframe tbody tr th {\n",
       "        vertical-align: top;\n",
       "    }\n",
       "\n",
       "    .dataframe thead th {\n",
       "        text-align: right;\n",
       "    }\n",
       "</style>\n",
       "<table border=\"1\" class=\"dataframe\">\n",
       "  <thead>\n",
       "    <tr style=\"text-align: right;\">\n",
       "      <th></th>\n",
       "      <th>pageId</th>\n",
       "      <th>topicId</th>\n",
       "      <th>confidence</th>\n",
       "    </tr>\n",
       "  </thead>\n",
       "  <tbody>\n",
       "    <tr>\n",
       "      <th>0</th>\n",
       "      <td>10743259</td>\n",
       "      <td>37</td>\n",
       "      <td>0.497099</td>\n",
       "    </tr>\n",
       "    <tr>\n",
       "      <th>1</th>\n",
       "      <td>10743259</td>\n",
       "      <td>23</td>\n",
       "      <td>0.016994</td>\n",
       "    </tr>\n",
       "    <tr>\n",
       "      <th>2</th>\n",
       "      <td>10743259</td>\n",
       "      <td>10</td>\n",
       "      <td>0.371499</td>\n",
       "    </tr>\n",
       "    <tr>\n",
       "      <th>3</th>\n",
       "      <td>10743259</td>\n",
       "      <td>4</td>\n",
       "      <td>0.105349</td>\n",
       "    </tr>\n",
       "    <tr>\n",
       "      <th>4</th>\n",
       "      <td>10743258</td>\n",
       "      <td>33</td>\n",
       "      <td>0.245752</td>\n",
       "    </tr>\n",
       "  </tbody>\n",
       "</table>\n",
       "</div>"
      ],
      "text/plain": [
       "     pageId  topicId  confidence\n",
       "0  10743259       37    0.497099\n",
       "1  10743259       23    0.016994\n",
       "2  10743259       10    0.371499\n",
       "3  10743259        4    0.105349\n",
       "4  10743258       33    0.245752"
      ]
     },
     "execution_count": 22,
     "metadata": {},
     "output_type": "execute_result"
    }
   ],
   "source": [
    "df.head()"
   ]
  },
  {
   "cell_type": "code",
   "execution_count": 23,
   "metadata": {},
   "outputs": [
    {
     "data": {
      "text/html": [
       "<div>\n",
       "<style scoped>\n",
       "    .dataframe tbody tr th:only-of-type {\n",
       "        vertical-align: middle;\n",
       "    }\n",
       "\n",
       "    .dataframe tbody tr th {\n",
       "        vertical-align: top;\n",
       "    }\n",
       "\n",
       "    .dataframe thead th {\n",
       "        text-align: right;\n",
       "    }\n",
       "</style>\n",
       "<table border=\"1\" class=\"dataframe\">\n",
       "  <thead>\n",
       "    <tr style=\"text-align: right;\">\n",
       "      <th></th>\n",
       "      <th>pageId</th>\n",
       "      <th>topicId</th>\n",
       "      <th>confidence</th>\n",
       "    </tr>\n",
       "  </thead>\n",
       "  <tbody>\n",
       "    <tr>\n",
       "      <th>count</th>\n",
       "      <td>2.811876e+07</td>\n",
       "      <td>2.811876e+07</td>\n",
       "      <td>2.811876e+07</td>\n",
       "    </tr>\n",
       "    <tr>\n",
       "      <th>mean</th>\n",
       "      <td>5.464478e+06</td>\n",
       "      <td>2.453257e+01</td>\n",
       "      <td>2.457692e-01</td>\n",
       "    </tr>\n",
       "    <tr>\n",
       "      <th>std</th>\n",
       "      <td>3.142089e+06</td>\n",
       "      <td>1.407157e+01</td>\n",
       "      <td>2.373932e-01</td>\n",
       "    </tr>\n",
       "    <tr>\n",
       "      <th>min</th>\n",
       "      <td>1.000000e+00</td>\n",
       "      <td>0.000000e+00</td>\n",
       "      <td>1.000002e-02</td>\n",
       "    </tr>\n",
       "    <tr>\n",
       "      <th>25%</th>\n",
       "      <td>2.679088e+06</td>\n",
       "      <td>1.100000e+01</td>\n",
       "      <td>6.562485e-02</td>\n",
       "    </tr>\n",
       "    <tr>\n",
       "      <th>50%</th>\n",
       "      <td>5.550003e+06</td>\n",
       "      <td>2.600000e+01</td>\n",
       "      <td>1.684998e-01</td>\n",
       "    </tr>\n",
       "    <tr>\n",
       "      <th>75%</th>\n",
       "      <td>8.245494e+06</td>\n",
       "      <td>3.500000e+01</td>\n",
       "      <td>3.451548e-01</td>\n",
       "    </tr>\n",
       "    <tr>\n",
       "      <th>max</th>\n",
       "      <td>1.074326e+07</td>\n",
       "      <td>4.900000e+01</td>\n",
       "      <td>9.998839e-01</td>\n",
       "    </tr>\n",
       "  </tbody>\n",
       "</table>\n",
       "</div>"
      ],
      "text/plain": [
       "             pageId       topicId    confidence\n",
       "count  2.811876e+07  2.811876e+07  2.811876e+07\n",
       "mean   5.464478e+06  2.453257e+01  2.457692e-01\n",
       "std    3.142089e+06  1.407157e+01  2.373932e-01\n",
       "min    1.000000e+00  0.000000e+00  1.000002e-02\n",
       "25%    2.679088e+06  1.100000e+01  6.562485e-02\n",
       "50%    5.550003e+06  2.600000e+01  1.684998e-01\n",
       "75%    8.245494e+06  3.500000e+01  3.451548e-01\n",
       "max    1.074326e+07  4.900000e+01  9.998839e-01"
      ]
     },
     "execution_count": 23,
     "metadata": {},
     "output_type": "execute_result"
    }
   ],
   "source": [
    "df.describe()"
   ]
  },
  {
   "cell_type": "code",
   "execution_count": 29,
   "metadata": {},
   "outputs": [
    {
     "name": "stdout",
     "output_type": "stream",
     "text": [
      "pageId is in range of 1 to 10743259 \n",
      "\n",
      "topicId is in range of 46 to 37 \n",
      "\n",
      "confidence is in range of 0.019242339 to 0.49709868 \n",
      "\n"
     ]
    }
   ],
   "source": [
    "print(\"\"\"pageId is in range of {} to {} \\n\n",
    "topicId is in range of {} to {} \\n\n",
    "confidence is in range of {} to {} \\n\"\"\".format(df['pageId'].unique()[-1] , df['pageId'].unique()[0] , \n",
    "                                              df['topicId'].unique()[-1] , df['topicId'].unique()[0] ,\n",
    "                                                df['confidence'].unique()[-1] , df['confidence'].unique()[0]))"
   ]
  },
  {
   "cell_type": "code",
   "execution_count": 34,
   "metadata": {},
   "outputs": [
    {
     "name": "stdout",
     "output_type": "stream",
     "text": [
      "There is No nan values \n"
     ]
    }
   ],
   "source": [
    "#check for nan values\n",
    "print(\"There is {} nan values \".format(\"\" if df.isna().values.any() else \"No\"))"
   ]
  },
  {
   "cell_type": "code",
   "execution_count": 50,
   "metadata": {},
   "outputs": [
    {
     "name": "stdout",
     "output_type": "stream",
     "text": [
      "column adId\n",
      "top three most frequent elements are\n",
      " 2047    1\n",
      "6842    1\n",
      "6870    1\n",
      "Name: adId, dtype: int64  \n",
      " \n",
      "          top three least frequent elements are\n",
      " 5448    1\n",
      "3399    1\n",
      "6147    1\n",
      "Name: adId, dtype: int64  \n",
      "--------------end of adId----------------\n",
      "column campaignId\n",
      "top three most frequent elements are\n",
      " 8343    211\n",
      "5918    160\n",
      "6850     48\n",
      "Name: campaignId, dtype: int64  \n",
      " \n",
      "          top three least frequent elements are\n",
      " 4207    1\n",
      "2134    1\n",
      "8194    1\n",
      "Name: campaignId, dtype: int64  \n",
      "--------------end of campaignId----------------\n",
      "column advertiserId\n",
      "top three most frequent elements are\n",
      " 8414    424\n",
      "6578    181\n",
      "2167    137\n",
      "Name: advertiserId, dtype: int64  \n",
      " \n",
      "          top three least frequent elements are\n",
      " 10494    1\n",
      "2629     1\n",
      "6394     1\n",
      "Name: advertiserId, dtype: int64  \n",
      "--------------end of advertiserId----------------\n"
     ]
    }
   ],
   "source": [
    "#find most frequent element\n",
    "for e in df.columns:\n",
    "    print(\"column {}\".format(e))\n",
    "    items_counts = df[e].value_counts()\n",
    "    print(\"\"\"top three most frequent elements are\\n {}  \\n \n",
    "          top three least frequent elements are\\n {}  \"\"\".format(items_counts[:3] , items_counts[-3:]))\n",
    "    print(\"--------------end of {}----------------\".format(e))"
   ]
  },
  {
   "cell_type": "markdown",
   "metadata": {},
   "source": [
    "### ad.csv"
   ]
  },
  {
   "cell_type": "code",
   "execution_count": 61,
   "metadata": {},
   "outputs": [],
   "source": [
    "df = pd.read_csv('../datadays2020/ad.csv')"
   ]
  },
  {
   "cell_type": "code",
   "execution_count": 45,
   "metadata": {},
   "outputs": [
    {
     "data": {
      "text/html": [
       "<div>\n",
       "<style scoped>\n",
       "    .dataframe tbody tr th:only-of-type {\n",
       "        vertical-align: middle;\n",
       "    }\n",
       "\n",
       "    .dataframe tbody tr th {\n",
       "        vertical-align: top;\n",
       "    }\n",
       "\n",
       "    .dataframe thead th {\n",
       "        text-align: right;\n",
       "    }\n",
       "</style>\n",
       "<table border=\"1\" class=\"dataframe\">\n",
       "  <thead>\n",
       "    <tr style=\"text-align: right;\">\n",
       "      <th></th>\n",
       "      <th>adId</th>\n",
       "      <th>campaignId</th>\n",
       "      <th>advertiserId</th>\n",
       "    </tr>\n",
       "  </thead>\n",
       "  <tbody>\n",
       "    <tr>\n",
       "      <th>0</th>\n",
       "      <td>7867</td>\n",
       "      <td>5918</td>\n",
       "      <td>8414</td>\n",
       "    </tr>\n",
       "    <tr>\n",
       "      <th>1</th>\n",
       "      <td>7866</td>\n",
       "      <td>5918</td>\n",
       "      <td>8414</td>\n",
       "    </tr>\n",
       "    <tr>\n",
       "      <th>2</th>\n",
       "      <td>7865</td>\n",
       "      <td>5918</td>\n",
       "      <td>8414</td>\n",
       "    </tr>\n",
       "    <tr>\n",
       "      <th>3</th>\n",
       "      <td>7863</td>\n",
       "      <td>8343</td>\n",
       "      <td>8414</td>\n",
       "    </tr>\n",
       "    <tr>\n",
       "      <th>4</th>\n",
       "      <td>7862</td>\n",
       "      <td>8343</td>\n",
       "      <td>8414</td>\n",
       "    </tr>\n",
       "  </tbody>\n",
       "</table>\n",
       "</div>"
      ],
      "text/plain": [
       "   adId  campaignId  advertiserId\n",
       "0  7867        5918          8414\n",
       "1  7866        5918          8414\n",
       "2  7865        5918          8414\n",
       "3  7863        8343          8414\n",
       "4  7862        8343          8414"
      ]
     },
     "execution_count": 45,
     "metadata": {},
     "output_type": "execute_result"
    }
   ],
   "source": [
    "df.head()"
   ]
  },
  {
   "cell_type": "code",
   "execution_count": 46,
   "metadata": {},
   "outputs": [
    {
     "data": {
      "text/html": [
       "<div>\n",
       "<style scoped>\n",
       "    .dataframe tbody tr th:only-of-type {\n",
       "        vertical-align: middle;\n",
       "    }\n",
       "\n",
       "    .dataframe tbody tr th {\n",
       "        vertical-align: top;\n",
       "    }\n",
       "\n",
       "    .dataframe thead th {\n",
       "        text-align: right;\n",
       "    }\n",
       "</style>\n",
       "<table border=\"1\" class=\"dataframe\">\n",
       "  <thead>\n",
       "    <tr style=\"text-align: right;\">\n",
       "      <th></th>\n",
       "      <th>adId</th>\n",
       "      <th>campaignId</th>\n",
       "      <th>advertiserId</th>\n",
       "    </tr>\n",
       "  </thead>\n",
       "  <tbody>\n",
       "    <tr>\n",
       "      <th>count</th>\n",
       "      <td>3256.000000</td>\n",
       "      <td>3256.000000</td>\n",
       "      <td>3256.000000</td>\n",
       "    </tr>\n",
       "    <tr>\n",
       "      <th>mean</th>\n",
       "      <td>5624.645577</td>\n",
       "      <td>4958.381757</td>\n",
       "      <td>5638.853194</td>\n",
       "    </tr>\n",
       "    <tr>\n",
       "      <th>std</th>\n",
       "      <td>1957.739025</td>\n",
       "      <td>2678.464798</td>\n",
       "      <td>2722.979337</td>\n",
       "    </tr>\n",
       "    <tr>\n",
       "      <th>min</th>\n",
       "      <td>6.000000</td>\n",
       "      <td>30.000000</td>\n",
       "      <td>1.000000</td>\n",
       "    </tr>\n",
       "    <tr>\n",
       "      <th>25%</th>\n",
       "      <td>5220.750000</td>\n",
       "      <td>2664.750000</td>\n",
       "      <td>3137.000000</td>\n",
       "    </tr>\n",
       "    <tr>\n",
       "      <th>50%</th>\n",
       "      <td>6150.500000</td>\n",
       "      <td>5095.000000</td>\n",
       "      <td>6572.000000</td>\n",
       "    </tr>\n",
       "    <tr>\n",
       "      <th>75%</th>\n",
       "      <td>6994.250000</td>\n",
       "      <td>7270.000000</td>\n",
       "      <td>8078.000000</td>\n",
       "    </tr>\n",
       "    <tr>\n",
       "      <th>max</th>\n",
       "      <td>7867.000000</td>\n",
       "      <td>9523.000000</td>\n",
       "      <td>10749.000000</td>\n",
       "    </tr>\n",
       "  </tbody>\n",
       "</table>\n",
       "</div>"
      ],
      "text/plain": [
       "              adId   campaignId  advertiserId\n",
       "count  3256.000000  3256.000000   3256.000000\n",
       "mean   5624.645577  4958.381757   5638.853194\n",
       "std    1957.739025  2678.464798   2722.979337\n",
       "min       6.000000    30.000000      1.000000\n",
       "25%    5220.750000  2664.750000   3137.000000\n",
       "50%    6150.500000  5095.000000   6572.000000\n",
       "75%    6994.250000  7270.000000   8078.000000\n",
       "max    7867.000000  9523.000000  10749.000000"
      ]
     },
     "execution_count": 46,
     "metadata": {},
     "output_type": "execute_result"
    }
   ],
   "source": [
    "df.describe()"
   ]
  },
  {
   "cell_type": "code",
   "execution_count": 62,
   "metadata": {},
   "outputs": [
    {
     "name": "stdout",
     "output_type": "stream",
     "text": [
      "adId is in range of 6 to 7867 \n",
      "\n",
      "campaignId is in range of 9400 to 5918 \n",
      "\n",
      "advertiseId is in range of 5175 to 8414 \n",
      "\n"
     ]
    }
   ],
   "source": [
    "print(\"\"\"adId is in range of {} to {} \\n\n",
    "campaignId is in range of {} to {} \\n\n",
    "advertiseId is in range of {} to {} \\n\"\"\".format(df['adId'].unique()[-1] , df['adId'].unique()[0] , \n",
    "                                              df['campaignId'].unique()[-1] , df['campaignId'].unique()[0] ,\n",
    "                                                df['advertiserId'].unique()[-1] , df['advertiserId'].unique()[0]))"
   ]
  },
  {
   "cell_type": "code",
   "execution_count": 34,
   "metadata": {},
   "outputs": [
    {
     "name": "stdout",
     "output_type": "stream",
     "text": [
      "There is No nan values \n"
     ]
    }
   ],
   "source": [
    "#check for nan values\n",
    "print(\"There is {} nan values \".format(\"\" if df.isna().values.any() else \"No\"))"
   ]
  },
  {
   "cell_type": "code",
   "execution_count": 49,
   "metadata": {},
   "outputs": [
    {
     "name": "stdout",
     "output_type": "stream",
     "text": [
      "column adId\n",
      "top three most frequent elements are\n",
      " 2047    1\n",
      "6842    1\n",
      "6870    1\n",
      "Name: adId, dtype: int64  \n",
      " \n",
      "          top three least frequent elements are\n",
      " 5448    1\n",
      "3399    1\n",
      "6147    1\n",
      "Name: adId, dtype: int64  \n",
      "--------------end of adId----------------\n",
      "column campaignId\n",
      "top three most frequent elements are\n",
      " 8343    211\n",
      "5918    160\n",
      "6850     48\n",
      "Name: campaignId, dtype: int64  \n",
      " \n",
      "          top three least frequent elements are\n",
      " 4207    1\n",
      "2134    1\n",
      "8194    1\n",
      "Name: campaignId, dtype: int64  \n",
      "--------------end of campaignId----------------\n",
      "column advertiserId\n",
      "top three most frequent elements are\n",
      " 8414    424\n",
      "6578    181\n",
      "2167    137\n",
      "Name: advertiserId, dtype: int64  \n",
      " \n",
      "          top three least frequent elements are\n",
      " 10494    1\n",
      "2629     1\n",
      "6394     1\n",
      "Name: advertiserId, dtype: int64  \n",
      "--------------end of advertiserId----------------\n"
     ]
    }
   ],
   "source": [
    "#find most frequent element\n",
    "for e in df.columns:\n",
    "    print(\"column {}\".format(e))\n",
    "    items_counts = df[e].value_counts()\n",
    "    print(\"\"\"top three most frequent elements are\\n {}  \\n \n",
    "          top three least frequent elements are\\n {}  \"\"\".format(items_counts[:3] , items_counts[-3:]))\n",
    "    print(\"--------------end of {}----------------\".format(e))"
   ]
  },
  {
   "cell_type": "markdown",
   "metadata": {},
   "source": [
    "### ad_image.csv"
   ]
  },
  {
   "cell_type": "code",
   "execution_count": 63,
   "metadata": {},
   "outputs": [],
   "source": [
    "df = pd.read_csv('../datadays2020/ad_image.csv')"
   ]
  },
  {
   "cell_type": "code",
   "execution_count": 52,
   "metadata": {},
   "outputs": [
    {
     "data": {
      "text/html": [
       "<div>\n",
       "<style scoped>\n",
       "    .dataframe tbody tr th:only-of-type {\n",
       "        vertical-align: middle;\n",
       "    }\n",
       "\n",
       "    .dataframe tbody tr th {\n",
       "        vertical-align: top;\n",
       "    }\n",
       "\n",
       "    .dataframe thead th {\n",
       "        text-align: right;\n",
       "    }\n",
       "</style>\n",
       "<table border=\"1\" class=\"dataframe\">\n",
       "  <thead>\n",
       "    <tr style=\"text-align: right;\">\n",
       "      <th></th>\n",
       "      <th>adId</th>\n",
       "      <th>imageFeatures</th>\n",
       "    </tr>\n",
       "  </thead>\n",
       "  <tbody>\n",
       "    <tr>\n",
       "      <th>0</th>\n",
       "      <td>7867</td>\n",
       "      <td>[0.0524589940905571, 0.0, 0.04262353479862213,...</td>\n",
       "    </tr>\n",
       "    <tr>\n",
       "      <th>1</th>\n",
       "      <td>7866</td>\n",
       "      <td>[0.0032160670962184668, 0.1444239318370819, 0....</td>\n",
       "    </tr>\n",
       "    <tr>\n",
       "      <th>2</th>\n",
       "      <td>7865</td>\n",
       "      <td>[0.027210379019379616, 0.0, 0.5133526921272278...</td>\n",
       "    </tr>\n",
       "    <tr>\n",
       "      <th>3</th>\n",
       "      <td>7863</td>\n",
       "      <td>[0.0013980235671624541, 0.0, 0.0, 0.0455568209...</td>\n",
       "    </tr>\n",
       "    <tr>\n",
       "      <th>4</th>\n",
       "      <td>7862</td>\n",
       "      <td>[0.02426762878894806, 0.026081759482622147, 0....</td>\n",
       "    </tr>\n",
       "  </tbody>\n",
       "</table>\n",
       "</div>"
      ],
      "text/plain": [
       "   adId                                      imageFeatures\n",
       "0  7867  [0.0524589940905571, 0.0, 0.04262353479862213,...\n",
       "1  7866  [0.0032160670962184668, 0.1444239318370819, 0....\n",
       "2  7865  [0.027210379019379616, 0.0, 0.5133526921272278...\n",
       "3  7863  [0.0013980235671624541, 0.0, 0.0, 0.0455568209...\n",
       "4  7862  [0.02426762878894806, 0.026081759482622147, 0...."
      ]
     },
     "execution_count": 52,
     "metadata": {},
     "output_type": "execute_result"
    }
   ],
   "source": [
    "df.head()"
   ]
  },
  {
   "cell_type": "code",
   "execution_count": 53,
   "metadata": {},
   "outputs": [
    {
     "data": {
      "text/html": [
       "<div>\n",
       "<style scoped>\n",
       "    .dataframe tbody tr th:only-of-type {\n",
       "        vertical-align: middle;\n",
       "    }\n",
       "\n",
       "    .dataframe tbody tr th {\n",
       "        vertical-align: top;\n",
       "    }\n",
       "\n",
       "    .dataframe thead th {\n",
       "        text-align: right;\n",
       "    }\n",
       "</style>\n",
       "<table border=\"1\" class=\"dataframe\">\n",
       "  <thead>\n",
       "    <tr style=\"text-align: right;\">\n",
       "      <th></th>\n",
       "      <th>adId</th>\n",
       "    </tr>\n",
       "  </thead>\n",
       "  <tbody>\n",
       "    <tr>\n",
       "      <th>count</th>\n",
       "      <td>3256.000000</td>\n",
       "    </tr>\n",
       "    <tr>\n",
       "      <th>mean</th>\n",
       "      <td>5624.645577</td>\n",
       "    </tr>\n",
       "    <tr>\n",
       "      <th>std</th>\n",
       "      <td>1957.739025</td>\n",
       "    </tr>\n",
       "    <tr>\n",
       "      <th>min</th>\n",
       "      <td>6.000000</td>\n",
       "    </tr>\n",
       "    <tr>\n",
       "      <th>25%</th>\n",
       "      <td>5220.750000</td>\n",
       "    </tr>\n",
       "    <tr>\n",
       "      <th>50%</th>\n",
       "      <td>6150.500000</td>\n",
       "    </tr>\n",
       "    <tr>\n",
       "      <th>75%</th>\n",
       "      <td>6994.250000</td>\n",
       "    </tr>\n",
       "    <tr>\n",
       "      <th>max</th>\n",
       "      <td>7867.000000</td>\n",
       "    </tr>\n",
       "  </tbody>\n",
       "</table>\n",
       "</div>"
      ],
      "text/plain": [
       "              adId\n",
       "count  3256.000000\n",
       "mean   5624.645577\n",
       "std    1957.739025\n",
       "min       6.000000\n",
       "25%    5220.750000\n",
       "50%    6150.500000\n",
       "75%    6994.250000\n",
       "max    7867.000000"
      ]
     },
     "execution_count": 53,
     "metadata": {},
     "output_type": "execute_result"
    }
   ],
   "source": [
    "df.describe()"
   ]
  },
  {
   "cell_type": "code",
   "execution_count": 59,
   "metadata": {},
   "outputs": [
    {
     "name": "stdout",
     "output_type": "stream",
     "text": [
      "adId is in range of 6 to 7867 \n",
      "\n"
     ]
    }
   ],
   "source": [
    "print(\"adId is in range of {} to {} \\n\".format(df['adId'].unique()[-1] , df['adId'].unique()[0]))"
   ]
  },
  {
   "cell_type": "code",
   "execution_count": 64,
   "metadata": {},
   "outputs": [
    {
     "name": "stdout",
     "output_type": "stream",
     "text": [
      "There is No nan values \n"
     ]
    }
   ],
   "source": [
    "#check for nan values\n",
    "print(\"There is {} nan values \".format(\"\" if df.isna().values.any() else \"No\"))"
   ]
  },
  {
   "cell_type": "code",
   "execution_count": 65,
   "metadata": {},
   "outputs": [],
   "source": [
    "# #find most frequent element\n",
    "# items_counts = df['pageId'].value_counts()\n",
    "# print(\"\"\"top three most frequent elements are\\n {}  \\n \n",
    "#       top three least frequent elements are\\n {}  \"\"\".format(items_counts[:3] , items_counts[-3:]))\n",
    "#no useful information here because all the image features are unique"
   ]
  },
  {
   "cell_type": "markdown",
   "metadata": {},
   "source": [
    "### ad_title.csv"
   ]
  },
  {
   "cell_type": "code",
   "execution_count": 67,
   "metadata": {},
   "outputs": [],
   "source": [
    "df = pd.read_csv('../datadays2020/ad_title.csv')"
   ]
  },
  {
   "cell_type": "code",
   "execution_count": 68,
   "metadata": {},
   "outputs": [
    {
     "data": {
      "text/html": [
       "<div>\n",
       "<style scoped>\n",
       "    .dataframe tbody tr th:only-of-type {\n",
       "        vertical-align: middle;\n",
       "    }\n",
       "\n",
       "    .dataframe tbody tr th {\n",
       "        vertical-align: top;\n",
       "    }\n",
       "\n",
       "    .dataframe thead th {\n",
       "        text-align: right;\n",
       "    }\n",
       "</style>\n",
       "<table border=\"1\" class=\"dataframe\">\n",
       "  <thead>\n",
       "    <tr style=\"text-align: right;\">\n",
       "      <th></th>\n",
       "      <th>adId</th>\n",
       "      <th>wordId</th>\n",
       "    </tr>\n",
       "  </thead>\n",
       "  <tbody>\n",
       "    <tr>\n",
       "      <th>0</th>\n",
       "      <td>6</td>\n",
       "      <td>24</td>\n",
       "    </tr>\n",
       "    <tr>\n",
       "      <th>1</th>\n",
       "      <td>6</td>\n",
       "      <td>25</td>\n",
       "    </tr>\n",
       "    <tr>\n",
       "      <th>2</th>\n",
       "      <td>6</td>\n",
       "      <td>26</td>\n",
       "    </tr>\n",
       "    <tr>\n",
       "      <th>3</th>\n",
       "      <td>6</td>\n",
       "      <td>27</td>\n",
       "    </tr>\n",
       "    <tr>\n",
       "      <th>4</th>\n",
       "      <td>6</td>\n",
       "      <td>28</td>\n",
       "    </tr>\n",
       "  </tbody>\n",
       "</table>\n",
       "</div>"
      ],
      "text/plain": [
       "   adId  wordId\n",
       "0     6      24\n",
       "1     6      25\n",
       "2     6      26\n",
       "3     6      27\n",
       "4     6      28"
      ]
     },
     "execution_count": 68,
     "metadata": {},
     "output_type": "execute_result"
    }
   ],
   "source": [
    "df.head()"
   ]
  },
  {
   "cell_type": "code",
   "execution_count": 69,
   "metadata": {},
   "outputs": [
    {
     "data": {
      "text/html": [
       "<div>\n",
       "<style scoped>\n",
       "    .dataframe tbody tr th:only-of-type {\n",
       "        vertical-align: middle;\n",
       "    }\n",
       "\n",
       "    .dataframe tbody tr th {\n",
       "        vertical-align: top;\n",
       "    }\n",
       "\n",
       "    .dataframe thead th {\n",
       "        text-align: right;\n",
       "    }\n",
       "</style>\n",
       "<table border=\"1\" class=\"dataframe\">\n",
       "  <thead>\n",
       "    <tr style=\"text-align: right;\">\n",
       "      <th></th>\n",
       "      <th>adId</th>\n",
       "      <th>wordId</th>\n",
       "    </tr>\n",
       "  </thead>\n",
       "  <tbody>\n",
       "    <tr>\n",
       "      <th>count</th>\n",
       "      <td>18122.000000</td>\n",
       "      <td>18122.000000</td>\n",
       "    </tr>\n",
       "    <tr>\n",
       "      <th>mean</th>\n",
       "      <td>5645.788048</td>\n",
       "      <td>729.095023</td>\n",
       "    </tr>\n",
       "    <tr>\n",
       "      <th>std</th>\n",
       "      <td>1951.536908</td>\n",
       "      <td>765.828747</td>\n",
       "    </tr>\n",
       "    <tr>\n",
       "      <th>min</th>\n",
       "      <td>6.000000</td>\n",
       "      <td>0.000000</td>\n",
       "    </tr>\n",
       "    <tr>\n",
       "      <th>25%</th>\n",
       "      <td>5270.000000</td>\n",
       "      <td>110.000000</td>\n",
       "    </tr>\n",
       "    <tr>\n",
       "      <th>50%</th>\n",
       "      <td>6167.000000</td>\n",
       "      <td>426.500000</td>\n",
       "    </tr>\n",
       "    <tr>\n",
       "      <th>75%</th>\n",
       "      <td>7000.000000</td>\n",
       "      <td>1131.750000</td>\n",
       "    </tr>\n",
       "    <tr>\n",
       "      <th>max</th>\n",
       "      <td>7867.000000</td>\n",
       "      <td>2683.000000</td>\n",
       "    </tr>\n",
       "  </tbody>\n",
       "</table>\n",
       "</div>"
      ],
      "text/plain": [
       "               adId        wordId\n",
       "count  18122.000000  18122.000000\n",
       "mean    5645.788048    729.095023\n",
       "std     1951.536908    765.828747\n",
       "min        6.000000      0.000000\n",
       "25%     5270.000000    110.000000\n",
       "50%     6167.000000    426.500000\n",
       "75%     7000.000000   1131.750000\n",
       "max     7867.000000   2683.000000"
      ]
     },
     "execution_count": 69,
     "metadata": {},
     "output_type": "execute_result"
    }
   ],
   "source": [
    "df.describe()"
   ]
  },
  {
   "cell_type": "code",
   "execution_count": 70,
   "metadata": {},
   "outputs": [
    {
     "name": "stdout",
     "output_type": "stream",
     "text": [
      "adId is in range of 7867 to 6 \n",
      "\n",
      "wordId is in range of 1861 to 24 \n",
      "\n"
     ]
    }
   ],
   "source": [
    "print(\"\"\"adId is in range of {} to {} \\n\n",
    "wordId is in range of {} to {} \\n\"\"\".format(df['adId'].unique()[-1] , df['adId'].unique()[0] , \n",
    "                                              df['wordId'].unique()[-1] , df['wordId'].unique()[0]))"
   ]
  },
  {
   "cell_type": "code",
   "execution_count": 71,
   "metadata": {},
   "outputs": [
    {
     "name": "stdout",
     "output_type": "stream",
     "text": [
      "There is No nan values \n"
     ]
    }
   ],
   "source": [
    "#check for nan values\n",
    "print(\"There is {} nan values \".format(\"\" if df.isna().values.any() else \"No\"))"
   ]
  },
  {
   "cell_type": "code",
   "execution_count": 73,
   "metadata": {},
   "outputs": [
    {
     "name": "stdout",
     "output_type": "stream",
     "text": [
      "column adId\n",
      "top three most frequent elements are\n",
      " 6854    11\n",
      "6808    11\n",
      "6864    11\n",
      "Name: adId, dtype: int64  \n",
      " \n",
      "          top three least frequent elements are\n",
      " 7716    1\n",
      "6258    1\n",
      "2423    1\n",
      "Name: adId, dtype: int64  \n",
      "--------------end of adId----------------\n",
      "column wordId\n",
      "top three most frequent elements are\n",
      " 57    567\n",
      "11    552\n",
      "13    345\n",
      "Name: wordId, dtype: int64  \n",
      " \n",
      "          top three least frequent elements are\n",
      " 290    1\n",
      "568    1\n",
      "701    1\n",
      "Name: wordId, dtype: int64  \n",
      "--------------end of wordId----------------\n"
     ]
    }
   ],
   "source": [
    "#find most frequent element\n",
    "for e in df.columns:\n",
    "    print(\"column {}\".format(e))\n",
    "    items_counts = df[e].value_counts()\n",
    "    print(\"\"\"top three most frequent elements are\\n {}  \\n \n",
    "          top three least frequent elements are\\n {}  \"\"\".format(items_counts[:3] , items_counts[-3:]))\n",
    "    print(\"--------------end of {}----------------\".format(e))"
   ]
  },
  {
   "cell_type": "markdown",
   "metadata": {},
   "source": [
    "### user_page_view.csv"
   ]
  },
  {
   "cell_type": "code",
   "execution_count": 74,
   "metadata": {},
   "outputs": [],
   "source": [
    "df = pd.read_csv('../datadays2020/user_page_view.csv')"
   ]
  },
  {
   "cell_type": "code",
   "execution_count": 75,
   "metadata": {},
   "outputs": [
    {
     "data": {
      "text/html": [
       "<div>\n",
       "<style scoped>\n",
       "    .dataframe tbody tr th:only-of-type {\n",
       "        vertical-align: middle;\n",
       "    }\n",
       "\n",
       "    .dataframe tbody tr th {\n",
       "        vertical-align: top;\n",
       "    }\n",
       "\n",
       "    .dataframe thead th {\n",
       "        text-align: right;\n",
       "    }\n",
       "</style>\n",
       "<table border=\"1\" class=\"dataframe\">\n",
       "  <thead>\n",
       "    <tr style=\"text-align: right;\">\n",
       "      <th></th>\n",
       "      <th>userId</th>\n",
       "      <th>pageId</th>\n",
       "      <th>timestamp</th>\n",
       "    </tr>\n",
       "  </thead>\n",
       "  <tbody>\n",
       "    <tr>\n",
       "      <th>0</th>\n",
       "      <td>821961</td>\n",
       "      <td>8116</td>\n",
       "      <td>1579599211445</td>\n",
       "    </tr>\n",
       "    <tr>\n",
       "      <th>1</th>\n",
       "      <td>15321</td>\n",
       "      <td>9533442</td>\n",
       "      <td>1579599211443</td>\n",
       "    </tr>\n",
       "    <tr>\n",
       "      <th>2</th>\n",
       "      <td>1125090</td>\n",
       "      <td>9410379</td>\n",
       "      <td>1579599211440</td>\n",
       "    </tr>\n",
       "    <tr>\n",
       "      <th>3</th>\n",
       "      <td>407101</td>\n",
       "      <td>8616213</td>\n",
       "      <td>1579599211429</td>\n",
       "    </tr>\n",
       "    <tr>\n",
       "      <th>4</th>\n",
       "      <td>781615</td>\n",
       "      <td>9543366</td>\n",
       "      <td>1579599211429</td>\n",
       "    </tr>\n",
       "  </tbody>\n",
       "</table>\n",
       "</div>"
      ],
      "text/plain": [
       "    userId   pageId      timestamp\n",
       "0   821961     8116  1579599211445\n",
       "1    15321  9533442  1579599211443\n",
       "2  1125090  9410379  1579599211440\n",
       "3   407101  8616213  1579599211429\n",
       "4   781615  9543366  1579599211429"
      ]
     },
     "execution_count": 75,
     "metadata": {},
     "output_type": "execute_result"
    }
   ],
   "source": [
    "df.head()"
   ]
  },
  {
   "cell_type": "code",
   "execution_count": 76,
   "metadata": {},
   "outputs": [
    {
     "data": {
      "text/html": [
       "<div>\n",
       "<style scoped>\n",
       "    .dataframe tbody tr th:only-of-type {\n",
       "        vertical-align: middle;\n",
       "    }\n",
       "\n",
       "    .dataframe tbody tr th {\n",
       "        vertical-align: top;\n",
       "    }\n",
       "\n",
       "    .dataframe thead th {\n",
       "        text-align: right;\n",
       "    }\n",
       "</style>\n",
       "<table border=\"1\" class=\"dataframe\">\n",
       "  <thead>\n",
       "    <tr style=\"text-align: right;\">\n",
       "      <th></th>\n",
       "      <th>userId</th>\n",
       "      <th>pageId</th>\n",
       "      <th>timestamp</th>\n",
       "    </tr>\n",
       "  </thead>\n",
       "  <tbody>\n",
       "    <tr>\n",
       "      <th>count</th>\n",
       "      <td>6.722982e+07</td>\n",
       "      <td>6.722982e+07</td>\n",
       "      <td>6.722982e+07</td>\n",
       "    </tr>\n",
       "    <tr>\n",
       "      <th>mean</th>\n",
       "      <td>1.082700e+06</td>\n",
       "      <td>5.381278e+06</td>\n",
       "      <td>1.579000e+12</td>\n",
       "    </tr>\n",
       "    <tr>\n",
       "      <th>std</th>\n",
       "      <td>7.593801e+05</td>\n",
       "      <td>3.353457e+06</td>\n",
       "      <td>3.399870e+08</td>\n",
       "    </tr>\n",
       "    <tr>\n",
       "      <th>min</th>\n",
       "      <td>8.000000e+00</td>\n",
       "      <td>3.000000e+00</td>\n",
       "      <td>1.578429e+12</td>\n",
       "    </tr>\n",
       "    <tr>\n",
       "      <th>25%</th>\n",
       "      <td>4.222600e+05</td>\n",
       "      <td>2.285483e+06</td>\n",
       "      <td>1.578721e+12</td>\n",
       "    </tr>\n",
       "    <tr>\n",
       "      <th>50%</th>\n",
       "      <td>9.607940e+05</td>\n",
       "      <td>6.775661e+06</td>\n",
       "      <td>1.578984e+12</td>\n",
       "    </tr>\n",
       "    <tr>\n",
       "      <th>75%</th>\n",
       "      <td>1.700401e+06</td>\n",
       "      <td>7.989253e+06</td>\n",
       "      <td>1.579313e+12</td>\n",
       "    </tr>\n",
       "    <tr>\n",
       "      <th>max</th>\n",
       "      <td>2.688642e+06</td>\n",
       "      <td>9.571037e+06</td>\n",
       "      <td>1.579599e+12</td>\n",
       "    </tr>\n",
       "  </tbody>\n",
       "</table>\n",
       "</div>"
      ],
      "text/plain": [
       "             userId        pageId     timestamp\n",
       "count  6.722982e+07  6.722982e+07  6.722982e+07\n",
       "mean   1.082700e+06  5.381278e+06  1.579000e+12\n",
       "std    7.593801e+05  3.353457e+06  3.399870e+08\n",
       "min    8.000000e+00  3.000000e+00  1.578429e+12\n",
       "25%    4.222600e+05  2.285483e+06  1.578721e+12\n",
       "50%    9.607940e+05  6.775661e+06  1.578984e+12\n",
       "75%    1.700401e+06  7.989253e+06  1.579313e+12\n",
       "max    2.688642e+06  9.571037e+06  1.579599e+12"
      ]
     },
     "execution_count": 76,
     "metadata": {},
     "output_type": "execute_result"
    }
   ],
   "source": [
    "df.describe()"
   ]
  },
  {
   "cell_type": "code",
   "execution_count": 77,
   "metadata": {},
   "outputs": [
    {
     "name": "stdout",
     "output_type": "stream",
     "text": [
      "userId is in range of 2688641 to 821961 \n",
      "\n",
      "pageId is in range of 1168421 to 8116 \n",
      "\n",
      "timestamp is in range of 1578429000015 to 1579599211445 \n",
      "\n"
     ]
    }
   ],
   "source": [
    "print(\"\"\"userId is in range of {} to {} \\n\n",
    "pageId is in range of {} to {} \\n\n",
    "timestamp is in range of {} to {} \\n\"\"\".format(df['userId'].unique()[-1] , df['userId'].unique()[0] , \n",
    "                                              df['pageId'].unique()[-1] , df['pageId'].unique()[0] ,\n",
    "                                                df['timestamp'].unique()[-1] , df['timestamp'].unique()[0]))"
   ]
  },
  {
   "cell_type": "code",
   "execution_count": 78,
   "metadata": {},
   "outputs": [
    {
     "name": "stdout",
     "output_type": "stream",
     "text": [
      "There is No nan values \n"
     ]
    }
   ],
   "source": [
    "#check for nan values\n",
    "print(\"There is {} nan values \".format(\"\" if df.isna().values.any() else \"No\"))"
   ]
  },
  {
   "cell_type": "code",
   "execution_count": 79,
   "metadata": {},
   "outputs": [
    {
     "name": "stdout",
     "output_type": "stream",
     "text": [
      "column userId\n",
      "top three most frequent elements are\n",
      " 202684     58500\n",
      "1649918    19176\n",
      "377814     18474\n",
      "Name: userId, dtype: int64  \n",
      " \n",
      "          top three least frequent elements are\n",
      " 1903751    1\n",
      "2603689    1\n",
      "1868327    1\n",
      "Name: userId, dtype: int64  \n",
      "--------------end of userId----------------\n",
      "column pageId\n",
      "top three most frequent elements are\n",
      " 2285483    3594743\n",
      "8116       3009369\n",
      "197         984285\n",
      "Name: pageId, dtype: int64  \n",
      " \n",
      "          top three least frequent elements are\n",
      " 6904046    1\n",
      "172216     1\n",
      "2419791    1\n",
      "Name: pageId, dtype: int64  \n",
      "--------------end of pageId----------------\n",
      "column timestamp\n",
      "top three most frequent elements are\n",
      " 1579018362000    13\n",
      "1579328847449     9\n",
      "1579345629671     9\n",
      "Name: timestamp, dtype: int64  \n",
      " \n",
      "          top three least frequent elements are\n",
      " 1578718595803    1\n",
      "1579187336306    1\n",
      "1579432652982    1\n",
      "Name: timestamp, dtype: int64  \n",
      "--------------end of timestamp----------------\n"
     ]
    }
   ],
   "source": [
    "#find most frequent element\n",
    "for e in df.columns:\n",
    "    print(\"column {}\".format(e))\n",
    "    items_counts = df[e].value_counts()\n",
    "    print(\"\"\"top three most frequent elements are\\n {}  \\n \n",
    "          top three least frequent elements are\\n {}  \"\"\".format(items_counts[:3] , items_counts[-3:]))\n",
    "    print(\"--------------end of {}----------------\".format(e))"
   ]
  },
  {
   "cell_type": "markdown",
   "metadata": {},
   "source": [
    "### event.csv"
   ]
  },
  {
   "cell_type": "code",
   "execution_count": 81,
   "metadata": {},
   "outputs": [],
   "source": [
    "df = pd.read_csv('../datadays2020/event.csv')"
   ]
  },
  {
   "cell_type": "code",
   "execution_count": 82,
   "metadata": {},
   "outputs": [
    {
     "data": {
      "text/html": [
       "<div>\n",
       "<style scoped>\n",
       "    .dataframe tbody tr th:only-of-type {\n",
       "        vertical-align: middle;\n",
       "    }\n",
       "\n",
       "    .dataframe tbody tr th {\n",
       "        vertical-align: top;\n",
       "    }\n",
       "\n",
       "    .dataframe thead th {\n",
       "        text-align: right;\n",
       "    }\n",
       "</style>\n",
       "<table border=\"1\" class=\"dataframe\">\n",
       "  <thead>\n",
       "    <tr style=\"text-align: right;\">\n",
       "      <th></th>\n",
       "      <th>displayId</th>\n",
       "      <th>timestamp</th>\n",
       "      <th>pageId</th>\n",
       "      <th>widgetId</th>\n",
       "      <th>userId</th>\n",
       "      <th>device</th>\n",
       "      <th>OS</th>\n",
       "      <th>browser</th>\n",
       "    </tr>\n",
       "  </thead>\n",
       "  <tbody>\n",
       "    <tr>\n",
       "      <th>0</th>\n",
       "      <td>4706262</td>\n",
       "      <td>1578429005696</td>\n",
       "      <td>3543873</td>\n",
       "      <td>6262</td>\n",
       "      <td>2688642</td>\n",
       "      <td>0</td>\n",
       "      <td>0</td>\n",
       "      <td>0</td>\n",
       "    </tr>\n",
       "    <tr>\n",
       "      <th>1</th>\n",
       "      <td>4706267</td>\n",
       "      <td>1578429007726</td>\n",
       "      <td>6245475</td>\n",
       "      <td>607</td>\n",
       "      <td>2688641</td>\n",
       "      <td>1</td>\n",
       "      <td>3</td>\n",
       "      <td>0</td>\n",
       "    </tr>\n",
       "    <tr>\n",
       "      <th>2</th>\n",
       "      <td>4706260</td>\n",
       "      <td>1578429012060</td>\n",
       "      <td>4416499</td>\n",
       "      <td>11458</td>\n",
       "      <td>2688638</td>\n",
       "      <td>0</td>\n",
       "      <td>0</td>\n",
       "      <td>1</td>\n",
       "    </tr>\n",
       "    <tr>\n",
       "      <th>3</th>\n",
       "      <td>4706255</td>\n",
       "      <td>1578429017218</td>\n",
       "      <td>6246028</td>\n",
       "      <td>9358</td>\n",
       "      <td>1962852</td>\n",
       "      <td>0</td>\n",
       "      <td>0</td>\n",
       "      <td>0</td>\n",
       "    </tr>\n",
       "    <tr>\n",
       "      <th>4</th>\n",
       "      <td>4706256</td>\n",
       "      <td>1578429021388</td>\n",
       "      <td>5327047</td>\n",
       "      <td>9358</td>\n",
       "      <td>2687719</td>\n",
       "      <td>0</td>\n",
       "      <td>0</td>\n",
       "      <td>0</td>\n",
       "    </tr>\n",
       "  </tbody>\n",
       "</table>\n",
       "</div>"
      ],
      "text/plain": [
       "   displayId      timestamp   pageId  widgetId   userId  device  OS  browser\n",
       "0    4706262  1578429005696  3543873      6262  2688642       0   0        0\n",
       "1    4706267  1578429007726  6245475       607  2688641       1   3        0\n",
       "2    4706260  1578429012060  4416499     11458  2688638       0   0        1\n",
       "3    4706255  1578429017218  6246028      9358  1962852       0   0        0\n",
       "4    4706256  1578429021388  5327047      9358  2687719       0   0        0"
      ]
     },
     "execution_count": 82,
     "metadata": {},
     "output_type": "execute_result"
    }
   ],
   "source": [
    "df.head()"
   ]
  },
  {
   "cell_type": "code",
   "execution_count": 83,
   "metadata": {},
   "outputs": [
    {
     "data": {
      "text/html": [
       "<div>\n",
       "<style scoped>\n",
       "    .dataframe tbody tr th:only-of-type {\n",
       "        vertical-align: middle;\n",
       "    }\n",
       "\n",
       "    .dataframe tbody tr th {\n",
       "        vertical-align: top;\n",
       "    }\n",
       "\n",
       "    .dataframe thead th {\n",
       "        text-align: right;\n",
       "    }\n",
       "</style>\n",
       "<table border=\"1\" class=\"dataframe\">\n",
       "  <thead>\n",
       "    <tr style=\"text-align: right;\">\n",
       "      <th></th>\n",
       "      <th>displayId</th>\n",
       "      <th>timestamp</th>\n",
       "      <th>pageId</th>\n",
       "      <th>widgetId</th>\n",
       "      <th>userId</th>\n",
       "      <th>device</th>\n",
       "      <th>OS</th>\n",
       "      <th>browser</th>\n",
       "    </tr>\n",
       "  </thead>\n",
       "  <tbody>\n",
       "    <tr>\n",
       "      <th>count</th>\n",
       "      <td>1.083071e+06</td>\n",
       "      <td>1.083071e+06</td>\n",
       "      <td>1.083071e+06</td>\n",
       "      <td>1.083071e+06</td>\n",
       "      <td>1.083071e+06</td>\n",
       "      <td>1.083071e+06</td>\n",
       "      <td>1.083071e+06</td>\n",
       "      <td>1.083071e+06</td>\n",
       "    </tr>\n",
       "    <tr>\n",
       "      <th>mean</th>\n",
       "      <td>2.517466e+06</td>\n",
       "      <td>1.579188e+12</td>\n",
       "      <td>5.311521e+06</td>\n",
       "      <td>7.464358e+03</td>\n",
       "      <td>1.239831e+06</td>\n",
       "      <td>2.737623e-01</td>\n",
       "      <td>3.605101e-01</td>\n",
       "      <td>1.117450e+00</td>\n",
       "    </tr>\n",
       "    <tr>\n",
       "      <th>std</th>\n",
       "      <td>1.313295e+06</td>\n",
       "      <td>4.583947e+08</td>\n",
       "      <td>3.725029e+06</td>\n",
       "      <td>4.394785e+03</td>\n",
       "      <td>7.914076e+05</td>\n",
       "      <td>4.541610e-01</td>\n",
       "      <td>6.267258e-01</td>\n",
       "      <td>2.539904e+00</td>\n",
       "    </tr>\n",
       "    <tr>\n",
       "      <th>min</th>\n",
       "      <td>1.516500e+05</td>\n",
       "      <td>1.578429e+12</td>\n",
       "      <td>4.000000e+00</td>\n",
       "      <td>9.000000e+00</td>\n",
       "      <td>8.000000e+00</td>\n",
       "      <td>0.000000e+00</td>\n",
       "      <td>0.000000e+00</td>\n",
       "      <td>0.000000e+00</td>\n",
       "    </tr>\n",
       "    <tr>\n",
       "      <th>25%</th>\n",
       "      <td>1.328586e+06</td>\n",
       "      <td>1.578799e+12</td>\n",
       "      <td>4.120830e+05</td>\n",
       "      <td>3.582000e+03</td>\n",
       "      <td>5.335820e+05</td>\n",
       "      <td>0.000000e+00</td>\n",
       "      <td>0.000000e+00</td>\n",
       "      <td>0.000000e+00</td>\n",
       "    </tr>\n",
       "    <tr>\n",
       "      <th>50%</th>\n",
       "      <td>2.579519e+06</td>\n",
       "      <td>1.579161e+12</td>\n",
       "      <td>6.627877e+06</td>\n",
       "      <td>7.711000e+03</td>\n",
       "      <td>1.172044e+06</td>\n",
       "      <td>0.000000e+00</td>\n",
       "      <td>0.000000e+00</td>\n",
       "      <td>0.000000e+00</td>\n",
       "    </tr>\n",
       "    <tr>\n",
       "      <th>75%</th>\n",
       "      <td>3.661700e+06</td>\n",
       "      <td>1.579599e+12</td>\n",
       "      <td>8.463374e+06</td>\n",
       "      <td>1.157100e+04</td>\n",
       "      <td>1.938347e+06</td>\n",
       "      <td>1.000000e+00</td>\n",
       "      <td>1.000000e+00</td>\n",
       "      <td>1.000000e+00</td>\n",
       "    </tr>\n",
       "    <tr>\n",
       "      <th>max</th>\n",
       "      <td>4.706267e+06</td>\n",
       "      <td>1.579984e+12</td>\n",
       "      <td>1.056114e+07</td>\n",
       "      <td>1.436600e+04</td>\n",
       "      <td>2.688642e+06</td>\n",
       "      <td>3.000000e+00</td>\n",
       "      <td>7.000000e+00</td>\n",
       "      <td>1.020000e+02</td>\n",
       "    </tr>\n",
       "  </tbody>\n",
       "</table>\n",
       "</div>"
      ],
      "text/plain": [
       "          displayId     timestamp        pageId      widgetId        userId  \\\n",
       "count  1.083071e+06  1.083071e+06  1.083071e+06  1.083071e+06  1.083071e+06   \n",
       "mean   2.517466e+06  1.579188e+12  5.311521e+06  7.464358e+03  1.239831e+06   \n",
       "std    1.313295e+06  4.583947e+08  3.725029e+06  4.394785e+03  7.914076e+05   \n",
       "min    1.516500e+05  1.578429e+12  4.000000e+00  9.000000e+00  8.000000e+00   \n",
       "25%    1.328586e+06  1.578799e+12  4.120830e+05  3.582000e+03  5.335820e+05   \n",
       "50%    2.579519e+06  1.579161e+12  6.627877e+06  7.711000e+03  1.172044e+06   \n",
       "75%    3.661700e+06  1.579599e+12  8.463374e+06  1.157100e+04  1.938347e+06   \n",
       "max    4.706267e+06  1.579984e+12  1.056114e+07  1.436600e+04  2.688642e+06   \n",
       "\n",
       "             device            OS       browser  \n",
       "count  1.083071e+06  1.083071e+06  1.083071e+06  \n",
       "mean   2.737623e-01  3.605101e-01  1.117450e+00  \n",
       "std    4.541610e-01  6.267258e-01  2.539904e+00  \n",
       "min    0.000000e+00  0.000000e+00  0.000000e+00  \n",
       "25%    0.000000e+00  0.000000e+00  0.000000e+00  \n",
       "50%    0.000000e+00  0.000000e+00  0.000000e+00  \n",
       "75%    1.000000e+00  1.000000e+00  1.000000e+00  \n",
       "max    3.000000e+00  7.000000e+00  1.020000e+02  "
      ]
     },
     "execution_count": 83,
     "metadata": {},
     "output_type": "execute_result"
    }
   ],
   "source": [
    "df.describe()"
   ]
  },
  {
   "cell_type": "code",
   "execution_count": 84,
   "metadata": {},
   "outputs": [
    {
     "name": "stdout",
     "output_type": "stream",
     "text": [
      "displayId is in range of 243751 to 4706262 \n",
      "\n",
      "timestamp is in range of 1579984161010 to 1578429005696 \n",
      "\n",
      "pageId is in range of 104462 to 3543873 \n",
      "\n",
      "widgetId is in range of 9448 to 6262 \n",
      "\n",
      "userId is in range of 22 to 2688642 \n",
      "\n",
      "device is in range of 3 to 0 \n",
      "\n",
      "OS is in range of 7 to 0 \n",
      "\n",
      "browser is in range of 54 to 0 \n",
      "\n"
     ]
    }
   ],
   "source": [
    "print(\"\"\"displayId is in range of {} to {} \\n\n",
    "timestamp is in range of {} to {} \\n\n",
    "pageId is in range of {} to {} \\n\n",
    "widgetId is in range of {} to {} \\n\n",
    "userId is in range of {} to {} \\n\n",
    "device is in range of {} to {} \\n\n",
    "OS is in range of {} to {} \\n\n",
    "browser is in range of {} to {} \\n\"\"\".format(df['displayId'].unique()[-1] , df['displayId'].unique()[0] , \n",
    "                                              df['timestamp'].unique()[-1] , df['timestamp'].unique()[0] ,\n",
    "                                                df['pageId'].unique()[-1] , df['pageId'].unique()[0],\n",
    "                                            df['widgetId'].unique()[-1] , df['widgetId'].unique()[0],\n",
    "                                            df['userId'].unique()[-1] , df['userId'].unique()[0],\n",
    "                                            df['device'].unique()[-1] , df['device'].unique()[0],\n",
    "                                            df['OS'].unique()[-1] , df['OS'].unique()[0],\n",
    "                                            df['browser'].unique()[-1] , df['browser'].unique()[0]))"
   ]
  },
  {
   "cell_type": "code",
   "execution_count": 85,
   "metadata": {},
   "outputs": [
    {
     "name": "stdout",
     "output_type": "stream",
     "text": [
      "There is No nan values \n"
     ]
    }
   ],
   "source": [
    "#check for nan values\n",
    "print(\"There is {} nan values \".format(\"\" if df.isna().values.any() else \"No\"))"
   ]
  },
  {
   "cell_type": "code",
   "execution_count": 86,
   "metadata": {},
   "outputs": [
    {
     "name": "stdout",
     "output_type": "stream",
     "text": [
      "column displayId\n",
      "top three most frequent elements are\n",
      " 4198398    1\n",
      "3172184    1\n",
      "3227507    1\n",
      "Name: displayId, dtype: int64  \n",
      " \n",
      "          top three least frequent elements are\n",
      " 2224788    1\n",
      "4311699    1\n",
      "4194304    1\n",
      "Name: displayId, dtype: int64  \n",
      "--------------end of displayId----------------\n",
      "column timestamp\n",
      "top three most frequent elements are\n",
      " 1579718344271    69\n",
      "1579719861875    55\n",
      "1579580613909    42\n",
      "Name: timestamp, dtype: int64  \n",
      " \n",
      "          top three least frequent elements are\n",
      " 1578550473864    1\n",
      "1579510306515    1\n",
      "1579336968428    1\n",
      "Name: timestamp, dtype: int64  \n",
      "--------------end of timestamp----------------\n",
      "column pageId\n",
      "top three most frequent elements are\n",
      " 8116       20023\n",
      "2285483    17862\n",
      "205         9588\n",
      "Name: pageId, dtype: int64  \n",
      " \n",
      "          top three least frequent elements are\n",
      " 5131344    1\n",
      "9333844    1\n",
      "166570     1\n",
      "Name: pageId, dtype: int64  \n",
      "--------------end of pageId----------------\n",
      "column widgetId\n",
      "top three most frequent elements are\n",
      " 7759     45631\n",
      "13728    31234\n",
      "607      28570\n",
      "Name: widgetId, dtype: int64  \n",
      " \n",
      "          top three least frequent elements are\n",
      " 9402     1\n",
      "11020    1\n",
      "8409     1\n",
      "Name: widgetId, dtype: int64  \n",
      "--------------end of widgetId----------------\n",
      "column userId\n",
      "top three most frequent elements are\n",
      " 26033     323\n",
      "163374    289\n",
      "8409      279\n",
      "Name: userId, dtype: int64  \n",
      " \n",
      "          top three least frequent elements are\n",
      " 2581094    1\n",
      "2587237    1\n",
      "2097152    1\n",
      "Name: userId, dtype: int64  \n",
      "--------------end of userId----------------\n",
      "column device\n",
      "top three most frequent elements are\n",
      " 0    790425\n",
      "1    288962\n",
      "2      3510\n",
      "Name: device, dtype: int64  \n",
      " \n",
      "          top three least frequent elements are\n",
      " 1    288962\n",
      "2      3510\n",
      "3       174\n",
      "Name: device, dtype: int64  \n",
      "--------------end of device----------------\n",
      "column OS\n",
      "top three most frequent elements are\n",
      " 0    755570\n",
      "1    280068\n",
      "2     38343\n",
      "Name: OS, dtype: int64  \n",
      " \n",
      "          top three least frequent elements are\n",
      " 4    1137\n",
      "6     195\n",
      "7       1\n",
      "Name: OS, dtype: int64  \n",
      "--------------end of OS----------------\n",
      "column browser\n",
      "top three most frequent elements are\n",
      " 0    751600\n",
      "1    115003\n",
      "4    104810\n",
      "Name: browser, dtype: int64  \n",
      " \n",
      "          top three least frequent elements are\n",
      " 95    1\n",
      "97    1\n",
      "79    1\n",
      "Name: browser, dtype: int64  \n",
      "--------------end of browser----------------\n"
     ]
    }
   ],
   "source": [
    "#find most frequent element\n",
    "for e in df.columns:\n",
    "    print(\"column {}\".format(e))\n",
    "    items_counts = df[e].value_counts()\n",
    "    print(\"\"\"top three most frequent elements are\\n {}  \\n \n",
    "          top three least frequent elements are\\n {}  \"\"\".format(items_counts[:3] , items_counts[-3:]))\n",
    "    print(\"--------------end of {}----------------\".format(e))"
   ]
  },
  {
   "cell_type": "markdown",
   "metadata": {},
   "source": [
    "### click_train.csv"
   ]
  },
  {
   "cell_type": "code",
   "execution_count": 87,
   "metadata": {},
   "outputs": [],
   "source": [
    "df = pd.read_csv('../datadays2020/click_train.csv')"
   ]
  },
  {
   "cell_type": "code",
   "execution_count": 88,
   "metadata": {},
   "outputs": [
    {
     "data": {
      "text/html": [
       "<div>\n",
       "<style scoped>\n",
       "    .dataframe tbody tr th:only-of-type {\n",
       "        vertical-align: middle;\n",
       "    }\n",
       "\n",
       "    .dataframe tbody tr th {\n",
       "        vertical-align: top;\n",
       "    }\n",
       "\n",
       "    .dataframe thead th {\n",
       "        text-align: right;\n",
       "    }\n",
       "</style>\n",
       "<table border=\"1\" class=\"dataframe\">\n",
       "  <thead>\n",
       "    <tr style=\"text-align: right;\">\n",
       "      <th></th>\n",
       "      <th>displayId</th>\n",
       "      <th>adId</th>\n",
       "      <th>clicked</th>\n",
       "    </tr>\n",
       "  </thead>\n",
       "  <tbody>\n",
       "    <tr>\n",
       "      <th>0</th>\n",
       "      <td>1210227</td>\n",
       "      <td>7182</td>\n",
       "      <td>0</td>\n",
       "    </tr>\n",
       "    <tr>\n",
       "      <th>1</th>\n",
       "      <td>1210227</td>\n",
       "      <td>7125</td>\n",
       "      <td>0</td>\n",
       "    </tr>\n",
       "    <tr>\n",
       "      <th>2</th>\n",
       "      <td>1210227</td>\n",
       "      <td>7181</td>\n",
       "      <td>0</td>\n",
       "    </tr>\n",
       "    <tr>\n",
       "      <th>3</th>\n",
       "      <td>1210227</td>\n",
       "      <td>535</td>\n",
       "      <td>0</td>\n",
       "    </tr>\n",
       "    <tr>\n",
       "      <th>4</th>\n",
       "      <td>1210227</td>\n",
       "      <td>7174</td>\n",
       "      <td>1</td>\n",
       "    </tr>\n",
       "  </tbody>\n",
       "</table>\n",
       "</div>"
      ],
      "text/plain": [
       "   displayId  adId  clicked\n",
       "0    1210227  7182        0\n",
       "1    1210227  7125        0\n",
       "2    1210227  7181        0\n",
       "3    1210227   535        0\n",
       "4    1210227  7174        1"
      ]
     },
     "execution_count": 88,
     "metadata": {},
     "output_type": "execute_result"
    }
   ],
   "source": [
    "df.head()"
   ]
  },
  {
   "cell_type": "code",
   "execution_count": 89,
   "metadata": {},
   "outputs": [
    {
     "data": {
      "text/html": [
       "<div>\n",
       "<style scoped>\n",
       "    .dataframe tbody tr th:only-of-type {\n",
       "        vertical-align: middle;\n",
       "    }\n",
       "\n",
       "    .dataframe tbody tr th {\n",
       "        vertical-align: top;\n",
       "    }\n",
       "\n",
       "    .dataframe thead th {\n",
       "        text-align: right;\n",
       "    }\n",
       "</style>\n",
       "<table border=\"1\" class=\"dataframe\">\n",
       "  <thead>\n",
       "    <tr style=\"text-align: right;\">\n",
       "      <th></th>\n",
       "      <th>displayId</th>\n",
       "      <th>adId</th>\n",
       "      <th>clicked</th>\n",
       "    </tr>\n",
       "  </thead>\n",
       "  <tbody>\n",
       "    <tr>\n",
       "      <th>count</th>\n",
       "      <td>3.642244e+06</td>\n",
       "      <td>3.642244e+06</td>\n",
       "      <td>3.642244e+06</td>\n",
       "    </tr>\n",
       "    <tr>\n",
       "      <th>mean</th>\n",
       "      <td>3.105835e+06</td>\n",
       "      <td>3.853480e+03</td>\n",
       "      <td>2.230227e-01</td>\n",
       "    </tr>\n",
       "    <tr>\n",
       "      <th>std</th>\n",
       "      <td>9.807950e+05</td>\n",
       "      <td>2.465609e+03</td>\n",
       "      <td>4.162735e-01</td>\n",
       "    </tr>\n",
       "    <tr>\n",
       "      <th>min</th>\n",
       "      <td>1.210227e+06</td>\n",
       "      <td>6.000000e+00</td>\n",
       "      <td>0.000000e+00</td>\n",
       "    </tr>\n",
       "    <tr>\n",
       "      <th>25%</th>\n",
       "      <td>2.246184e+06</td>\n",
       "      <td>6.810000e+02</td>\n",
       "      <td>0.000000e+00</td>\n",
       "    </tr>\n",
       "    <tr>\n",
       "      <th>50%</th>\n",
       "      <td>3.162424e+06</td>\n",
       "      <td>5.049000e+03</td>\n",
       "      <td>0.000000e+00</td>\n",
       "    </tr>\n",
       "    <tr>\n",
       "      <th>75%</th>\n",
       "      <td>3.913442e+06</td>\n",
       "      <td>5.890000e+03</td>\n",
       "      <td>0.000000e+00</td>\n",
       "    </tr>\n",
       "    <tr>\n",
       "      <th>max</th>\n",
       "      <td>4.706267e+06</td>\n",
       "      <td>7.182000e+03</td>\n",
       "      <td>1.000000e+00</td>\n",
       "    </tr>\n",
       "  </tbody>\n",
       "</table>\n",
       "</div>"
      ],
      "text/plain": [
       "          displayId          adId       clicked\n",
       "count  3.642244e+06  3.642244e+06  3.642244e+06\n",
       "mean   3.105835e+06  3.853480e+03  2.230227e-01\n",
       "std    9.807950e+05  2.465609e+03  4.162735e-01\n",
       "min    1.210227e+06  6.000000e+00  0.000000e+00\n",
       "25%    2.246184e+06  6.810000e+02  0.000000e+00\n",
       "50%    3.162424e+06  5.049000e+03  0.000000e+00\n",
       "75%    3.913442e+06  5.890000e+03  0.000000e+00\n",
       "max    4.706267e+06  7.182000e+03  1.000000e+00"
      ]
     },
     "execution_count": 89,
     "metadata": {},
     "output_type": "execute_result"
    }
   ],
   "source": [
    "df.describe()"
   ]
  },
  {
   "cell_type": "code",
   "execution_count": 90,
   "metadata": {},
   "outputs": [
    {
     "name": "stdout",
     "output_type": "stream",
     "text": [
      "displayId is in range of 4706267 to 1210227 \n",
      "\n",
      "adId is in range of 5434 to 7182 \n",
      "\n",
      "clicked is in range of 1 to 0 \n",
      "\n"
     ]
    }
   ],
   "source": [
    "print(\"\"\"displayId is in range of {} to {} \\n\n",
    "adId is in range of {} to {} \\n\n",
    "clicked is in range of {} to {} \\n\"\"\".format(df['displayId'].unique()[-1] , df['displayId'].unique()[0] , \n",
    "                                              df['adId'].unique()[-1] , df['adId'].unique()[0] ,\n",
    "                                                df['clicked'].unique()[-1] , df['clicked'].unique()[0]))"
   ]
  },
  {
   "cell_type": "code",
   "execution_count": 91,
   "metadata": {},
   "outputs": [
    {
     "name": "stdout",
     "output_type": "stream",
     "text": [
      "There is No nan values \n"
     ]
    }
   ],
   "source": [
    "#check for nan values\n",
    "print(\"There is {} nan values \".format(\"\" if df.isna().values.any() else \"No\"))"
   ]
  },
  {
   "cell_type": "code",
   "execution_count": 92,
   "metadata": {},
   "outputs": [
    {
     "name": "stdout",
     "output_type": "stream",
     "text": [
      "column displayId\n",
      "top three most frequent elements are\n",
      " 3771253    24\n",
      "3773290    23\n",
      "1987676    16\n",
      "Name: displayId, dtype: int64  \n",
      " \n",
      "          top three least frequent elements are\n",
      " 3584017    2\n",
      "1882770    2\n",
      "3800813    2\n",
      "Name: displayId, dtype: int64  \n",
      "--------------end of displayId----------------\n",
      "column adId\n",
      "top three most frequent elements are\n",
      " 17      67562\n",
      "5486    49444\n",
      "535     46456\n",
      "Name: adId, dtype: int64  \n",
      " \n",
      "          top three least frequent elements are\n",
      " 6452    1\n",
      "6451    1\n",
      "5269    1\n",
      "Name: adId, dtype: int64  \n",
      "--------------end of adId----------------\n",
      "column clicked\n",
      "top three most frequent elements are\n",
      " 0    2829941\n",
      "1     812303\n",
      "Name: clicked, dtype: int64  \n",
      " \n",
      "          top three least frequent elements are\n",
      " 0    2829941\n",
      "1     812303\n",
      "Name: clicked, dtype: int64  \n",
      "--------------end of clicked----------------\n"
     ]
    }
   ],
   "source": [
    "#find most frequent element\n",
    "for e in df.columns:\n",
    "    print(\"column {}\".format(e))\n",
    "    items_counts = df[e].value_counts()\n",
    "    print(\"\"\"top three most frequent elements are\\n {}  \\n \n",
    "          top three least frequent elements are\\n {}  \"\"\".format(items_counts[:3] , items_counts[-3:]))\n",
    "    print(\"--------------end of {}----------------\".format(e))"
   ]
  },
  {
   "cell_type": "code",
   "execution_count": null,
   "metadata": {},
   "outputs": [],
   "source": []
  },
  {
   "cell_type": "code",
   "execution_count": null,
   "metadata": {},
   "outputs": [],
   "source": []
  }
 ],
 "metadata": {
  "kernelspec": {
   "display_name": "Python 3",
   "language": "python",
   "name": "python3"
  },
  "language_info": {
   "codemirror_mode": {
    "name": "ipython",
    "version": 3
   },
   "file_extension": ".py",
   "mimetype": "text/x-python",
   "name": "python",
   "nbconvert_exporter": "python",
   "pygments_lexer": "ipython3",
   "version": "3.6.8"
  }
 },
 "nbformat": 4,
 "nbformat_minor": 2
}
